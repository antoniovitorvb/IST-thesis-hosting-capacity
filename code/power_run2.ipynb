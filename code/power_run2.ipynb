{
 "cells": [
  {
   "cell_type": "markdown",
   "metadata": {},
   "source": [
    "# Hosting Capacity Spatial Mapping Models to Support Decision Making\n",
    "\n",
    "## A Reduced Electrically-Equivalent Model of the IEEE European Low Voltage\n",
    "\n",
    "### Panda Power"
   ]
  },
  {
   "cell_type": "code",
   "execution_count": 1,
   "metadata": {},
   "outputs": [],
   "source": [
    "import pandas as pd\n",
    "import pandapower as pp\n",
    "import numpy as np\n",
    "import os\n",
    "\n",
    "data_dir = 'Modified_116_LV_CSV'"
   ]
  },
  {
   "cell_type": "markdown",
   "metadata": {},
   "source": [
    "<div style=\"text-align: center;\">\n",
    "    <div style=\"background-color: white; display: inline-block; padding: 10px;\">\n",
    "        <img src=\"Modified_116_LV_CSV/Modified 116 LV feeder.png\" width=\"600px\">\n",
    "    </div>\n",
    "</div>"
   ]
  },
  {
   "cell_type": "code",
   "execution_count": 2,
   "metadata": {},
   "outputs": [
    {
     "name": "stdout",
     "output_type": "stream",
     "text": [
      "{'Voltage': 11.0, 'pu': 1.05, 'ISC3': 3000.0, 'ISC1': 5.0}\n",
      "{'Name': 'TR1', ' phases': 3, ' bus1': 'SourceBus', ' bus2': 1, ' kV_pri': 11, ' kV_sec': 0.416, ' MVA': 0.8, ' Conn_pri': ' Delta', ' Conn_sec': ' Wye', ' %XHL': 4, '% resistance': 0.4}\n"
     ]
    }
   ],
   "source": [
    "# Source data\n",
    "source_df = pd.read_csv(os.path.join(data_dir,'Source.csv'), skiprows=1, sep='=')\n",
    "source_dict = {i:float(row.iloc[0].split()[0]) for i, row in source_df.iterrows()}\n",
    "print(source_dict)\n",
    "\n",
    "source_dict['ISC1'] = source_dict['ISC1'] / 1000\n",
    "source_dict['ISC3'] = source_dict['ISC3'] / 1000\n",
    "\n",
    "# Transformer data\n",
    "trafo_df = pd.read_csv(os.path.join(data_dir,'Transformer.csv'), skiprows=1, sep=';')\n",
    "trafo_dict = trafo_df.iloc[0].to_dict()\n",
    "print(trafo_dict)"
   ]
  },
  {
   "cell_type": "code",
   "execution_count": 3,
   "metadata": {},
   "outputs": [
    {
     "data": {
      "text/plain": [
       "0"
      ]
     },
     "execution_count": 3,
     "metadata": {},
     "output_type": "execute_result"
    }
   ],
   "source": [
    "s_sc_mva = np.sqrt(3) * source_dict['Voltage'] * source_dict['ISC3'] #MVA\n",
    "\n",
    "net = pp.create_empty_network()\n",
    "\n",
    "bus_map = {}\n",
    "\n",
    "hv_bus = pp.create_bus(net, name=trafo_dict[' bus1'], vn_kv=source_dict['Voltage'], type=\"b\")\n",
    "lv_bus = pp.create_bus(net, name=trafo_dict[' bus2'], vn_kv=trafo_dict[' kV_sec'], type=\"b\")\n",
    "\n",
    "bus_map[trafo_dict[' bus1']] = hv_bus\n",
    "bus_map[trafo_dict[' bus2']] = lv_bus\n",
    "\n",
    "pp.create_ext_grid(net, bus=hv_bus, vm_pu=source_dict['pu'], s_sc_max_mva=s_sc_mva, rx_max=0.1)\n",
    "\n",
    "pp.create_transformer_from_parameters(\n",
    "    net=net, hv_bus=hv_bus, lv_bus=lv_bus,\n",
    "    sn_mva=trafo_dict[' MVA'],\n",
    "    vn_hv_kv=trafo_dict[' kV_pri'],\n",
    "    vn_lv_kv=trafo_dict[' kV_sec'],\n",
    "    vk_percent=trafo_dict[' %XHL'],\n",
    "    vkr_percent=trafo_dict['% resistance'],\n",
    "    pfe_kw=0.0, i0_percent=0.0, shift_degree=0.0, \n",
    "    name=trafo_dict['Name']\n",
    ")"
   ]
  },
  {
   "cell_type": "code",
   "execution_count": 4,
   "metadata": {},
   "outputs": [],
   "source": [
    "lines_df = pd.read_excel(os.path.join(data_dir, \"Lines.xlsx\"), skiprows=1)\n",
    "lines_df['Length'] = lines_df['Length'] / 1000 # m to km\n",
    "lines_df['Units'] = 'km'\n",
    "lines_df.head()\n",
    "\n",
    "lineCodes_df = pd.read_csv(os.path.join(data_dir, \"LineCodes.csv\"), skiprows=1, sep=';')\n",
    "\n",
    "all_bus_ids = np.unique(lines_df[['Bus1', 'Bus2']].values.ravel('K'))\n",
    "for id in all_bus_ids:\n",
    "    if id not in bus_map.keys():\n",
    "        bus = pp.create_bus(net, name=id, vn_kv=trafo_dict[' kV_sec'], type=\"b\")\n",
    "        bus_map[id] = bus"
   ]
  },
  {
   "cell_type": "markdown",
   "metadata": {},
   "source": [
    "to create a line from parameters `pp.create_line_from_parameters` we must first assign a `max_i_ka` per LineCode.\n",
    "\n",
    "Here is the Standard Line Parameters for PandaPower:"
   ]
  },
  {
   "cell_type": "code",
   "execution_count": 6,
   "metadata": {},
   "outputs": [
    {
     "data": {
      "text/plain": [
       "count    51.000000\n",
       "mean      0.432314\n",
       "std       0.269581\n",
       "min       0.105000\n",
       "25%       0.250500\n",
       "50%       0.350000\n",
       "75%       0.498000\n",
       "max       1.150000\n",
       "Name: max_i_ka, dtype: float64"
      ]
     },
     "execution_count": 6,
     "metadata": {},
     "output_type": "execute_result"
    }
   ],
   "source": [
    "StdLineCodes_df = pd.read_csv(os.path.join(data_dir, 'StandardLineCodes.csv'), sep=';')\n",
    "# print(StdLineCodes_df.head())\n",
    "StdLineCodes_df['max_i_ka'].describe()"
   ]
  },
  {
   "cell_type": "code",
   "execution_count": 7,
   "metadata": {},
   "outputs": [
    {
     "name": "stdout",
     "output_type": "stream",
     "text": [
      "{'r_ohm_per_km': -0.027992220631350536, 'x_ohm_per_km': -0.862038384077252, 'c_nf_per_km': -0.0013628970743908564, 'intercept': 0.8237539896121313}\n",
      "[0.71529451 0.71570356 0.72014921 0.74597276 0.75315532 0.76307509\n",
      " 0.75006473 0.75094965]\n"
     ]
    }
   ],
   "source": [
    "from sklearn.linear_model import LinearRegression\n",
    "\n",
    "X = StdLineCodes_df[['r_ohm_per_km', 'x_ohm_per_km', 'c_nf_per_km']]\n",
    "Y = StdLineCodes_df['max_i_ka']\n",
    "\n",
    "x_test = lineCodes_df[['Name', 'R1', 'X1', 'C1']].set_index('Name')\n",
    "x_test.columns = X.columns\n",
    "\n",
    "model = LinearRegression()\n",
    "model.fit(X, Y)\n",
    "\n",
    "coefficients = dict(zip(X.columns, model.coef_))\n",
    "intercept = model.intercept_\n",
    "\n",
    "coefficients[\"intercept\"] = intercept\n",
    "print(coefficients)\n",
    "\n",
    "y_pred = model.predict(x_test)\n",
    "print(y_pred)"
   ]
  },
  {
   "cell_type": "code",
   "execution_count": 8,
   "metadata": {},
   "outputs": [
    {
     "name": "stdout",
     "output_type": "stream",
     "text": [
      "[0.19    0.19    0.315   0.48425 0.48425 0.48425 0.48425 0.48425]\n"
     ]
    },
    {
     "data": {
      "text/html": [
       "<div>\n",
       "<style scoped>\n",
       "    .dataframe tbody tr th:only-of-type {\n",
       "        vertical-align: middle;\n",
       "    }\n",
       "\n",
       "    .dataframe tbody tr th {\n",
       "        vertical-align: top;\n",
       "    }\n",
       "\n",
       "    .dataframe thead th {\n",
       "        text-align: right;\n",
       "    }\n",
       "</style>\n",
       "<table border=\"1\" class=\"dataframe\">\n",
       "  <thead>\n",
       "    <tr style=\"text-align: right;\">\n",
       "      <th></th>\n",
       "      <th>Name</th>\n",
       "      <th>nphases</th>\n",
       "      <th>R1</th>\n",
       "      <th>X1</th>\n",
       "      <th>R0</th>\n",
       "      <th>X0</th>\n",
       "      <th>C1</th>\n",
       "      <th>C0</th>\n",
       "      <th>Units</th>\n",
       "      <th>max_i_ka</th>\n",
       "    </tr>\n",
       "  </thead>\n",
       "  <tbody>\n",
       "    <tr>\n",
       "      <th>0</th>\n",
       "      <td>2c_.0225</td>\n",
       "      <td>3</td>\n",
       "      <td>1.257</td>\n",
       "      <td>0.0850</td>\n",
       "      <td>1.257</td>\n",
       "      <td>0.085</td>\n",
       "      <td>0</td>\n",
       "      <td>0</td>\n",
       "      <td>km</td>\n",
       "      <td>0.19000</td>\n",
       "    </tr>\n",
       "    <tr>\n",
       "      <th>1</th>\n",
       "      <td>2c_16</td>\n",
       "      <td>3</td>\n",
       "      <td>1.150</td>\n",
       "      <td>0.0880</td>\n",
       "      <td>1.200</td>\n",
       "      <td>0.088</td>\n",
       "      <td>0</td>\n",
       "      <td>0</td>\n",
       "      <td>km</td>\n",
       "      <td>0.19000</td>\n",
       "    </tr>\n",
       "    <tr>\n",
       "      <th>2</th>\n",
       "      <td>35_SAC_XSC</td>\n",
       "      <td>3</td>\n",
       "      <td>0.868</td>\n",
       "      <td>0.0920</td>\n",
       "      <td>0.760</td>\n",
       "      <td>0.092</td>\n",
       "      <td>0</td>\n",
       "      <td>0</td>\n",
       "      <td>km</td>\n",
       "      <td>0.31500</td>\n",
       "    </tr>\n",
       "    <tr>\n",
       "      <th>3</th>\n",
       "      <td>4c_.06</td>\n",
       "      <td>3</td>\n",
       "      <td>0.469</td>\n",
       "      <td>0.0750</td>\n",
       "      <td>1.581</td>\n",
       "      <td>0.091</td>\n",
       "      <td>0</td>\n",
       "      <td>0</td>\n",
       "      <td>km</td>\n",
       "      <td>0.48425</td>\n",
       "    </tr>\n",
       "    <tr>\n",
       "      <th>4</th>\n",
       "      <td>4c_.1</td>\n",
       "      <td>3</td>\n",
       "      <td>0.274</td>\n",
       "      <td>0.0730</td>\n",
       "      <td>0.959</td>\n",
       "      <td>0.079</td>\n",
       "      <td>0</td>\n",
       "      <td>0</td>\n",
       "      <td>km</td>\n",
       "      <td>0.48425</td>\n",
       "    </tr>\n",
       "    <tr>\n",
       "      <th>5</th>\n",
       "      <td>4c_.35</td>\n",
       "      <td>3</td>\n",
       "      <td>0.089</td>\n",
       "      <td>0.0675</td>\n",
       "      <td>0.319</td>\n",
       "      <td>0.076</td>\n",
       "      <td>0</td>\n",
       "      <td>0</td>\n",
       "      <td>km</td>\n",
       "      <td>0.48425</td>\n",
       "    </tr>\n",
       "    <tr>\n",
       "      <th>6</th>\n",
       "      <td>4c_70</td>\n",
       "      <td>3</td>\n",
       "      <td>0.446</td>\n",
       "      <td>0.0710</td>\n",
       "      <td>1.505</td>\n",
       "      <td>0.083</td>\n",
       "      <td>0</td>\n",
       "      <td>0</td>\n",
       "      <td>km</td>\n",
       "      <td>0.48425</td>\n",
       "    </tr>\n",
       "    <tr>\n",
       "      <th>7</th>\n",
       "      <td>4c_95_SAC_XC</td>\n",
       "      <td>3</td>\n",
       "      <td>0.322</td>\n",
       "      <td>0.0740</td>\n",
       "      <td>0.804</td>\n",
       "      <td>0.093</td>\n",
       "      <td>0</td>\n",
       "      <td>0</td>\n",
       "      <td>km</td>\n",
       "      <td>0.48425</td>\n",
       "    </tr>\n",
       "  </tbody>\n",
       "</table>\n",
       "</div>"
      ],
      "text/plain": [
       "           Name  nphases     R1      X1     R0     X0  C1  C0 Units  max_i_ka\n",
       "0      2c_.0225        3  1.257  0.0850  1.257  0.085   0   0    km   0.19000\n",
       "1         2c_16        3  1.150  0.0880  1.200  0.088   0   0    km   0.19000\n",
       "2    35_SAC_XSC        3  0.868  0.0920  0.760  0.092   0   0    km   0.31500\n",
       "3        4c_.06        3  0.469  0.0750  1.581  0.091   0   0    km   0.48425\n",
       "4         4c_.1        3  0.274  0.0730  0.959  0.079   0   0    km   0.48425\n",
       "5        4c_.35        3  0.089  0.0675  0.319  0.076   0   0    km   0.48425\n",
       "6         4c_70        3  0.446  0.0710  1.505  0.083   0   0    km   0.48425\n",
       "7  4c_95_SAC_XC        3  0.322  0.0740  0.804  0.093   0   0    km   0.48425"
      ]
     },
     "execution_count": 8,
     "metadata": {},
     "output_type": "execute_result"
    }
   ],
   "source": [
    "from sklearn.neighbors import KNeighborsRegressor\n",
    "from sklearn.preprocessing import StandardScaler\n",
    "\n",
    "scaler = StandardScaler()\n",
    "X_scaled = scaler.fit_transform(X)\n",
    "x_test_scaled = scaler.fit_transform(x_test)\n",
    "\n",
    "knn = KNeighborsRegressor(n_neighbors=4)\n",
    "knn.fit(X_scaled, Y)\n",
    "\n",
    "y_pred = knn.predict(x_test_scaled)\n",
    "print(y_pred)\n",
    "\n",
    "lineCodes_df['max_i_ka'] = y_pred\n",
    "lineCodes_df"
   ]
  },
  {
   "cell_type": "code",
   "execution_count": null,
   "metadata": {},
   "outputs": [],
   "source": [
    "full_line_df = lines_df.merge(lineCodes_df, left_on=\"LineCode\", right_on=\"Name\", how=\"left\")\n",
    "full_line_df.head(10)\n",
    "\n",
    "for _, line in full_line_df.head().iterrows():\n",
    "    # print(line)\n",
    "    pp.create_line_from_parameters(\n",
    "        net, from_bus = line['Bus1'], to_bus = line['Bus2'],\n",
    "        length_km = line['Length'],\n",
    "        r_ohm_per_km=line[\"R1\"],\n",
    "        x_ohm_per_km=line[\"X1\"],\n",
    "        c_nf_per_km=line[\"C1\"],\n",
    "        max_i_ka=line[\"max_i_ka\"],\n",
    "        name=line[\"Name_x\"]\n",
    "    )"
   ]
  },
  {
   "cell_type": "code",
   "execution_count": 10,
   "metadata": {},
   "outputs": [],
   "source": [
    "# Create Loads"
   ]
  }
 ],
 "metadata": {
  "kernelspec": {
   "display_name": "Python 3",
   "language": "python",
   "name": "python3"
  },
  "language_info": {
   "codemirror_mode": {
    "name": "ipython",
    "version": 3
   },
   "file_extension": ".py",
   "mimetype": "text/x-python",
   "name": "python",
   "nbconvert_exporter": "python",
   "pygments_lexer": "ipython3",
   "version": "3.10.11"
  }
 },
 "nbformat": 4,
 "nbformat_minor": 2
}
