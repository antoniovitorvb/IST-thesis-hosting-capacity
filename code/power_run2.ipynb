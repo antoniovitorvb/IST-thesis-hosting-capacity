{
 "cells": [
  {
   "cell_type": "markdown",
   "metadata": {},
   "source": [
    "# Hosting Capacity Spatial Mapping Models to Support Decision Making\n",
    "\n",
    "## A Reduced Electrically-Equivalent Model of the IEEE European Low Voltage\n",
    "\n",
    "### Panda Power"
   ]
  },
  {
   "cell_type": "code",
   "execution_count": 1,
   "metadata": {},
   "outputs": [
    {
     "name": "stdout",
     "output_type": "stream",
     "text": [
      "load C:\\Users\\vitor\\AppData\\Local\\Packages\\PythonSoftwareFoundation.Python.3.10_qbz5n2kfra8p0\\LocalCache\\local-packages\\Python310\\site-packages\\ortools\\.libs\\zlib1.dll...\n",
      "load C:\\Users\\vitor\\AppData\\Local\\Packages\\PythonSoftwareFoundation.Python.3.10_qbz5n2kfra8p0\\LocalCache\\local-packages\\Python310\\site-packages\\ortools\\.libs\\abseil_dll.dll...\n",
      "load C:\\Users\\vitor\\AppData\\Local\\Packages\\PythonSoftwareFoundation.Python.3.10_qbz5n2kfra8p0\\LocalCache\\local-packages\\Python310\\site-packages\\ortools\\.libs\\utf8_validity.dll...\n",
      "load C:\\Users\\vitor\\AppData\\Local\\Packages\\PythonSoftwareFoundation.Python.3.10_qbz5n2kfra8p0\\LocalCache\\local-packages\\Python310\\site-packages\\ortools\\.libs\\re2.dll...\n",
      "load C:\\Users\\vitor\\AppData\\Local\\Packages\\PythonSoftwareFoundation.Python.3.10_qbz5n2kfra8p0\\LocalCache\\local-packages\\Python310\\site-packages\\ortools\\.libs\\libprotobuf.dll...\n",
      "load C:\\Users\\vitor\\AppData\\Local\\Packages\\PythonSoftwareFoundation.Python.3.10_qbz5n2kfra8p0\\LocalCache\\local-packages\\Python310\\site-packages\\ortools\\.libs\\highs.dll...\n",
      "load C:\\Users\\vitor\\AppData\\Local\\Packages\\PythonSoftwareFoundation.Python.3.10_qbz5n2kfra8p0\\LocalCache\\local-packages\\Python310\\site-packages\\ortools\\.libs\\ortools.dll...\n"
     ]
    }
   ],
   "source": [
    "import pandas as pd\n",
    "import pandapower as pp\n",
    "import numpy as np\n",
    "import os, math\n",
    "\n",
    "data_dir = 'Modified_116_LV_CSV'"
   ]
  },
  {
   "cell_type": "markdown",
   "metadata": {},
   "source": [
    "<div style=\"text-align: center;\">\n",
    "    <div style=\"background-color: white; display: inline-block; padding: 10px;\">\n",
    "        <img src=\"Modified_116_LV_CSV/Modified 116 LV feeder.png\" width=\"600px\">\n",
    "    </div>\n",
    "</div>"
   ]
  },
  {
   "cell_type": "code",
   "execution_count": 2,
   "metadata": {},
   "outputs": [
    {
     "name": "stdout",
     "output_type": "stream",
     "text": [
      "{'Voltage': 11.0, 'pu': 1.05, 'ISC3': 3000.0, 'ISC1': 5.0}\n",
      "{'Name': 'TR1', ' phases': 3, ' bus1': 'SourceBus', ' bus2': 1, ' kV_pri': 11, ' kV_sec': 0.416, ' MVA': 0.8, ' Conn_pri': ' Delta', ' Conn_sec': ' Wye', ' %XHL': 4, '% resistance': 0.4}\n"
     ]
    }
   ],
   "source": [
    "# Source data\n",
    "source_df = pd.read_csv(os.path.join(data_dir,'Source.csv'), skiprows=1, sep='=')\n",
    "source_dict = {i:float(row.iloc[0].split()[0]) for i, row in source_df.iterrows()}\n",
    "print(source_dict)\n",
    "\n",
    "source_dict['ISC1'] = source_dict['ISC1'] / 1000\n",
    "source_dict['ISC3'] = source_dict['ISC3'] / 1000\n",
    "\n",
    "# Transformer data\n",
    "trafo_df = pd.read_csv(os.path.join(data_dir,'Transformer.csv'), skiprows=1, sep=';')\n",
    "trafo_dict = trafo_df.iloc[0].to_dict()\n",
    "print(trafo_dict)"
   ]
  },
  {
   "cell_type": "code",
   "execution_count": 3,
   "metadata": {},
   "outputs": [
    {
     "data": {
      "text/plain": [
       "0"
      ]
     },
     "execution_count": 3,
     "metadata": {},
     "output_type": "execute_result"
    }
   ],
   "source": [
    "s_sc_mva = np.sqrt(3) * source_dict['Voltage'] * source_dict['ISC3'] #MVA\n",
    "\n",
    "net = pp.create_empty_network()\n",
    "\n",
    "bus_map = {}\n",
    "\n",
    "hv_bus = pp.create_bus(net, name=trafo_dict[' bus1'], vn_kv=source_dict['Voltage'], type=\"b\")\n",
    "lv_bus = pp.create_bus(net, name=trafo_dict[' bus2'], vn_kv=trafo_dict[' kV_sec'], type=\"b\")\n",
    "\n",
    "bus_map[trafo_dict[' bus1']] = hv_bus\n",
    "bus_map[trafo_dict[' bus2']] = lv_bus\n",
    "\n",
    "pp.create_ext_grid(net, bus=hv_bus, vm_pu=source_dict['pu'], s_sc_max_mva=s_sc_mva, rx_max=0.1)\n",
    "\n",
    "pp.create_transformer_from_parameters(\n",
    "    net=net, hv_bus=hv_bus, lv_bus=lv_bus,\n",
    "    sn_mva=trafo_dict[' MVA'],\n",
    "    vn_hv_kv=trafo_dict[' kV_pri'],\n",
    "    vn_lv_kv=trafo_dict[' kV_sec'],\n",
    "    vk_percent=trafo_dict[' %XHL'],\n",
    "    vkr_percent=trafo_dict['% resistance'],\n",
    "    pfe_kw=0.0, i0_percent=0.0, shift_degree=0.0, \n",
    "    name=trafo_dict['Name']\n",
    ")"
   ]
  },
  {
   "cell_type": "code",
   "execution_count": 4,
   "metadata": {},
   "outputs": [],
   "source": [
    "lines_df = pd.read_excel(os.path.join(data_dir, \"Lines.xlsx\"), skiprows=1)\n",
    "# lines_df['Length'] = lines_df['Length'] / 1000 # m to km\n",
    "lines_df['Units'] = 'km'\n",
    "lines_df.head()\n",
    "\n",
    "lineCodes_df = pd.read_csv(os.path.join(data_dir, \"LineCodes.csv\"), skiprows=1, sep=';')\n",
    "\n",
    "all_bus_ids = np.unique(lines_df[['Bus1', 'Bus2']].values.ravel('K'))\n",
    "for id in all_bus_ids:\n",
    "    id = math.floor(id)\n",
    "    if id not in bus_map.keys():\n",
    "        bus = pp.create_bus(net, name=id, vn_kv=trafo_dict[' kV_sec'], type=\"b\")\n",
    "        bus_map[id] = bus"
   ]
  },
  {
   "cell_type": "code",
   "execution_count": 5,
   "metadata": {},
   "outputs": [
    {
     "name": "stdout",
     "output_type": "stream",
     "text": [
      "     Name  numPhases   Bus phases    kV  Model Connection  kW    PF    Yearly\n",
      "0   LOAD1          1   5.0      A  0.23      1        wye   1  0.95   Shape_1\n",
      "1   LOAD2          1   7.0      B  0.23      1        wye   1  0.95   Shape_2\n",
      "2   LOAD3          1  10.0      A  0.23      1        wye   1  0.95   Shape_3\n",
      "3   LOAD4          1  11.0      A  0.23      1        wye   1  0.95   Shape_4\n",
      "4   LOAD5          1  12.0      A  0.23      1        wye   1  0.95   Shape_5\n",
      "5   LOAD6          1  13.0      B  0.23      1        wye   1  0.95   Shape_6\n",
      "6   LOAD7          1  21.0      B  0.23      1        wye   1  0.95   Shape_7\n",
      "7   LOAD8          1  25.0      C  0.23      1        wye   1  0.95   Shape_8\n",
      "8   LOAD9          1  26.0      A  0.23      1        wye   1  0.95   Shape_9\n",
      "9  LOAD10          1  29.2      B  0.23      1        wye   1  0.95  Shape_10\n"
     ]
    },
    {
     "data": {
      "text/html": [
       "<div>\n",
       "<style scoped>\n",
       "    .dataframe tbody tr th:only-of-type {\n",
       "        vertical-align: middle;\n",
       "    }\n",
       "\n",
       "    .dataframe tbody tr th {\n",
       "        vertical-align: top;\n",
       "    }\n",
       "\n",
       "    .dataframe thead th {\n",
       "        text-align: right;\n",
       "    }\n",
       "</style>\n",
       "<table border=\"1\" class=\"dataframe\">\n",
       "  <thead>\n",
       "    <tr style=\"text-align: right;\">\n",
       "      <th></th>\n",
       "      <th>name</th>\n",
       "      <th>bus</th>\n",
       "      <th>p_a_mw</th>\n",
       "      <th>q_a_mvar</th>\n",
       "      <th>p_b_mw</th>\n",
       "      <th>q_b_mvar</th>\n",
       "      <th>p_c_mw</th>\n",
       "      <th>q_c_mvar</th>\n",
       "      <th>sn_mva</th>\n",
       "      <th>scaling</th>\n",
       "      <th>in_service</th>\n",
       "      <th>type</th>\n",
       "    </tr>\n",
       "  </thead>\n",
       "  <tbody>\n",
       "    <tr>\n",
       "      <th>0</th>\n",
       "      <td>LOAD1</td>\n",
       "      <td>5</td>\n",
       "      <td>0.001</td>\n",
       "      <td>0.000329</td>\n",
       "      <td>0.000</td>\n",
       "      <td>0.000000</td>\n",
       "      <td>0.000</td>\n",
       "      <td>0.000000</td>\n",
       "      <td>NaN</td>\n",
       "      <td>1.0</td>\n",
       "      <td>True</td>\n",
       "      <td>wye</td>\n",
       "    </tr>\n",
       "    <tr>\n",
       "      <th>1</th>\n",
       "      <td>LOAD2</td>\n",
       "      <td>7</td>\n",
       "      <td>0.000</td>\n",
       "      <td>0.000000</td>\n",
       "      <td>0.001</td>\n",
       "      <td>0.000329</td>\n",
       "      <td>0.000</td>\n",
       "      <td>0.000000</td>\n",
       "      <td>NaN</td>\n",
       "      <td>1.0</td>\n",
       "      <td>True</td>\n",
       "      <td>wye</td>\n",
       "    </tr>\n",
       "    <tr>\n",
       "      <th>2</th>\n",
       "      <td>LOAD3</td>\n",
       "      <td>10</td>\n",
       "      <td>0.001</td>\n",
       "      <td>0.000329</td>\n",
       "      <td>0.000</td>\n",
       "      <td>0.000000</td>\n",
       "      <td>0.000</td>\n",
       "      <td>0.000000</td>\n",
       "      <td>NaN</td>\n",
       "      <td>1.0</td>\n",
       "      <td>True</td>\n",
       "      <td>wye</td>\n",
       "    </tr>\n",
       "    <tr>\n",
       "      <th>3</th>\n",
       "      <td>LOAD4</td>\n",
       "      <td>11</td>\n",
       "      <td>0.001</td>\n",
       "      <td>0.000329</td>\n",
       "      <td>0.000</td>\n",
       "      <td>0.000000</td>\n",
       "      <td>0.000</td>\n",
       "      <td>0.000000</td>\n",
       "      <td>NaN</td>\n",
       "      <td>1.0</td>\n",
       "      <td>True</td>\n",
       "      <td>wye</td>\n",
       "    </tr>\n",
       "    <tr>\n",
       "      <th>4</th>\n",
       "      <td>LOAD5</td>\n",
       "      <td>12</td>\n",
       "      <td>0.001</td>\n",
       "      <td>0.000329</td>\n",
       "      <td>0.000</td>\n",
       "      <td>0.000000</td>\n",
       "      <td>0.000</td>\n",
       "      <td>0.000000</td>\n",
       "      <td>NaN</td>\n",
       "      <td>1.0</td>\n",
       "      <td>True</td>\n",
       "      <td>wye</td>\n",
       "    </tr>\n",
       "    <tr>\n",
       "      <th>5</th>\n",
       "      <td>LOAD6</td>\n",
       "      <td>13</td>\n",
       "      <td>0.000</td>\n",
       "      <td>0.000000</td>\n",
       "      <td>0.001</td>\n",
       "      <td>0.000329</td>\n",
       "      <td>0.000</td>\n",
       "      <td>0.000000</td>\n",
       "      <td>NaN</td>\n",
       "      <td>1.0</td>\n",
       "      <td>True</td>\n",
       "      <td>wye</td>\n",
       "    </tr>\n",
       "    <tr>\n",
       "      <th>6</th>\n",
       "      <td>LOAD7</td>\n",
       "      <td>21</td>\n",
       "      <td>0.000</td>\n",
       "      <td>0.000000</td>\n",
       "      <td>0.001</td>\n",
       "      <td>0.000329</td>\n",
       "      <td>0.000</td>\n",
       "      <td>0.000000</td>\n",
       "      <td>NaN</td>\n",
       "      <td>1.0</td>\n",
       "      <td>True</td>\n",
       "      <td>wye</td>\n",
       "    </tr>\n",
       "    <tr>\n",
       "      <th>7</th>\n",
       "      <td>LOAD8</td>\n",
       "      <td>25</td>\n",
       "      <td>0.000</td>\n",
       "      <td>0.000000</td>\n",
       "      <td>0.000</td>\n",
       "      <td>0.000000</td>\n",
       "      <td>0.001</td>\n",
       "      <td>0.000329</td>\n",
       "      <td>NaN</td>\n",
       "      <td>1.0</td>\n",
       "      <td>True</td>\n",
       "      <td>wye</td>\n",
       "    </tr>\n",
       "    <tr>\n",
       "      <th>8</th>\n",
       "      <td>LOAD9</td>\n",
       "      <td>26</td>\n",
       "      <td>0.001</td>\n",
       "      <td>0.000329</td>\n",
       "      <td>0.000</td>\n",
       "      <td>0.000000</td>\n",
       "      <td>0.000</td>\n",
       "      <td>0.000000</td>\n",
       "      <td>NaN</td>\n",
       "      <td>1.0</td>\n",
       "      <td>True</td>\n",
       "      <td>wye</td>\n",
       "    </tr>\n",
       "    <tr>\n",
       "      <th>9</th>\n",
       "      <td>LOAD10</td>\n",
       "      <td>29</td>\n",
       "      <td>0.000</td>\n",
       "      <td>0.000000</td>\n",
       "      <td>0.001</td>\n",
       "      <td>0.000329</td>\n",
       "      <td>0.000</td>\n",
       "      <td>0.000000</td>\n",
       "      <td>NaN</td>\n",
       "      <td>1.0</td>\n",
       "      <td>True</td>\n",
       "      <td>wye</td>\n",
       "    </tr>\n",
       "  </tbody>\n",
       "</table>\n",
       "</div>"
      ],
      "text/plain": [
       "     name  bus  p_a_mw  q_a_mvar  p_b_mw  q_b_mvar  p_c_mw  q_c_mvar  sn_mva  \\\n",
       "0   LOAD1    5   0.001  0.000329   0.000  0.000000   0.000  0.000000     NaN   \n",
       "1   LOAD2    7   0.000  0.000000   0.001  0.000329   0.000  0.000000     NaN   \n",
       "2   LOAD3   10   0.001  0.000329   0.000  0.000000   0.000  0.000000     NaN   \n",
       "3   LOAD4   11   0.001  0.000329   0.000  0.000000   0.000  0.000000     NaN   \n",
       "4   LOAD5   12   0.001  0.000329   0.000  0.000000   0.000  0.000000     NaN   \n",
       "5   LOAD6   13   0.000  0.000000   0.001  0.000329   0.000  0.000000     NaN   \n",
       "6   LOAD7   21   0.000  0.000000   0.001  0.000329   0.000  0.000000     NaN   \n",
       "7   LOAD8   25   0.000  0.000000   0.000  0.000000   0.001  0.000329     NaN   \n",
       "8   LOAD9   26   0.001  0.000329   0.000  0.000000   0.000  0.000000     NaN   \n",
       "9  LOAD10   29   0.000  0.000000   0.001  0.000329   0.000  0.000000     NaN   \n",
       "\n",
       "   scaling  in_service type  \n",
       "0      1.0        True  wye  \n",
       "1      1.0        True  wye  \n",
       "2      1.0        True  wye  \n",
       "3      1.0        True  wye  \n",
       "4      1.0        True  wye  \n",
       "5      1.0        True  wye  \n",
       "6      1.0        True  wye  \n",
       "7      1.0        True  wye  \n",
       "8      1.0        True  wye  \n",
       "9      1.0        True  wye  "
      ]
     },
     "execution_count": 5,
     "metadata": {},
     "output_type": "execute_result"
    }
   ],
   "source": [
    "# Create Loads\n",
    "loads_df = pd.read_excel(os.path.join(data_dir, \"Loads.xlsx\"), skiprows=2)\n",
    "print(loads_df.head(10))\n",
    "\n",
    "net.asymmetric_load.drop(net.asymmetric_load.index, inplace=True)\n",
    "load_map = {}\n",
    "for _, row in loads_df.iterrows():\n",
    "    # print(_, '->', row)\n",
    "    bus_id = math.floor(row['Bus'])\n",
    "    pa = qa = pb = qb = pc = qc = 0\n",
    "    if (bus_id in bus_map) & (row['phases'] in {'A', 'B', 'C'}):\n",
    "        if row['phases']=='A':\n",
    "            pa = row['kW'] / 1000\n",
    "            qa = row['kW']/1000 * np.tan(np.arccos(row['PF']))\n",
    "        elif row['phases']=='B':\n",
    "            pb = row['kW'] / 1000\n",
    "            qb = row['kW']/1000 * np.tan(np.arccos(row['PF']))\n",
    "        else: # row['phases']=='C'\n",
    "            pc = row['kW'] / 1000\n",
    "            qc = row['kW']/1000 * np.tan(np.arccos(row['PF']))\n",
    "        load = pp.create_asymmetric_load(\n",
    "            net, bus=bus_map[bus_id],\n",
    "            p_a_mw=pa, q_a_mvar=qa,\n",
    "            p_b_mw=pb, q_b_mvar=qb,\n",
    "            p_c_mw=pc, q_c_mvar=qc,\n",
    "            name=row['Name']\n",
    "        )\n",
    "        load_map[load] = row['Yearly']\n",
    "\n",
    "net.asymmetric_load.head(10)"
   ]
  },
  {
   "cell_type": "markdown",
   "metadata": {},
   "source": [
    "to create a line from parameters `pp.create_line_from_parameters` we must first assign a `max_i_ka` per LineCode.\n",
    "\n",
    "Here is the Standard Line Parameters for PandaPower:"
   ]
  },
  {
   "cell_type": "code",
   "execution_count": 6,
   "metadata": {},
   "outputs": [
    {
     "data": {
      "text/plain": [
       "count    51.000000\n",
       "mean      0.432314\n",
       "std       0.269581\n",
       "min       0.105000\n",
       "25%       0.250500\n",
       "50%       0.350000\n",
       "75%       0.498000\n",
       "max       1.150000\n",
       "Name: max_i_ka, dtype: float64"
      ]
     },
     "execution_count": 6,
     "metadata": {},
     "output_type": "execute_result"
    }
   ],
   "source": [
    "StdLineCodes_df = pd.read_csv(os.path.join(data_dir, 'StandardLineCodes.csv'), sep=';')\n",
    "# print(StdLineCodes_df.head())\n",
    "StdLineCodes_df['max_i_ka'].describe()"
   ]
  },
  {
   "cell_type": "code",
   "execution_count": 7,
   "metadata": {},
   "outputs": [
    {
     "name": "stdout",
     "output_type": "stream",
     "text": [
      "{'r_ohm_per_km': -0.027992220631350536, 'x_ohm_per_km': -0.862038384077252, 'c_nf_per_km': -0.0013628970743908564, 'intercept': 0.8237539896121313}\n",
      "[0.71529451 0.71570356 0.72014921 0.74597276 0.75315532 0.76307509\n",
      " 0.75006473 0.75094965]\n"
     ]
    }
   ],
   "source": [
    "from sklearn.linear_model import LinearRegression\n",
    "\n",
    "X = StdLineCodes_df[['r_ohm_per_km', 'x_ohm_per_km', 'c_nf_per_km']]\n",
    "Y = StdLineCodes_df['max_i_ka']\n",
    "\n",
    "x_test = lineCodes_df[['Name', 'R1', 'X1', 'C1']].set_index('Name')\n",
    "x_test.columns = X.columns\n",
    "\n",
    "model = LinearRegression()\n",
    "model.fit(X, Y)\n",
    "\n",
    "coefficients = dict(zip(X.columns, model.coef_))\n",
    "intercept = model.intercept_\n",
    "\n",
    "coefficients[\"intercept\"] = intercept\n",
    "print(coefficients)\n",
    "\n",
    "y_pred_lr = model.predict(x_test)\n",
    "print(y_pred_lr)"
   ]
  },
  {
   "cell_type": "code",
   "execution_count": 8,
   "metadata": {},
   "outputs": [
    {
     "name": "stdout",
     "output_type": "stream",
     "text": [
      "[0.19    0.19    0.315   0.48425 0.48425 0.48425 0.48425 0.48425]\n"
     ]
    },
    {
     "data": {
      "text/html": [
       "<div>\n",
       "<style scoped>\n",
       "    .dataframe tbody tr th:only-of-type {\n",
       "        vertical-align: middle;\n",
       "    }\n",
       "\n",
       "    .dataframe tbody tr th {\n",
       "        vertical-align: top;\n",
       "    }\n",
       "\n",
       "    .dataframe thead th {\n",
       "        text-align: right;\n",
       "    }\n",
       "</style>\n",
       "<table border=\"1\" class=\"dataframe\">\n",
       "  <thead>\n",
       "    <tr style=\"text-align: right;\">\n",
       "      <th></th>\n",
       "      <th>Name</th>\n",
       "      <th>nphases</th>\n",
       "      <th>R1</th>\n",
       "      <th>X1</th>\n",
       "      <th>R0</th>\n",
       "      <th>X0</th>\n",
       "      <th>C1</th>\n",
       "      <th>C0</th>\n",
       "      <th>Units</th>\n",
       "      <th>max_i_ka</th>\n",
       "    </tr>\n",
       "  </thead>\n",
       "  <tbody>\n",
       "    <tr>\n",
       "      <th>0</th>\n",
       "      <td>2c_.0225</td>\n",
       "      <td>3</td>\n",
       "      <td>1.257</td>\n",
       "      <td>0.0850</td>\n",
       "      <td>1.257</td>\n",
       "      <td>0.085</td>\n",
       "      <td>0</td>\n",
       "      <td>0</td>\n",
       "      <td>km</td>\n",
       "      <td>0.19000</td>\n",
       "    </tr>\n",
       "    <tr>\n",
       "      <th>1</th>\n",
       "      <td>2c_16</td>\n",
       "      <td>3</td>\n",
       "      <td>1.150</td>\n",
       "      <td>0.0880</td>\n",
       "      <td>1.200</td>\n",
       "      <td>0.088</td>\n",
       "      <td>0</td>\n",
       "      <td>0</td>\n",
       "      <td>km</td>\n",
       "      <td>0.19000</td>\n",
       "    </tr>\n",
       "    <tr>\n",
       "      <th>2</th>\n",
       "      <td>35_SAC_XSC</td>\n",
       "      <td>3</td>\n",
       "      <td>0.868</td>\n",
       "      <td>0.0920</td>\n",
       "      <td>0.760</td>\n",
       "      <td>0.092</td>\n",
       "      <td>0</td>\n",
       "      <td>0</td>\n",
       "      <td>km</td>\n",
       "      <td>0.31500</td>\n",
       "    </tr>\n",
       "    <tr>\n",
       "      <th>3</th>\n",
       "      <td>4c_.06</td>\n",
       "      <td>3</td>\n",
       "      <td>0.469</td>\n",
       "      <td>0.0750</td>\n",
       "      <td>1.581</td>\n",
       "      <td>0.091</td>\n",
       "      <td>0</td>\n",
       "      <td>0</td>\n",
       "      <td>km</td>\n",
       "      <td>0.48425</td>\n",
       "    </tr>\n",
       "    <tr>\n",
       "      <th>4</th>\n",
       "      <td>4c_.1</td>\n",
       "      <td>3</td>\n",
       "      <td>0.274</td>\n",
       "      <td>0.0730</td>\n",
       "      <td>0.959</td>\n",
       "      <td>0.079</td>\n",
       "      <td>0</td>\n",
       "      <td>0</td>\n",
       "      <td>km</td>\n",
       "      <td>0.48425</td>\n",
       "    </tr>\n",
       "    <tr>\n",
       "      <th>5</th>\n",
       "      <td>4c_.35</td>\n",
       "      <td>3</td>\n",
       "      <td>0.089</td>\n",
       "      <td>0.0675</td>\n",
       "      <td>0.319</td>\n",
       "      <td>0.076</td>\n",
       "      <td>0</td>\n",
       "      <td>0</td>\n",
       "      <td>km</td>\n",
       "      <td>0.48425</td>\n",
       "    </tr>\n",
       "    <tr>\n",
       "      <th>6</th>\n",
       "      <td>4c_70</td>\n",
       "      <td>3</td>\n",
       "      <td>0.446</td>\n",
       "      <td>0.0710</td>\n",
       "      <td>1.505</td>\n",
       "      <td>0.083</td>\n",
       "      <td>0</td>\n",
       "      <td>0</td>\n",
       "      <td>km</td>\n",
       "      <td>0.48425</td>\n",
       "    </tr>\n",
       "    <tr>\n",
       "      <th>7</th>\n",
       "      <td>4C_95_SAC_XC</td>\n",
       "      <td>3</td>\n",
       "      <td>0.322</td>\n",
       "      <td>0.0740</td>\n",
       "      <td>0.804</td>\n",
       "      <td>0.093</td>\n",
       "      <td>0</td>\n",
       "      <td>0</td>\n",
       "      <td>km</td>\n",
       "      <td>0.48425</td>\n",
       "    </tr>\n",
       "  </tbody>\n",
       "</table>\n",
       "</div>"
      ],
      "text/plain": [
       "           Name  nphases     R1      X1     R0     X0  C1  C0 Units  max_i_ka\n",
       "0      2c_.0225        3  1.257  0.0850  1.257  0.085   0   0    km   0.19000\n",
       "1         2c_16        3  1.150  0.0880  1.200  0.088   0   0    km   0.19000\n",
       "2    35_SAC_XSC        3  0.868  0.0920  0.760  0.092   0   0    km   0.31500\n",
       "3        4c_.06        3  0.469  0.0750  1.581  0.091   0   0    km   0.48425\n",
       "4         4c_.1        3  0.274  0.0730  0.959  0.079   0   0    km   0.48425\n",
       "5        4c_.35        3  0.089  0.0675  0.319  0.076   0   0    km   0.48425\n",
       "6         4c_70        3  0.446  0.0710  1.505  0.083   0   0    km   0.48425\n",
       "7  4C_95_SAC_XC        3  0.322  0.0740  0.804  0.093   0   0    km   0.48425"
      ]
     },
     "execution_count": 8,
     "metadata": {},
     "output_type": "execute_result"
    }
   ],
   "source": [
    "from sklearn.neighbors import KNeighborsRegressor\n",
    "from sklearn.preprocessing import StandardScaler\n",
    "\n",
    "scaler = StandardScaler()\n",
    "X_scaled = scaler.fit_transform(X)\n",
    "x_test_scaled = scaler.fit_transform(x_test)\n",
    "\n",
    "knn = KNeighborsRegressor(n_neighbors=4)\n",
    "knn.fit(X_scaled, Y)\n",
    "\n",
    "y_pred_knn = knn.predict(x_test_scaled)\n",
    "print(y_pred_knn)\n",
    "\n",
    "lineCodes_df['max_i_ka'] = y_pred_knn\n",
    "lineCodes_df"
   ]
  },
  {
   "cell_type": "code",
   "execution_count": 9,
   "metadata": {},
   "outputs": [],
   "source": [
    "# lineCodes_df['max_i_ka'] = y_pred_knn\n",
    "# lineCodes_df['max_i_ka'] = y_pred_lr\n",
    "# lineCodes_df['max_i_ka'] = np.ones(len(lineCodes_df))\n",
    "# lineCodes_df"
   ]
  },
  {
   "cell_type": "code",
   "execution_count": null,
   "metadata": {},
   "outputs": [
    {
     "data": {
      "text/plain": [
       "This pandapower network includes the following parameter tables:\n",
       "   - bus (117 elements)\n",
       "   - asymmetric_load (55 elements)\n",
       "   - ext_grid (1 element)\n",
       "   - line (115 elements)\n",
       "   - trafo (1 element)"
      ]
     },
     "execution_count": 10,
     "metadata": {},
     "output_type": "execute_result"
    }
   ],
   "source": [
    "full_line_df = lines_df.merge(lineCodes_df, left_on=\"LineCode\", right_on=\"Name\", how=\"left\")\n",
    "# full_line_df.head(10)\n",
    "\n",
    "net.line.drop(net.line.index, inplace=True)\n",
    "for _, line in full_line_df.iterrows():\n",
    "    # print(line)\n",
    "    pp.create_line_from_parameters(\n",
    "        net, from_bus = bus_map[math.floor(line['Bus1'])],\n",
    "        to_bus = bus_map[math.floor(line['Bus2'])],\n",
    "        length_km = line['Length'],\n",
    "        r_ohm_per_km=line[\"R1\"],\n",
    "        x_ohm_per_km=line[\"X1\"],\n",
    "        c_nf_per_km=line[\"C1\"],\n",
    "        max_i_ka=line[\"max_i_ka\"],\n",
    "        name=line[\"Name_x\"]\n",
    "    )\n",
    "\n",
    "net"
   ]
  },
  {
   "cell_type": "code",
   "execution_count": 11,
   "metadata": {},
   "outputs": [
    {
     "name": "stderr",
     "output_type": "stream",
     "text": [
      "\n",
      "\n",
      "_____________ PANDAPOWER DIAGNOSTIC TOOL _____________ \n",
      "\n",
      "\n",
      " --------\n",
      "\n",
      "\n",
      " --------\n",
      "\n",
      "\n",
      " --------\n",
      "\n",
      "\n",
      " --------\n",
      "\n",
      "\n",
      " --------\n",
      "\n",
      "\n",
      " --------\n",
      "\n",
      "Checking for overload...\n",
      "\n",
      "Overload check failed: Power flow still does not converge with load and generation scaled down to 0.1 percent.\n",
      "\n",
      " --------\n",
      "\n",
      "\n",
      " --------\n",
      "\n",
      "Checking switch configuration...\n",
      "\n",
      "Power flow still does not converge with all switches closed.\n",
      "\n",
      " --------\n",
      "\n",
      "\n",
      " --------\n",
      "\n",
      "\n",
      " --------\n",
      "\n",
      "\n",
      " --------\n",
      "\n",
      "numba_comparison failed due to the following error:\n",
      "Power Flow nr did not converge after 10 iterations!\n",
      "\n",
      " --------\n",
      "\n",
      "\n",
      " --------\n",
      "\n",
      "_____________ END OF PANDAPOWER DIAGNOSTIC _____________ \n"
     ]
    },
    {
     "data": {
      "text/plain": [
       "{'overload': {'load': False, 'generation': False},\n",
       " 'wrong_switch_configuration': False}"
      ]
     },
     "execution_count": 11,
     "metadata": {},
     "output_type": "execute_result"
    }
   ],
   "source": [
    "pp.diagnostic(net)"
   ]
  },
  {
   "cell_type": "code",
   "execution_count": 59,
   "metadata": {},
   "outputs": [
    {
     "name": "stderr",
     "output_type": "stream",
     "text": [
      "use_bus_geodata is automatically set to True, since net.line_geodata is empty.\n"
     ]
    },
    {
     "data": {
      "text/plain": [
       "<Axes: >"
      ]
     },
     "execution_count": 59,
     "metadata": {},
     "output_type": "execute_result"
    },
    {
     "data": {
      "image/png": "[encoded data removed]",
      "text/plain": [
       "<Figure size 1000x800 with 1 Axes>"
      ]
     },
     "metadata": {},
     "output_type": "display_data"
    }
   ],
   "source": [
    "import random\n",
    "bus_risk = {\n",
    "    bus: risk for bus, risk in zip(net.bus.index, random.choices(['green', 'red'], [0.8, 0.2], k=len(net.bus)))\n",
    "}\n",
    "\n",
    "\n",
    "from pandapower.plotting import simple_plot, cmap_discrete, create_bus_collection, create_line_collection, create_trafo_collection, draw_collections\n",
    "line_col = create_line_collection(\n",
    "    net, lines=net.line.index,\n",
    "    color='grey'\n",
    ")\n",
    "\n",
    "trafo_col = create_trafo_collection(\n",
    "    net, trafos=net.trafo.index,\n",
    "    color='k', size=0.2\n",
    ")\n",
    "\n",
    "bus_col = create_bus_collection(\n",
    "    net, buses=list(bus_risk.keys()),\n",
    "    color=[bus_risk[bus] for bus in bus_risk],\n",
    "    size=0.2\n",
    ")\n",
    "draw_collections([bus_col, line_col, trafo_col])\n",
    "\n",
    "# simple_plot(net, plot_loads=True, bus_color=bus_risk)"
   ]
  },
  {
   "cell_type": "code",
   "execution_count": 61,
   "metadata": {},
   "outputs": [
    {
     "ename": "KeyError",
     "evalue": "'x0x_max'",
     "output_type": "error",
     "traceback": [
      "\u001b[1;31m---------------------------------------------------------------------------\u001b[0m",
      "\u001b[1;31mKeyError\u001b[0m                                  Traceback (most recent call last)",
      "File \u001b[1;32m~\\AppData\\Local\\Packages\\PythonSoftwareFoundation.Python.3.10_qbz5n2kfra8p0\\LocalCache\\local-packages\\Python310\\site-packages\\pandas\\core\\indexes\\base.py:3805\u001b[0m, in \u001b[0;36mIndex.get_loc\u001b[1;34m(self, key)\u001b[0m\n\u001b[0;32m   3804\u001b[0m \u001b[38;5;28;01mtry\u001b[39;00m:\n\u001b[1;32m-> 3805\u001b[0m     \u001b[38;5;28;01mreturn\u001b[39;00m \u001b[38;5;28;43mself\u001b[39;49m\u001b[38;5;241;43m.\u001b[39;49m\u001b[43m_engine\u001b[49m\u001b[38;5;241;43m.\u001b[39;49m\u001b[43mget_loc\u001b[49m\u001b[43m(\u001b[49m\u001b[43mcasted_key\u001b[49m\u001b[43m)\u001b[49m\n\u001b[0;32m   3806\u001b[0m \u001b[38;5;28;01mexcept\u001b[39;00m \u001b[38;5;167;01mKeyError\u001b[39;00m \u001b[38;5;28;01mas\u001b[39;00m err:\n",
      "File \u001b[1;32mindex.pyx:167\u001b[0m, in \u001b[0;36mpandas._libs.index.IndexEngine.get_loc\u001b[1;34m()\u001b[0m\n",
      "File \u001b[1;32mindex.pyx:196\u001b[0m, in \u001b[0;36mpandas._libs.index.IndexEngine.get_loc\u001b[1;34m()\u001b[0m\n",
      "File \u001b[1;32mpandas\\\\_libs\\\\hashtable_class_helper.pxi:7081\u001b[0m, in \u001b[0;36mpandas._libs.hashtable.PyObjectHashTable.get_item\u001b[1;34m()\u001b[0m\n",
      "File \u001b[1;32mpandas\\\\_libs\\\\hashtable_class_helper.pxi:7089\u001b[0m, in \u001b[0;36mpandas._libs.hashtable.PyObjectHashTable.get_item\u001b[1;34m()\u001b[0m\n",
      "\u001b[1;31mKeyError\u001b[0m: 'x0x_max'",
      "\nThe above exception was the direct cause of the following exception:\n",
      "\u001b[1;31mKeyError\u001b[0m                                  Traceback (most recent call last)",
      "Cell \u001b[1;32mIn[61], line 1\u001b[0m\n\u001b[1;32m----> 1\u001b[0m \u001b[43mpp\u001b[49m\u001b[38;5;241;43m.\u001b[39;49m\u001b[43mrunpp_3ph\u001b[49m\u001b[43m(\u001b[49m\n\u001b[0;32m      2\u001b[0m \u001b[43m    \u001b[49m\u001b[43mnet\u001b[49m\u001b[43m,\u001b[49m\u001b[43m \u001b[49m\u001b[43minit\u001b[49m\u001b[38;5;241;43m=\u001b[39;49m\u001b[38;5;124;43m'\u001b[39;49m\u001b[38;5;124;43mauto\u001b[39;49m\u001b[38;5;124;43m'\u001b[39;49m\u001b[43m,\u001b[49m\n\u001b[0;32m      3\u001b[0m \u001b[43m    \u001b[49m\u001b[43mmax_iteration\u001b[49m\u001b[38;5;241;43m=\u001b[39;49m\u001b[38;5;241;43m10000\u001b[39;49m\u001b[43m,\u001b[49m\n\u001b[0;32m      4\u001b[0m \u001b[43m    \u001b[49m\u001b[43mtolerance_mva\u001b[49m\u001b[38;5;241;43m=\u001b[39;49m\u001b[38;5;241;43m1e-6\u001b[39;49m\u001b[43m,\u001b[49m\n\u001b[0;32m      5\u001b[0m \u001b[43m    \u001b[49m\u001b[43mv_debug\u001b[49m\u001b[38;5;241;43m=\u001b[39;49m\u001b[38;5;28;43;01mTrue\u001b[39;49;00m\u001b[43m)\u001b[49m\n\u001b[0;32m      7\u001b[0m \u001b[38;5;28mprint\u001b[39m(net\u001b[38;5;241m.\u001b[39mres_bus[[\u001b[38;5;124m\"\u001b[39m\u001b[38;5;124mvm_pu\u001b[39m\u001b[38;5;124m\"\u001b[39m]]\u001b[38;5;241m.\u001b[39mdescribe())        \u001b[38;5;66;03m# Voltage profile\u001b[39;00m\n\u001b[0;32m      8\u001b[0m \u001b[38;5;28mprint\u001b[39m(net\u001b[38;5;241m.\u001b[39mres_line[[\u001b[38;5;124m\"\u001b[39m\u001b[38;5;124mloading_percent\u001b[39m\u001b[38;5;124m\"\u001b[39m]]\u001b[38;5;241m.\u001b[39mmax())  \u001b[38;5;66;03m# Worst-case line loading\u001b[39;00m\n",
      "File \u001b[1;32m~\\AppData\\Local\\Packages\\PythonSoftwareFoundation.Python.3.10_qbz5n2kfra8p0\\LocalCache\\local-packages\\Python310\\site-packages\\pandapower\\pf\\runpp_3ph.py:418\u001b[0m, in \u001b[0;36mrunpp_3ph\u001b[1;34m(net, calculate_voltage_angles, init, max_iteration, tolerance_mva, trafo_model, trafo_loading, enforce_q_lims, numba, recycle, check_connectivity, switch_rx_ratio, delta_q, v_debug, **kwargs)\u001b[0m\n\u001b[0;32m    415\u001b[0m _, ppci2 \u001b[38;5;241m=\u001b[39m _pd2ppc_recycle(net, \u001b[38;5;241m2\u001b[39m, recycle\u001b[38;5;241m=\u001b[39mrecycle)\n\u001b[0;32m    416\u001b[0m gs_eg, bs_eg \u001b[38;5;241m=\u001b[39m _add_ext_grid_sc_impedance(net, ppci2)\n\u001b[1;32m--> 418\u001b[0m _, ppci0 \u001b[38;5;241m=\u001b[39m \u001b[43m_pd2ppc_recycle\u001b[49m\u001b[43m(\u001b[49m\u001b[43mnet\u001b[49m\u001b[43m,\u001b[49m\u001b[43m \u001b[49m\u001b[38;5;241;43m0\u001b[39;49m\u001b[43m,\u001b[49m\u001b[43m \u001b[49m\u001b[43mrecycle\u001b[49m\u001b[38;5;241;43m=\u001b[39;49m\u001b[43mrecycle\u001b[49m\u001b[43m)\u001b[49m\n\u001b[0;32m    420\u001b[0m _,        bus0, gen0, branch0,      _,      _,      _ \u001b[38;5;241m=\u001b[39m _get_pf_variables_from_ppci(ppci0)\n\u001b[0;32m    421\u001b[0m base_mva, bus1, gen1, branch1, sl_bus,      _, pq_bus \u001b[38;5;241m=\u001b[39m _get_pf_variables_from_ppci(ppci1)\n",
      "File \u001b[1;32m~\\AppData\\Local\\Packages\\PythonSoftwareFoundation.Python.3.10_qbz5n2kfra8p0\\LocalCache\\local-packages\\Python310\\site-packages\\pandapower\\pd2ppc.py:29\u001b[0m, in \u001b[0;36m_pd2ppc_recycle\u001b[1;34m(net, sequence, recycle)\u001b[0m\n\u001b[0;32m     27\u001b[0m key \u001b[38;5;241m=\u001b[39m \u001b[38;5;124m\"\u001b[39m\u001b[38;5;124m_ppc\u001b[39m\u001b[38;5;124m\"\u001b[39m \u001b[38;5;28;01mif\u001b[39;00m sequence \u001b[38;5;129;01mis\u001b[39;00m \u001b[38;5;28;01mNone\u001b[39;00m \u001b[38;5;28;01melse\u001b[39;00m \u001b[38;5;124m\"\u001b[39m\u001b[38;5;124m_ppc\u001b[39m\u001b[38;5;132;01m%d\u001b[39;00m\u001b[38;5;124m\"\u001b[39m \u001b[38;5;241m%\u001b[39m sequence\n\u001b[0;32m     28\u001b[0m \u001b[38;5;28;01mif\u001b[39;00m \u001b[38;5;129;01mnot\u001b[39;00m recycle \u001b[38;5;129;01mor\u001b[39;00m \u001b[38;5;129;01mnot\u001b[39;00m net\u001b[38;5;241m.\u001b[39mget(key, \u001b[38;5;28;01mNone\u001b[39;00m):\n\u001b[1;32m---> 29\u001b[0m     \u001b[38;5;28;01mreturn\u001b[39;00m \u001b[43m_pd2ppc\u001b[49m\u001b[43m(\u001b[49m\u001b[43mnet\u001b[49m\u001b[43m,\u001b[49m\u001b[43m \u001b[49m\u001b[43msequence\u001b[49m\u001b[38;5;241;43m=\u001b[39;49m\u001b[43msequence\u001b[49m\u001b[43m)\u001b[49m\n\u001b[0;32m     31\u001b[0m ppc \u001b[38;5;241m=\u001b[39m net[key]\n\u001b[0;32m     32\u001b[0m ppc[\u001b[38;5;124m\"\u001b[39m\u001b[38;5;124msuccess\u001b[39m\u001b[38;5;124m\"\u001b[39m] \u001b[38;5;241m=\u001b[39m \u001b[38;5;28;01mFalse\u001b[39;00m\n",
      "File \u001b[1;32m~\\AppData\\Local\\Packages\\PythonSoftwareFoundation.Python.3.10_qbz5n2kfra8p0\\LocalCache\\local-packages\\Python310\\site-packages\\pandapower\\pd2ppc.py:115\u001b[0m, in \u001b[0;36m_pd2ppc\u001b[1;34m(net, sequence)\u001b[0m\n\u001b[0;32m    113\u001b[0m \u001b[38;5;28;01mfrom\u001b[39;00m \u001b[38;5;21;01mpandapower\u001b[39;00m\u001b[38;5;21;01m.\u001b[39;00m\u001b[38;5;21;01mpd2ppc_zero\u001b[39;00m \u001b[38;5;28;01mimport\u001b[39;00m _add_ext_grid_sc_impedance_zero, _build_branch_ppc_zero\n\u001b[0;32m    114\u001b[0m \u001b[38;5;66;03m# Adds external grid impedance for 3ph and sc calculations in ppc0\u001b[39;00m\n\u001b[1;32m--> 115\u001b[0m \u001b[43m_add_ext_grid_sc_impedance_zero\u001b[49m\u001b[43m(\u001b[49m\u001b[43mnet\u001b[49m\u001b[43m,\u001b[49m\u001b[43m \u001b[49m\u001b[43mppc\u001b[49m\u001b[43m)\u001b[49m\n\u001b[0;32m    116\u001b[0m \u001b[38;5;66;03m# Calculates ppc0 branch impedances from branch elements\u001b[39;00m\n\u001b[0;32m    117\u001b[0m _build_branch_ppc_zero(net, ppc)\n",
      "File \u001b[1;32m~\\AppData\\Local\\Packages\\PythonSoftwareFoundation.Python.3.10_qbz5n2kfra8p0\\LocalCache\\local-packages\\Python310\\site-packages\\pandapower\\pd2ppc_zero.py:424\u001b[0m, in \u001b[0;36m_add_ext_grid_sc_impedance_zero\u001b[1;34m(net, ppc)\u001b[0m\n\u001b[0;32m    422\u001b[0m \u001b[38;5;66;03m# ext_grid zero sequence impedance\u001b[39;00m\n\u001b[0;32m    423\u001b[0m \u001b[38;5;28;01mif\u001b[39;00m case \u001b[38;5;241m==\u001b[39m \u001b[38;5;124m\"\u001b[39m\u001b[38;5;124mmax\u001b[39m\u001b[38;5;124m\"\u001b[39m:\n\u001b[1;32m--> 424\u001b[0m     x0_grid \u001b[38;5;241m=\u001b[39m \u001b[43mnet\u001b[49m\u001b[38;5;241;43m.\u001b[39;49m\u001b[43mext_grid\u001b[49m\u001b[43m[\u001b[49m\u001b[38;5;124;43m\"\u001b[39;49m\u001b[38;5;124;43mx0x_\u001b[39;49m\u001b[38;5;132;43;01m%s\u001b[39;49;00m\u001b[38;5;124;43m\"\u001b[39;49m\u001b[43m \u001b[49m\u001b[38;5;241;43m%\u001b[39;49m\u001b[43m \u001b[49m\u001b[43mcase\u001b[49m\u001b[43m]\u001b[49m\u001b[38;5;241m.\u001b[39mvalues \u001b[38;5;241m*\u001b[39m x_grid\n\u001b[0;32m    425\u001b[0m     r0_grid \u001b[38;5;241m=\u001b[39m net\u001b[38;5;241m.\u001b[39mext_grid[\u001b[38;5;124m\"\u001b[39m\u001b[38;5;124mr0x0_\u001b[39m\u001b[38;5;132;01m%s\u001b[39;00m\u001b[38;5;124m\"\u001b[39m \u001b[38;5;241m%\u001b[39m case]\u001b[38;5;241m.\u001b[39mvalues \u001b[38;5;241m*\u001b[39m x0_grid\n\u001b[0;32m    426\u001b[0m \u001b[38;5;28;01melif\u001b[39;00m case \u001b[38;5;241m==\u001b[39m \u001b[38;5;124m\"\u001b[39m\u001b[38;5;124mmin\u001b[39m\u001b[38;5;124m\"\u001b[39m:\n",
      "File \u001b[1;32m~\\AppData\\Local\\Packages\\PythonSoftwareFoundation.Python.3.10_qbz5n2kfra8p0\\LocalCache\\local-packages\\Python310\\site-packages\\pandas\\core\\frame.py:4102\u001b[0m, in \u001b[0;36mDataFrame.__getitem__\u001b[1;34m(self, key)\u001b[0m\n\u001b[0;32m   4100\u001b[0m \u001b[38;5;28;01mif\u001b[39;00m \u001b[38;5;28mself\u001b[39m\u001b[38;5;241m.\u001b[39mcolumns\u001b[38;5;241m.\u001b[39mnlevels \u001b[38;5;241m>\u001b[39m \u001b[38;5;241m1\u001b[39m:\n\u001b[0;32m   4101\u001b[0m     \u001b[38;5;28;01mreturn\u001b[39;00m \u001b[38;5;28mself\u001b[39m\u001b[38;5;241m.\u001b[39m_getitem_multilevel(key)\n\u001b[1;32m-> 4102\u001b[0m indexer \u001b[38;5;241m=\u001b[39m \u001b[38;5;28;43mself\u001b[39;49m\u001b[38;5;241;43m.\u001b[39;49m\u001b[43mcolumns\u001b[49m\u001b[38;5;241;43m.\u001b[39;49m\u001b[43mget_loc\u001b[49m\u001b[43m(\u001b[49m\u001b[43mkey\u001b[49m\u001b[43m)\u001b[49m\n\u001b[0;32m   4103\u001b[0m \u001b[38;5;28;01mif\u001b[39;00m is_integer(indexer):\n\u001b[0;32m   4104\u001b[0m     indexer \u001b[38;5;241m=\u001b[39m [indexer]\n",
      "File \u001b[1;32m~\\AppData\\Local\\Packages\\PythonSoftwareFoundation.Python.3.10_qbz5n2kfra8p0\\LocalCache\\local-packages\\Python310\\site-packages\\pandas\\core\\indexes\\base.py:3812\u001b[0m, in \u001b[0;36mIndex.get_loc\u001b[1;34m(self, key)\u001b[0m\n\u001b[0;32m   3807\u001b[0m     \u001b[38;5;28;01mif\u001b[39;00m \u001b[38;5;28misinstance\u001b[39m(casted_key, \u001b[38;5;28mslice\u001b[39m) \u001b[38;5;129;01mor\u001b[39;00m (\n\u001b[0;32m   3808\u001b[0m         \u001b[38;5;28misinstance\u001b[39m(casted_key, abc\u001b[38;5;241m.\u001b[39mIterable)\n\u001b[0;32m   3809\u001b[0m         \u001b[38;5;129;01mand\u001b[39;00m \u001b[38;5;28many\u001b[39m(\u001b[38;5;28misinstance\u001b[39m(x, \u001b[38;5;28mslice\u001b[39m) \u001b[38;5;28;01mfor\u001b[39;00m x \u001b[38;5;129;01min\u001b[39;00m casted_key)\n\u001b[0;32m   3810\u001b[0m     ):\n\u001b[0;32m   3811\u001b[0m         \u001b[38;5;28;01mraise\u001b[39;00m InvalidIndexError(key)\n\u001b[1;32m-> 3812\u001b[0m     \u001b[38;5;28;01mraise\u001b[39;00m \u001b[38;5;167;01mKeyError\u001b[39;00m(key) \u001b[38;5;28;01mfrom\u001b[39;00m \u001b[38;5;21;01merr\u001b[39;00m\n\u001b[0;32m   3813\u001b[0m \u001b[38;5;28;01mexcept\u001b[39;00m \u001b[38;5;167;01mTypeError\u001b[39;00m:\n\u001b[0;32m   3814\u001b[0m     \u001b[38;5;66;03m# If we have a listlike key, _check_indexing_error will raise\u001b[39;00m\n\u001b[0;32m   3815\u001b[0m     \u001b[38;5;66;03m#  InvalidIndexError. Otherwise we fall through and re-raise\u001b[39;00m\n\u001b[0;32m   3816\u001b[0m     \u001b[38;5;66;03m#  the TypeError.\u001b[39;00m\n\u001b[0;32m   3817\u001b[0m     \u001b[38;5;28mself\u001b[39m\u001b[38;5;241m.\u001b[39m_check_indexing_error(key)\n",
      "\u001b[1;31mKeyError\u001b[0m: 'x0x_max'"
     ]
    }
   ],
   "source": [
    "pp.runpp_3ph(\n",
    "    net, init='auto',\n",
    "    max_iteration=10000,\n",
    "    tolerance_mva=1e-6,\n",
    "    v_debug=True)\n",
    "\n",
    "print(net.res_bus[[\"vm_pu\"]].describe())        # Voltage profile\n",
    "print(net.res_line[[\"loading_percent\"]].max())  # Worst-case line loading"
   ]
  },
  {
   "cell_type": "code",
   "execution_count": null,
   "metadata": {},
   "outputs": [],
   "source": [
    "net.res_bus.to_csv('./results/res_bus.csv')\n",
    "net.res_line.to_csv('./results/res_line.csv')\n",
    "net.res_trafo.to_csv('./results/res_trafo.csv')\n",
    "net.res_ext_grid.to_csv('./results/res_ext_grid.csv')"
   ]
  },
  {
   "cell_type": "code",
   "execution_count": null,
   "metadata": {},
   "outputs": [
    {
     "name": "stdout",
     "output_type": "stream",
     "text": [
      "       Name  npts  minterval                 File  useactual\n",
      "0   Shape_1  1440          1   Load_profile_1.csv       True\n",
      "1   Shape_2  1440          1   Load_profile_2.csv       True\n",
      "2   Shape_3  1440          1   Load_profile_3.csv       True\n",
      "3   Shape_4  1440          1   Load_profile_4.csv       True\n",
      "4   Shape_5  1440          1   Load_profile_5.csv       True\n",
      "5   Shape_6  1440          1   Load_profile_6.csv       True\n",
      "6   Shape_7  1440          1   Load_profile_7.csv       True\n",
      "7   Shape_8  1440          1   Load_profile_8.csv       True\n",
      "8   Shape_9  1440          1   Load_profile_9.csv       True\n",
      "9  Shape_10  1440          1  Load_profile_10.csv       True\n"
     ]
    }
   ],
   "source": [
    "loadShapes_df = pd.read_csv(os.path.join(data_dir, \"LoadShapes.csv\"), skiprows=1, sep=';')\n",
    "print(loadShapes_df.head(10))"
   ]
  }
 ],
 "metadata": {
  "kernelspec": {
   "display_name": "Python 3",
   "language": "python",
   "name": "python3"
  },
  "language_info": {
   "codemirror_mode": {
    "name": "ipython",
    "version": 3
   },
   "file_extension": ".py",
   "mimetype": "text/x-python",
   "name": "python",
   "nbconvert_exporter": "python",
   "pygments_lexer": "ipython3",
   "version": "3.10.11"
  }
 },
 "nbformat": 4,
 "nbformat_minor": 2
}
