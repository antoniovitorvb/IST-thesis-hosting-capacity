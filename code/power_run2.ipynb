{
 "cells": [
  {
   "cell_type": "markdown",
   "metadata": {},
   "source": [
    "# Hosting Capacity Spatial Mapping Models to Support Decision Making\n",
    "\n",
    "## A Reduced Electrically-Equivalent Model of the IEEE European Low Voltage\n",
    "\n",
    "### Panda Power"
   ]
  },
  {
   "cell_type": "code",
   "execution_count": 1,
   "metadata": {},
   "outputs": [],
   "source": [
    "import pandas as pd\n",
    "import pandapower as pp\n",
    "import numpy as np\n",
    "import os\n",
    "\n",
    "data_dir = 'Modified_116_LV_CSV'"
   ]
  },
  {
   "cell_type": "markdown",
   "metadata": {},
   "source": [
    "<div style=\"text-align: center;\">\n",
    "    <div style=\"background-color: white; display: inline-block; padding: 10px;\">\n",
    "        <img src=\"Modified_116_LV_CSV/Modified 116 LV feeder.png\" width=\"600px\">\n",
    "    </div>\n",
    "</div>"
   ]
  },
  {
   "cell_type": "code",
   "execution_count": 2,
   "metadata": {},
   "outputs": [
    {
     "name": "stdout",
     "output_type": "stream",
     "text": [
      "{'Voltage': 11.0, 'pu': 1.05, 'ISC3': 3000.0, 'ISC1': 5.0}\n",
      "{'Name': 'TR1', ' phases': 3, ' bus1': 'SourceBus', ' bus2': 1, ' kV_pri': 11, ' kV_sec': 0.416, ' MVA': 0.8, ' Conn_pri': ' Delta', ' Conn_sec': ' Wye', ' %XHL': 4, '% resistance': 0.4}\n"
     ]
    }
   ],
   "source": [
    "# Source data\n",
    "source_df = pd.read_csv(os.path.join(data_dir,'Source.csv'), skiprows=1, sep='=')\n",
    "source_dict = {i:float(row.iloc[0].split()[0]) for i, row in source_df.iterrows()}\n",
    "print(source_dict)\n",
    "\n",
    "source_dict['ISC1'] = source_dict['ISC1'] / 1000\n",
    "source_dict['ISC3'] = source_dict['ISC3'] / 1000\n",
    "\n",
    "# Transformer data\n",
    "trafo_df = pd.read_csv(os.path.join(data_dir,'Transformer.csv'), skiprows=1, sep=';')\n",
    "trafo_dict = trafo_df.iloc[0].to_dict()\n",
    "print(trafo_dict)"
   ]
  },
  {
   "cell_type": "code",
   "execution_count": 3,
   "metadata": {},
   "outputs": [
    {
     "data": {
      "text/plain": [
       "0"
      ]
     },
     "execution_count": 3,
     "metadata": {},
     "output_type": "execute_result"
    }
   ],
   "source": [
    "s_sc_mva = np.sqrt(3) * source_dict['Voltage'] * source_dict['ISC3'] #MVA\n",
    "\n",
    "net = pp.create_empty_network()\n",
    "\n",
    "bus_map = {}\n",
    "\n",
    "hv_bus = pp.create_bus(net, name=trafo_dict[' bus1'], vn_kv=source_dict['Voltage'], type=\"b\")\n",
    "lv_bus = pp.create_bus(net, name=trafo_dict[' bus2'], vn_kv=trafo_dict[' kV_sec'], type=\"b\")\n",
    "\n",
    "bus_map[trafo_dict[' bus1']] = hv_bus\n",
    "bus_map[trafo_dict[' bus2']] = lv_bus\n",
    "\n",
    "pp.create_ext_grid(net, bus=hv_bus, vm_pu=source_dict['pu'], s_sc_max_mva=s_sc_mva, rx_max=0.1)\n",
    "\n",
    "pp.create_transformer_from_parameters(\n",
    "    net=net, hv_bus=hv_bus, lv_bus=lv_bus,\n",
    "    sn_mva=trafo_dict[' MVA'],\n",
    "    vn_hv_kv=trafo_dict[' kV_pri'],\n",
    "    vn_lv_kv=trafo_dict[' kV_sec'],\n",
    "    vk_percent=trafo_dict[' %XHL'],\n",
    "    vkr_percent=trafo_dict['% resistance'],\n",
    "    pfe_kw=0.0, i0_percent=0.0, shift_degree=0.0, \n",
    "    name=trafo_dict['Name']\n",
    ")"
   ]
  },
  {
   "cell_type": "code",
   "execution_count": 4,
   "metadata": {},
   "outputs": [],
   "source": [
    "lines_df = pd.read_excel(os.path.join(data_dir, \"Lines.xlsx\"), skiprows=1)\n",
    "lines_df['Length'] = lines_df['Length'] / 1000 # m to km\n",
    "lines_df['Units'] = 'km'\n",
    "lines_df.head()\n",
    "\n",
    "lineCodes_df = pd.read_csv(os.path.join(data_dir, \"LineCodes.csv\"), skiprows=1, sep=';')\n",
    "\n",
    "all_bus_ids = np.unique(lines_df[['Bus1', 'Bus2']].values.ravel('K'))\n",
    "for id in all_bus_ids:\n",
    "    if id not in bus_map.keys():\n",
    "        bus = pp.create_bus(net, name=id, vn_kv=trafo_dict[' kV_sec'], type=\"b\")\n",
    "        bus_map[id] = bus"
   ]
  },
  {
   "cell_type": "markdown",
   "metadata": {},
   "source": [
    "to create a line from parameters `pp.create_line_from_parameters` we must first assign a `max_i_ka` per LineCode.\n",
    "\n",
    "Here is the Standard Line Parameters for PandaPower:"
   ]
  },
  {
   "cell_type": "code",
   "execution_count": 5,
   "metadata": {},
   "outputs": [
    {
     "data": {
      "text/plain": [
       "count    51.000000\n",
       "mean      0.432314\n",
       "std       0.269581\n",
       "min       0.105000\n",
       "25%       0.250500\n",
       "50%       0.350000\n",
       "75%       0.498000\n",
       "max       1.150000\n",
       "Name: max_i_ka, dtype: float64"
      ]
     },
     "execution_count": 5,
     "metadata": {},
     "output_type": "execute_result"
    }
   ],
   "source": [
    "StdLineCodes_df = pd.read_csv(os.path.join(data_dir, 'StandardLineCodes.csv'), sep=';')\n",
    "# print(StdLineCodes_df.head())\n",
    "StdLineCodes_df['max_i_ka'].describe()"
   ]
  },
  {
   "cell_type": "code",
   "execution_count": 6,
   "metadata": {},
   "outputs": [
    {
     "name": "stdout",
     "output_type": "stream",
     "text": [
      "{'r_ohm_per_km': -0.027992220631350536, 'x_ohm_per_km': -0.862038384077252, 'c_nf_per_km': -0.0013628970743908564, 'intercept': 0.8237539896121313}\n",
      "[0.71529451 0.71570356 0.72014921 0.74597276 0.75315532 0.76307509\n",
      " 0.75006473 0.75094965]\n"
     ]
    }
   ],
   "source": [
    "from sklearn.linear_model import LinearRegression\n",
    "\n",
    "X = StdLineCodes_df[['r_ohm_per_km', 'x_ohm_per_km', 'c_nf_per_km']]\n",
    "Y = StdLineCodes_df['max_i_ka']\n",
    "\n",
    "x_test = lineCodes_df[['Name', 'R1', 'X1', 'C1']].set_index('Name')\n",
    "x_test.columns = X.columns\n",
    "\n",
    "model = LinearRegression()\n",
    "model.fit(X, Y)\n",
    "\n",
    "coefficients = dict(zip(X.columns, model.coef_))\n",
    "intercept = model.intercept_\n",
    "\n",
    "coefficients[\"intercept\"] = intercept\n",
    "print(coefficients)\n",
    "\n",
    "y_pred_lr = model.predict(x_test)\n",
    "print(y_pred_lr)"
   ]
  },
  {
   "cell_type": "code",
   "execution_count": 7,
   "metadata": {},
   "outputs": [
    {
     "name": "stdout",
     "output_type": "stream",
     "text": [
      "[0.19    0.19    0.315   0.48425 0.48425 0.48425 0.48425 0.48425]\n"
     ]
    }
   ],
   "source": [
    "from sklearn.neighbors import KNeighborsRegressor\n",
    "from sklearn.preprocessing import StandardScaler\n",
    "\n",
    "scaler = StandardScaler()\n",
    "X_scaled = scaler.fit_transform(X)\n",
    "x_test_scaled = scaler.fit_transform(x_test)\n",
    "\n",
    "knn = KNeighborsRegressor(n_neighbors=4)\n",
    "knn.fit(X_scaled, Y)\n",
    "\n",
    "y_pred_knn = knn.predict(x_test_scaled)\n",
    "print(y_pred_knn)\n",
    "\n",
    "# lineCodes_df['max_i_ka'] = y_pred_knn\n",
    "# lineCodes_df"
   ]
  },
  {
   "cell_type": "code",
   "execution_count": 13,
   "metadata": {},
   "outputs": [],
   "source": [
    "lineCodes_df['max_i_ka'] = y_pred_knn\n",
    "# lineCodes_df['max_i_ka'] = y_pred_lr"
   ]
  },
  {
   "cell_type": "code",
   "execution_count": 14,
   "metadata": {},
   "outputs": [],
   "source": [
    "full_line_df = lines_df.merge(lineCodes_df, left_on=\"LineCode\", right_on=\"Name\", how=\"left\")\n",
    "full_line_df.head(10)\n",
    "\n",
    "net.line.drop(net.line.index, inplace=True)\n",
    "for _, line in full_line_df.iterrows():\n",
    "    # print(line)\n",
    "    pp.create_line_from_parameters(\n",
    "        net, from_bus = line['Bus1'], to_bus = line['Bus2'],\n",
    "        length_km = line['Length'],\n",
    "        r_ohm_per_km=line[\"R1\"],\n",
    "        x_ohm_per_km=line[\"X1\"],\n",
    "        c_nf_per_km=line[\"C1\"],\n",
    "        max_i_ka=line[\"max_i_ka\"],\n",
    "        name=line[\"Name_x\"]\n",
    "    )"
   ]
  },
  {
   "cell_type": "code",
   "execution_count": 15,
   "metadata": {},
   "outputs": [
    {
     "name": "stdout",
     "output_type": "stream",
     "text": [
      "     Name  numPhases   Bus phases    kV  Model Connection  kW    PF    Yearly\n",
      "0   LOAD1          1   5.0      A  0.23      1        wye   1  0.95   Shape_1\n",
      "1   LOAD2          1   7.0      B  0.23      1        wye   1  0.95   Shape_2\n",
      "2   LOAD3          1  10.0      A  0.23      1        wye   1  0.95   Shape_3\n",
      "3   LOAD4          1  11.0      A  0.23      1        wye   1  0.95   Shape_4\n",
      "4   LOAD5          1  12.0      A  0.23      1        wye   1  0.95   Shape_5\n",
      "5   LOAD6          1  13.0      B  0.23      1        wye   1  0.95   Shape_6\n",
      "6   LOAD7          1  21.0      B  0.23      1        wye   1  0.95   Shape_7\n",
      "7   LOAD8          1  25.0      C  0.23      1        wye   1  0.95   Shape_8\n",
      "8   LOAD9          1  26.0      A  0.23      1        wye   1  0.95   Shape_9\n",
      "9  LOAD10          1  29.2      B  0.23      1        wye   1  0.95  Shape_10\n"
     ]
    },
    {
     "data": {
      "text/html": [
       "<div>\n",
       "<style scoped>\n",
       "    .dataframe tbody tr th:only-of-type {\n",
       "        vertical-align: middle;\n",
       "    }\n",
       "\n",
       "    .dataframe tbody tr th {\n",
       "        vertical-align: top;\n",
       "    }\n",
       "\n",
       "    .dataframe thead th {\n",
       "        text-align: right;\n",
       "    }\n",
       "</style>\n",
       "<table border=\"1\" class=\"dataframe\">\n",
       "  <thead>\n",
       "    <tr style=\"text-align: right;\">\n",
       "      <th></th>\n",
       "      <th>name</th>\n",
       "      <th>bus</th>\n",
       "      <th>p_a_mw</th>\n",
       "      <th>q_a_mvar</th>\n",
       "      <th>p_b_mw</th>\n",
       "      <th>q_b_mvar</th>\n",
       "      <th>p_c_mw</th>\n",
       "      <th>q_c_mvar</th>\n",
       "      <th>sn_mva</th>\n",
       "      <th>scaling</th>\n",
       "      <th>in_service</th>\n",
       "      <th>type</th>\n",
       "    </tr>\n",
       "  </thead>\n",
       "  <tbody>\n",
       "    <tr>\n",
       "      <th>0</th>\n",
       "      <td>LOAD1</td>\n",
       "      <td>5</td>\n",
       "      <td>0.001</td>\n",
       "      <td>0.000329</td>\n",
       "      <td>0.000</td>\n",
       "      <td>0.000000</td>\n",
       "      <td>0.000</td>\n",
       "      <td>0.000000</td>\n",
       "      <td>NaN</td>\n",
       "      <td>1.0</td>\n",
       "      <td>True</td>\n",
       "      <td>wye</td>\n",
       "    </tr>\n",
       "    <tr>\n",
       "      <th>1</th>\n",
       "      <td>LOAD2</td>\n",
       "      <td>7</td>\n",
       "      <td>0.000</td>\n",
       "      <td>0.000000</td>\n",
       "      <td>0.001</td>\n",
       "      <td>0.000329</td>\n",
       "      <td>0.000</td>\n",
       "      <td>0.000000</td>\n",
       "      <td>NaN</td>\n",
       "      <td>1.0</td>\n",
       "      <td>True</td>\n",
       "      <td>wye</td>\n",
       "    </tr>\n",
       "    <tr>\n",
       "      <th>2</th>\n",
       "      <td>LOAD3</td>\n",
       "      <td>10</td>\n",
       "      <td>0.001</td>\n",
       "      <td>0.000329</td>\n",
       "      <td>0.000</td>\n",
       "      <td>0.000000</td>\n",
       "      <td>0.000</td>\n",
       "      <td>0.000000</td>\n",
       "      <td>NaN</td>\n",
       "      <td>1.0</td>\n",
       "      <td>True</td>\n",
       "      <td>wye</td>\n",
       "    </tr>\n",
       "    <tr>\n",
       "      <th>3</th>\n",
       "      <td>LOAD4</td>\n",
       "      <td>11</td>\n",
       "      <td>0.001</td>\n",
       "      <td>0.000329</td>\n",
       "      <td>0.000</td>\n",
       "      <td>0.000000</td>\n",
       "      <td>0.000</td>\n",
       "      <td>0.000000</td>\n",
       "      <td>NaN</td>\n",
       "      <td>1.0</td>\n",
       "      <td>True</td>\n",
       "      <td>wye</td>\n",
       "    </tr>\n",
       "    <tr>\n",
       "      <th>4</th>\n",
       "      <td>LOAD5</td>\n",
       "      <td>12</td>\n",
       "      <td>0.001</td>\n",
       "      <td>0.000329</td>\n",
       "      <td>0.000</td>\n",
       "      <td>0.000000</td>\n",
       "      <td>0.000</td>\n",
       "      <td>0.000000</td>\n",
       "      <td>NaN</td>\n",
       "      <td>1.0</td>\n",
       "      <td>True</td>\n",
       "      <td>wye</td>\n",
       "    </tr>\n",
       "    <tr>\n",
       "      <th>5</th>\n",
       "      <td>LOAD6</td>\n",
       "      <td>13</td>\n",
       "      <td>0.000</td>\n",
       "      <td>0.000000</td>\n",
       "      <td>0.001</td>\n",
       "      <td>0.000329</td>\n",
       "      <td>0.000</td>\n",
       "      <td>0.000000</td>\n",
       "      <td>NaN</td>\n",
       "      <td>1.0</td>\n",
       "      <td>True</td>\n",
       "      <td>wye</td>\n",
       "    </tr>\n",
       "    <tr>\n",
       "      <th>6</th>\n",
       "      <td>LOAD7</td>\n",
       "      <td>21</td>\n",
       "      <td>0.000</td>\n",
       "      <td>0.000000</td>\n",
       "      <td>0.001</td>\n",
       "      <td>0.000329</td>\n",
       "      <td>0.000</td>\n",
       "      <td>0.000000</td>\n",
       "      <td>NaN</td>\n",
       "      <td>1.0</td>\n",
       "      <td>True</td>\n",
       "      <td>wye</td>\n",
       "    </tr>\n",
       "    <tr>\n",
       "      <th>7</th>\n",
       "      <td>LOAD8</td>\n",
       "      <td>25</td>\n",
       "      <td>0.000</td>\n",
       "      <td>0.000000</td>\n",
       "      <td>0.000</td>\n",
       "      <td>0.000000</td>\n",
       "      <td>0.001</td>\n",
       "      <td>0.000329</td>\n",
       "      <td>NaN</td>\n",
       "      <td>1.0</td>\n",
       "      <td>True</td>\n",
       "      <td>wye</td>\n",
       "    </tr>\n",
       "    <tr>\n",
       "      <th>8</th>\n",
       "      <td>LOAD9</td>\n",
       "      <td>26</td>\n",
       "      <td>0.001</td>\n",
       "      <td>0.000329</td>\n",
       "      <td>0.000</td>\n",
       "      <td>0.000000</td>\n",
       "      <td>0.000</td>\n",
       "      <td>0.000000</td>\n",
       "      <td>NaN</td>\n",
       "      <td>1.0</td>\n",
       "      <td>True</td>\n",
       "      <td>wye</td>\n",
       "    </tr>\n",
       "    <tr>\n",
       "      <th>9</th>\n",
       "      <td>LOAD10</td>\n",
       "      <td>29</td>\n",
       "      <td>0.000</td>\n",
       "      <td>0.000000</td>\n",
       "      <td>0.001</td>\n",
       "      <td>0.000329</td>\n",
       "      <td>0.000</td>\n",
       "      <td>0.000000</td>\n",
       "      <td>NaN</td>\n",
       "      <td>1.0</td>\n",
       "      <td>True</td>\n",
       "      <td>wye</td>\n",
       "    </tr>\n",
       "  </tbody>\n",
       "</table>\n",
       "</div>"
      ],
      "text/plain": [
       "     name  bus  p_a_mw  q_a_mvar  p_b_mw  q_b_mvar  p_c_mw  q_c_mvar  sn_mva  \\\n",
       "0   LOAD1    5   0.001  0.000329   0.000  0.000000   0.000  0.000000     NaN   \n",
       "1   LOAD2    7   0.000  0.000000   0.001  0.000329   0.000  0.000000     NaN   \n",
       "2   LOAD3   10   0.001  0.000329   0.000  0.000000   0.000  0.000000     NaN   \n",
       "3   LOAD4   11   0.001  0.000329   0.000  0.000000   0.000  0.000000     NaN   \n",
       "4   LOAD5   12   0.001  0.000329   0.000  0.000000   0.000  0.000000     NaN   \n",
       "5   LOAD6   13   0.000  0.000000   0.001  0.000329   0.000  0.000000     NaN   \n",
       "6   LOAD7   21   0.000  0.000000   0.001  0.000329   0.000  0.000000     NaN   \n",
       "7   LOAD8   25   0.000  0.000000   0.000  0.000000   0.001  0.000329     NaN   \n",
       "8   LOAD9   26   0.001  0.000329   0.000  0.000000   0.000  0.000000     NaN   \n",
       "9  LOAD10   29   0.000  0.000000   0.001  0.000329   0.000  0.000000     NaN   \n",
       "\n",
       "   scaling  in_service type  \n",
       "0      1.0        True  wye  \n",
       "1      1.0        True  wye  \n",
       "2      1.0        True  wye  \n",
       "3      1.0        True  wye  \n",
       "4      1.0        True  wye  \n",
       "5      1.0        True  wye  \n",
       "6      1.0        True  wye  \n",
       "7      1.0        True  wye  \n",
       "8      1.0        True  wye  \n",
       "9      1.0        True  wye  "
      ]
     },
     "execution_count": 15,
     "metadata": {},
     "output_type": "execute_result"
    }
   ],
   "source": [
    "import math\n",
    "\n",
    "# Create Loads\n",
    "loads_df = pd.read_excel(os.path.join(data_dir, \"Loads.xlsx\"), skiprows=2)\n",
    "print(loads_df.head(10))\n",
    "\n",
    "net.asymmetric_load.drop(net.asymmetric_load.index, inplace=True)\n",
    "load_map = {}\n",
    "for _, row in loads_df.iterrows():\n",
    "    # print(_, '->', row)\n",
    "    bus_id = math.floor(row['Bus'])\n",
    "    pa = qa = pb = qb = pc = qc = 0\n",
    "    if (bus_id in bus_map) & (row['phases'] in {'A', 'B', 'C'}):\n",
    "        if row['phases']=='A':\n",
    "            pa = row['kW'] / 1000\n",
    "            qa = row['kW']/1000 * np.tan(np.arccos(row['PF']))\n",
    "            \n",
    "        elif row['phases']=='B':\n",
    "            pb = row['kW'] / 1000\n",
    "            qb = row['kW']/1000 * np.tan(np.arccos(row['PF']))\n",
    "        else: # row['phases']=='C'\n",
    "            pc = row['kW'] / 1000\n",
    "            qc = row['kW']/1000 * np.tan(np.arccos(row['PF']))\n",
    "        load = pp.create_asymmetric_load(\n",
    "            net, bus=bus_id,\n",
    "            p_a_mw=pa, q_a_mvar=qa,\n",
    "            p_b_mw=pb, q_b_mvar=qb,\n",
    "            p_c_mw=pc, q_c_mvar=qc,\n",
    "            name=row['Name']\n",
    "        )\n",
    "        load_map[load] = row['Yearly']\n",
    "\n",
    "net.asymmetric_load.head(10)"
   ]
  },
  {
   "cell_type": "code",
   "execution_count": 16,
   "metadata": {},
   "outputs": [
    {
     "data": {
      "text/plain": [
       "This pandapower network includes the following parameter tables:\n",
       "   - bus (117 elements)\n",
       "   - asymmetric_load (55 elements)\n",
       "   - ext_grid (1 element)\n",
       "   - line (115 elements)\n",
       "   - trafo (1 element)\n",
       " and the following results tables:\n",
       "   - res_bus (117 elements)\n",
       "   - res_line (115 elements)\n",
       "   - res_trafo (1 element)\n",
       "   - res_ext_grid (1 element)\n",
       "   - res_asymmetric_load (55 elements)"
      ]
     },
     "execution_count": 16,
     "metadata": {},
     "output_type": "execute_result"
    }
   ],
   "source": [
    "net"
   ]
  },
  {
   "cell_type": "code",
   "execution_count": 17,
   "metadata": {},
   "outputs": [
    {
     "name": "stderr",
     "output_type": "stream",
     "text": [
      "C:\\Users\\vitor\\AppData\\Local\\Packages\\PythonSoftwareFoundation.Python.3.10_qbz5n2kfra8p0\\LocalCache\\local-packages\\Python310\\site-packages\\pandapower\\pypower\\makeBdc.py:97: RuntimeWarning: invalid value encountered in divide\n",
      "  b = stat / branch[:, BR_X]  ## series susceptance\n",
      "C:\\Users\\vitor\\AppData\\Local\\Packages\\PythonSoftwareFoundation.Python.3.10_qbz5n2kfra8p0\\LocalCache\\local-packages\\Python310\\site-packages\\pandapower\\pypower\\dcpf.py:44: MatrixRankWarning: Matrix is exactly singular\n",
      "  Va[pvpq] = real(spsolve(pvpq_matrix, ref_matrix))\n",
      "C:\\Users\\vitor\\AppData\\Local\\Packages\\PythonSoftwareFoundation.Python.3.10_qbz5n2kfra8p0\\LocalCache\\local-packages\\Python310\\site-packages\\pandapower\\pypower\\makeYbus.py:82: RuntimeWarning: invalid value encountered in divide\n",
      "  Ysf = stat / (branch[:, BR_R] + 1j * branch[:, BR_X])  ## series admittance\n",
      "C:\\Users\\vitor\\AppData\\Local\\Packages\\PythonSoftwareFoundation.Python.3.10_qbz5n2kfra8p0\\LocalCache\\local-packages\\Python310\\site-packages\\pandapower\\pf\\create_jacobian.py:28: RuntimeWarning: invalid value encountered in divide\n",
      "  dVm_x, dVa_x = dSbus_dV_numba_sparse(Ybus.data, Ybus.indptr, Ybus.indices, V, V / abs(V), Ibus)\n",
      "C:\\Users\\vitor\\AppData\\Local\\Packages\\PythonSoftwareFoundation.Python.3.10_qbz5n2kfra8p0\\LocalCache\\local-packages\\Python310\\site-packages\\pandapower\\pypower\\newtonpf.py:337: MatrixRankWarning: Matrix is exactly singular\n",
      "  dx = -1 * spsolve(J, F, permc_spec=permc_spec, use_umfpack=use_umfpack)\n"
     ]
    },
    {
     "ename": "KeyboardInterrupt",
     "evalue": "",
     "output_type": "error",
     "traceback": [
      "\u001b[1;31m---------------------------------------------------------------------------\u001b[0m",
      "\u001b[1;31mKeyboardInterrupt\u001b[0m                         Traceback (most recent call last)",
      "Cell \u001b[1;32mIn[17], line 1\u001b[0m\n\u001b[1;32m----> 1\u001b[0m \u001b[43mpp\u001b[49m\u001b[38;5;241;43m.\u001b[39;49m\u001b[43mrunpp\u001b[49m\u001b[43m(\u001b[49m\u001b[43mnet\u001b[49m\u001b[43m,\u001b[49m\u001b[43m \u001b[49m\u001b[43minit\u001b[49m\u001b[38;5;241;43m=\u001b[39;49m\u001b[38;5;124;43m'\u001b[39;49m\u001b[38;5;124;43mauto\u001b[39;49m\u001b[38;5;124;43m'\u001b[39;49m\u001b[43m,\u001b[49m\u001b[43m \u001b[49m\u001b[43mmax_iteration\u001b[49m\u001b[38;5;241;43m=\u001b[39;49m\u001b[38;5;241;43m50000\u001b[39;49m\u001b[43m,\u001b[49m\u001b[43m \u001b[49m\u001b[43mtolerance_mva\u001b[49m\u001b[38;5;241;43m=\u001b[39;49m\u001b[38;5;241;43m1e-6\u001b[39;49m\u001b[43m,\u001b[49m\u001b[43m \u001b[49m\u001b[43mcalculate_voltage_angles\u001b[49m\u001b[38;5;241;43m=\u001b[39;49m\u001b[38;5;28;43;01mTrue\u001b[39;49;00m\u001b[43m)\u001b[49m\n\u001b[0;32m      3\u001b[0m \u001b[38;5;28mprint\u001b[39m(net\u001b[38;5;241m.\u001b[39mres_bus[[\u001b[38;5;124m\"\u001b[39m\u001b[38;5;124mvm_pu\u001b[39m\u001b[38;5;124m\"\u001b[39m]]\u001b[38;5;241m.\u001b[39mdescribe())        \u001b[38;5;66;03m# Voltage profile\u001b[39;00m\n\u001b[0;32m      4\u001b[0m \u001b[38;5;28mprint\u001b[39m(net\u001b[38;5;241m.\u001b[39mres_line[[\u001b[38;5;124m\"\u001b[39m\u001b[38;5;124mloading_percent\u001b[39m\u001b[38;5;124m\"\u001b[39m]]\u001b[38;5;241m.\u001b[39mmax())  \u001b[38;5;66;03m# Worst-case line loading\u001b[39;00m\n",
      "File \u001b[1;32m~\\AppData\\Local\\Packages\\PythonSoftwareFoundation.Python.3.10_qbz5n2kfra8p0\\LocalCache\\local-packages\\Python310\\site-packages\\pandapower\\run.py:250\u001b[0m, in \u001b[0;36mrunpp\u001b[1;34m(net, algorithm, calculate_voltage_angles, init, max_iteration, tolerance_mva, trafo_model, trafo_loading, enforce_q_lims, check_connectivity, voltage_depend_loads, consider_line_temperature, run_control, distributed_slack, tdpf, tdpf_delay_s, **kwargs)\u001b[0m\n\u001b[0;32m    248\u001b[0m _check_bus_index_and_print_warning_if_high(net)\n\u001b[0;32m    249\u001b[0m _check_gen_index_and_print_warning_if_high(net)\n\u001b[1;32m--> 250\u001b[0m _powerflow(net, \u001b[38;5;241m*\u001b[39m\u001b[38;5;241m*\u001b[39mkwargs)\n",
      "File \u001b[1;32m~\\AppData\\Local\\Packages\\PythonSoftwareFoundation.Python.3.10_qbz5n2kfra8p0\\LocalCache\\local-packages\\Python310\\site-packages\\pandapower\\powerflow.py:84\u001b[0m, in \u001b[0;36m_powerflow\u001b[1;34m(net, **kwargs)\u001b[0m\n\u001b[0;32m     81\u001b[0m     kwargs[\u001b[38;5;124m\"\u001b[39m\u001b[38;5;124mVERBOSE\u001b[39m\u001b[38;5;124m\"\u001b[39m] \u001b[38;5;241m=\u001b[39m \u001b[38;5;241m0\u001b[39m\n\u001b[0;32m     83\u001b[0m \u001b[38;5;66;03m# ----- run the powerflow -----\u001b[39;00m\n\u001b[1;32m---> 84\u001b[0m result \u001b[38;5;241m=\u001b[39m _run_pf_algorithm(ppci, net[\u001b[38;5;124m\"\u001b[39m\u001b[38;5;124m_options\u001b[39m\u001b[38;5;124m\"\u001b[39m], \u001b[38;5;241m*\u001b[39m\u001b[38;5;241m*\u001b[39mkwargs)\n\u001b[0;32m     85\u001b[0m \u001b[38;5;66;03m# read the results (=ppci with results) to net\u001b[39;00m\n\u001b[0;32m     86\u001b[0m _ppci_to_net(result, net)\n",
      "File \u001b[1;32m~\\AppData\\Local\\Packages\\PythonSoftwareFoundation.Python.3.10_qbz5n2kfra8p0\\LocalCache\\local-packages\\Python310\\site-packages\\pandapower\\powerflow.py:166\u001b[0m, in \u001b[0;36m_run_pf_algorithm\u001b[1;34m(ppci, options, **kwargs)\u001b[0m\n\u001b[0;32m    164\u001b[0m     result \u001b[38;5;241m=\u001b[39m _run_bfswpf(ppci, options, \u001b[38;5;241m*\u001b[39m\u001b[38;5;241m*\u001b[39mkwargs)[\u001b[38;5;241m0\u001b[39m]\n\u001b[0;32m    165\u001b[0m \u001b[38;5;28;01melif\u001b[39;00m algorithm \u001b[38;5;129;01min\u001b[39;00m [\u001b[38;5;124m'\u001b[39m\u001b[38;5;124mnr\u001b[39m\u001b[38;5;124m'\u001b[39m, \u001b[38;5;124m'\u001b[39m\u001b[38;5;124miwamoto_nr\u001b[39m\u001b[38;5;124m'\u001b[39m]:\n\u001b[1;32m--> 166\u001b[0m     result \u001b[38;5;241m=\u001b[39m \u001b[43m_run_newton_raphson_pf\u001b[49m\u001b[43m(\u001b[49m\u001b[43mppci\u001b[49m\u001b[43m,\u001b[49m\u001b[43m \u001b[49m\u001b[43moptions\u001b[49m\u001b[43m)\u001b[49m\n\u001b[0;32m    167\u001b[0m \u001b[38;5;28;01melif\u001b[39;00m algorithm \u001b[38;5;129;01min\u001b[39;00m [\u001b[38;5;124m'\u001b[39m\u001b[38;5;124mfdbx\u001b[39m\u001b[38;5;124m'\u001b[39m, \u001b[38;5;124m'\u001b[39m\u001b[38;5;124mfdxb\u001b[39m\u001b[38;5;124m'\u001b[39m, \u001b[38;5;124m'\u001b[39m\u001b[38;5;124mgs\u001b[39m\u001b[38;5;124m'\u001b[39m]:  \u001b[38;5;66;03m# algorithms existing within pypower\u001b[39;00m\n\u001b[0;32m    168\u001b[0m     result \u001b[38;5;241m=\u001b[39m _runpf_pypower(ppci, options, \u001b[38;5;241m*\u001b[39m\u001b[38;5;241m*\u001b[39mkwargs)[\u001b[38;5;241m0\u001b[39m]\n",
      "File \u001b[1;32m~\\AppData\\Local\\Packages\\PythonSoftwareFoundation.Python.3.10_qbz5n2kfra8p0\\LocalCache\\local-packages\\Python310\\site-packages\\pandapower\\pf\\run_newton_raphson_pf.py:61\u001b[0m, in \u001b[0;36m_run_newton_raphson_pf\u001b[1;34m(ppci, options)\u001b[0m\n\u001b[0;32m     59\u001b[0m     ppci, success, iterations, bus, gen, branch \u001b[38;5;241m=\u001b[39m _run_ac_pf_with_qlims_enforced(ppci, options)\n\u001b[0;32m     60\u001b[0m \u001b[38;5;28;01melse\u001b[39;00m:\n\u001b[1;32m---> 61\u001b[0m     ppci, success, iterations \u001b[38;5;241m=\u001b[39m \u001b[43m_run_ac_pf_without_qlims_enforced\u001b[49m\u001b[43m(\u001b[49m\u001b[43mppci\u001b[49m\u001b[43m,\u001b[49m\u001b[43m \u001b[49m\u001b[43moptions\u001b[49m\u001b[43m)\u001b[49m\n\u001b[0;32m     62\u001b[0m     \u001b[38;5;66;03m# update data matrices with solution store in ppci\u001b[39;00m\n\u001b[0;32m     63\u001b[0m     bus, gen, branch \u001b[38;5;241m=\u001b[39m ppci_to_pfsoln(ppci, options)\n",
      "File \u001b[1;32m~\\AppData\\Local\\Packages\\PythonSoftwareFoundation.Python.3.10_qbz5n2kfra8p0\\LocalCache\\local-packages\\Python310\\site-packages\\pandapower\\pf\\run_newton_raphson_pf.py:171\u001b[0m, in \u001b[0;36m_run_ac_pf_without_qlims_enforced\u001b[1;34m(ppci, options)\u001b[0m\n\u001b[0;32m    169\u001b[0m     r_theta_kelvin_per_mw \u001b[38;5;241m=\u001b[39m \u001b[38;5;28;01mNone\u001b[39;00m\n\u001b[0;32m    170\u001b[0m \u001b[38;5;28;01melse\u001b[39;00m:\n\u001b[1;32m--> 171\u001b[0m     V, success, iterations, J, Vm_it, Va_it, r_theta_kelvin_per_mw, T \u001b[38;5;241m=\u001b[39m \u001b[43mnewtonpf\u001b[49m\u001b[43m(\u001b[49m\u001b[43mYbus\u001b[49m\u001b[43m,\u001b[49m\u001b[43m \u001b[49m\u001b[43mSbus\u001b[49m\u001b[43m,\u001b[49m\u001b[43m \u001b[49m\u001b[43mV0\u001b[49m\u001b[43m,\u001b[49m\u001b[43m \u001b[49m\u001b[43mref\u001b[49m\u001b[43m,\u001b[49m\u001b[43m \u001b[49m\u001b[43mpv\u001b[49m\u001b[43m,\u001b[49m\u001b[43m \u001b[49m\u001b[43mpq\u001b[49m\u001b[43m,\u001b[49m\u001b[43m \u001b[49m\u001b[43mppci\u001b[49m\u001b[43m,\u001b[49m\u001b[43m \u001b[49m\u001b[43moptions\u001b[49m\u001b[43m,\u001b[49m\u001b[43m \u001b[49m\u001b[43mmakeYbus\u001b[49m\u001b[43m)\u001b[49m\n\u001b[0;32m    172\u001b[0m     \u001b[38;5;66;03m# due to TPDF, SVC, TCSC, the Ybus matrices can be updated in the newtonpf and stored in ppci[\"internal\"],\u001b[39;00m\n\u001b[0;32m    173\u001b[0m     \u001b[38;5;66;03m# so we extract them here for later use:\u001b[39;00m\n\u001b[0;32m    174\u001b[0m     Ybus, Ybus_svc, Ybus_tcsc, Ybus_ssc \u001b[38;5;241m=\u001b[39m (ppci[\u001b[38;5;124m\"\u001b[39m\u001b[38;5;124minternal\u001b[39m\u001b[38;5;124m\"\u001b[39m]\u001b[38;5;241m.\u001b[39mget(key) \u001b[38;5;28;01mfor\u001b[39;00m key \u001b[38;5;129;01min\u001b[39;00m (\u001b[38;5;124m\"\u001b[39m\u001b[38;5;124mYbus\u001b[39m\u001b[38;5;124m\"\u001b[39m, \u001b[38;5;124m\"\u001b[39m\u001b[38;5;124mYbus_svc\u001b[39m\u001b[38;5;124m\"\u001b[39m, \u001b[38;5;124m\"\u001b[39m\u001b[38;5;124mYbus_tcsc\u001b[39m\u001b[38;5;124m\"\u001b[39m, \u001b[38;5;124m\"\u001b[39m\u001b[38;5;124mYbus_ssc\u001b[39m\u001b[38;5;124m\"\u001b[39m))\n",
      "File \u001b[1;32m~\\AppData\\Local\\Packages\\PythonSoftwareFoundation.Python.3.10_qbz5n2kfra8p0\\LocalCache\\local-packages\\Python310\\site-packages\\pandapower\\pypower\\newtonpf.py:378\u001b[0m, in \u001b[0;36mnewtonpf\u001b[1;34m(Ybus, Sbus, V0, ref, pv, pq, ppci, options, makeYbus)\u001b[0m\n\u001b[0;32m    373\u001b[0m     Ybus_tcsc \u001b[38;5;241m=\u001b[39m makeYbus_tcsc(Ybus, x_control_tcsc, tcsc_x_l_pu, tcsc_x_cvar_pu, tcsc_fb, tcsc_tb)\n\u001b[0;32m    374\u001b[0m \u001b[38;5;66;03m# Ybus_ssc does not change\u001b[39;00m\n\u001b[0;32m    375\u001b[0m \u001b[38;5;66;03m# if any_ssc_controllable:\u001b[39;00m\n\u001b[0;32m    376\u001b[0m \u001b[38;5;66;03m#     Ybus_ssc = makeYbus_ssc(Ybus, ssc_y_pu, ssc_fb, ssc_tb, any_ssc)\u001b[39;00m\n\u001b[1;32m--> 378\u001b[0m F \u001b[38;5;241m=\u001b[39m _evaluate_Fx(\u001b[43mYbus\u001b[49m\u001b[43m \u001b[49m\u001b[38;5;241;43m+\u001b[39;49m\u001b[43m \u001b[49m\u001b[43mYbus_svc\u001b[49m \u001b[38;5;241m+\u001b[39m Ybus_tcsc \u001b[38;5;241m+\u001b[39m Ybus_ssc, V, Sbus, ref, pv, pq, slack_weights, dist_slack, slack)\n\u001b[0;32m    379\u001b[0m \u001b[38;5;28;01mif\u001b[39;00m any_facts_controllable \u001b[38;5;129;01mor\u001b[39;00m any_ssc_controllable:\n\u001b[0;32m    380\u001b[0m     mis_facts \u001b[38;5;241m=\u001b[39m _evaluate_Fx_facts(V, pq, svc_buses[svc_controllable], svc_set_vm_pu[svc_controllable],\n\u001b[0;32m    381\u001b[0m                                    tcsc_controllable, tcsc_set_p_pu, tcsc_tb, Ybus_tcsc,\n\u001b[0;32m    382\u001b[0m                                    ssc_fb[ssc_controllable], ssc_tb[ssc_controllable], ssc_controllable,\n\u001b[0;32m    383\u001b[0m                                    ssc_set_vm_pu, F, pq_lookup)\n",
      "File \u001b[1;32m~\\AppData\\Local\\Packages\\PythonSoftwareFoundation.Python.3.10_qbz5n2kfra8p0\\LocalCache\\local-packages\\Python310\\site-packages\\scipy\\sparse\\_base.py:530\u001b[0m, in \u001b[0;36m_spbase.__add__\u001b[1;34m(self, other)\u001b[0m\n\u001b[0;32m    528\u001b[0m     \u001b[38;5;28;01mif\u001b[39;00m other\u001b[38;5;241m.\u001b[39mshape \u001b[38;5;241m!=\u001b[39m \u001b[38;5;28mself\u001b[39m\u001b[38;5;241m.\u001b[39mshape:\n\u001b[0;32m    529\u001b[0m         \u001b[38;5;28;01mraise\u001b[39;00m \u001b[38;5;167;01mValueError\u001b[39;00m(\u001b[38;5;124m\"\u001b[39m\u001b[38;5;124minconsistent shapes\u001b[39m\u001b[38;5;124m\"\u001b[39m)\n\u001b[1;32m--> 530\u001b[0m     \u001b[38;5;28;01mreturn\u001b[39;00m \u001b[38;5;28;43mself\u001b[39;49m\u001b[38;5;241;43m.\u001b[39;49m\u001b[43m_add_sparse\u001b[49m\u001b[43m(\u001b[49m\u001b[43mother\u001b[49m\u001b[43m)\u001b[49m\n\u001b[0;32m    531\u001b[0m \u001b[38;5;28;01melif\u001b[39;00m isdense(other):\n\u001b[0;32m    532\u001b[0m     other \u001b[38;5;241m=\u001b[39m np\u001b[38;5;241m.\u001b[39mbroadcast_to(other, \u001b[38;5;28mself\u001b[39m\u001b[38;5;241m.\u001b[39mshape)\n",
      "File \u001b[1;32m~\\AppData\\Local\\Packages\\PythonSoftwareFoundation.Python.3.10_qbz5n2kfra8p0\\LocalCache\\local-packages\\Python310\\site-packages\\scipy\\sparse\\_compressed.py:357\u001b[0m, in \u001b[0;36m_cs_matrix._add_sparse\u001b[1;34m(self, other)\u001b[0m\n\u001b[0;32m    356\u001b[0m \u001b[38;5;28;01mdef\u001b[39;00m \u001b[38;5;21m_add_sparse\u001b[39m(\u001b[38;5;28mself\u001b[39m, other):\n\u001b[1;32m--> 357\u001b[0m     \u001b[38;5;28;01mreturn\u001b[39;00m \u001b[38;5;28;43mself\u001b[39;49m\u001b[38;5;241;43m.\u001b[39;49m\u001b[43m_binopt\u001b[49m\u001b[43m(\u001b[49m\u001b[43mother\u001b[49m\u001b[43m,\u001b[49m\u001b[43m \u001b[49m\u001b[38;5;124;43m'\u001b[39;49m\u001b[38;5;124;43m_plus_\u001b[39;49m\u001b[38;5;124;43m'\u001b[39;49m\u001b[43m)\u001b[49m\n",
      "File \u001b[1;32m~\\AppData\\Local\\Packages\\PythonSoftwareFoundation.Python.3.10_qbz5n2kfra8p0\\LocalCache\\local-packages\\Python310\\site-packages\\scipy\\sparse\\_compressed.py:1312\u001b[0m, in \u001b[0;36m_cs_matrix._binopt\u001b[1;34m(self, other, op)\u001b[0m\n\u001b[0;32m   1309\u001b[0m \u001b[38;5;28;01melse\u001b[39;00m:\n\u001b[0;32m   1310\u001b[0m     data \u001b[38;5;241m=\u001b[39m np\u001b[38;5;241m.\u001b[39mempty(maxnnz, dtype\u001b[38;5;241m=\u001b[39mupcast(\u001b[38;5;28mself\u001b[39m\u001b[38;5;241m.\u001b[39mdtype, other\u001b[38;5;241m.\u001b[39mdtype))\n\u001b[1;32m-> 1312\u001b[0m \u001b[43mfn\u001b[49m\u001b[43m(\u001b[49m\u001b[38;5;28;43mself\u001b[39;49m\u001b[38;5;241;43m.\u001b[39;49m\u001b[43mshape\u001b[49m\u001b[43m[\u001b[49m\u001b[38;5;241;43m0\u001b[39;49m\u001b[43m]\u001b[49m\u001b[43m,\u001b[49m\u001b[43m \u001b[49m\u001b[38;5;28;43mself\u001b[39;49m\u001b[38;5;241;43m.\u001b[39;49m\u001b[43mshape\u001b[49m\u001b[43m[\u001b[49m\u001b[38;5;241;43m1\u001b[39;49m\u001b[43m]\u001b[49m\u001b[43m,\u001b[49m\n\u001b[0;32m   1313\u001b[0m \u001b[43m   \u001b[49m\u001b[43mnp\u001b[49m\u001b[38;5;241;43m.\u001b[39;49m\u001b[43masarray\u001b[49m\u001b[43m(\u001b[49m\u001b[38;5;28;43mself\u001b[39;49m\u001b[38;5;241;43m.\u001b[39;49m\u001b[43mindptr\u001b[49m\u001b[43m,\u001b[49m\u001b[43m \u001b[49m\u001b[43mdtype\u001b[49m\u001b[38;5;241;43m=\u001b[39;49m\u001b[43midx_dtype\u001b[49m\u001b[43m)\u001b[49m\u001b[43m,\u001b[49m\n\u001b[0;32m   1314\u001b[0m \u001b[43m   \u001b[49m\u001b[43mnp\u001b[49m\u001b[38;5;241;43m.\u001b[39;49m\u001b[43masarray\u001b[49m\u001b[43m(\u001b[49m\u001b[38;5;28;43mself\u001b[39;49m\u001b[38;5;241;43m.\u001b[39;49m\u001b[43mindices\u001b[49m\u001b[43m,\u001b[49m\u001b[43m \u001b[49m\u001b[43mdtype\u001b[49m\u001b[38;5;241;43m=\u001b[39;49m\u001b[43midx_dtype\u001b[49m\u001b[43m)\u001b[49m\u001b[43m,\u001b[49m\n\u001b[0;32m   1315\u001b[0m \u001b[43m   \u001b[49m\u001b[38;5;28;43mself\u001b[39;49m\u001b[38;5;241;43m.\u001b[39;49m\u001b[43mdata\u001b[49m\u001b[43m,\u001b[49m\n\u001b[0;32m   1316\u001b[0m \u001b[43m   \u001b[49m\u001b[43mnp\u001b[49m\u001b[38;5;241;43m.\u001b[39;49m\u001b[43masarray\u001b[49m\u001b[43m(\u001b[49m\u001b[43mother\u001b[49m\u001b[38;5;241;43m.\u001b[39;49m\u001b[43mindptr\u001b[49m\u001b[43m,\u001b[49m\u001b[43m \u001b[49m\u001b[43mdtype\u001b[49m\u001b[38;5;241;43m=\u001b[39;49m\u001b[43midx_dtype\u001b[49m\u001b[43m)\u001b[49m\u001b[43m,\u001b[49m\n\u001b[0;32m   1317\u001b[0m \u001b[43m   \u001b[49m\u001b[43mnp\u001b[49m\u001b[38;5;241;43m.\u001b[39;49m\u001b[43masarray\u001b[49m\u001b[43m(\u001b[49m\u001b[43mother\u001b[49m\u001b[38;5;241;43m.\u001b[39;49m\u001b[43mindices\u001b[49m\u001b[43m,\u001b[49m\u001b[43m \u001b[49m\u001b[43mdtype\u001b[49m\u001b[38;5;241;43m=\u001b[39;49m\u001b[43midx_dtype\u001b[49m\u001b[43m)\u001b[49m\u001b[43m,\u001b[49m\n\u001b[0;32m   1318\u001b[0m \u001b[43m   \u001b[49m\u001b[43mother\u001b[49m\u001b[38;5;241;43m.\u001b[39;49m\u001b[43mdata\u001b[49m\u001b[43m,\u001b[49m\n\u001b[0;32m   1319\u001b[0m \u001b[43m   \u001b[49m\u001b[43mindptr\u001b[49m\u001b[43m,\u001b[49m\u001b[43m \u001b[49m\u001b[43mindices\u001b[49m\u001b[43m,\u001b[49m\u001b[43m \u001b[49m\u001b[43mdata\u001b[49m\u001b[43m)\u001b[49m\n\u001b[0;32m   1321\u001b[0m A \u001b[38;5;241m=\u001b[39m \u001b[38;5;28mself\u001b[39m\u001b[38;5;241m.\u001b[39m\u001b[38;5;18m__class__\u001b[39m((data, indices, indptr), shape\u001b[38;5;241m=\u001b[39m\u001b[38;5;28mself\u001b[39m\u001b[38;5;241m.\u001b[39mshape)\n\u001b[0;32m   1322\u001b[0m A\u001b[38;5;241m.\u001b[39mprune()\n",
      "\u001b[1;31mKeyboardInterrupt\u001b[0m: "
     ]
    }
   ],
   "source": [
    "pp.runpp(net, init='auto', max_iteration=20000, tolerance_mva=1e-6, calculate_voltage_angles=True)\n",
    "\n",
    "print(net.res_bus[[\"vm_pu\"]].describe())        # Voltage profile\n",
    "print(net.res_line[[\"loading_percent\"]].max())  # Worst-case line loading"
   ]
  },
  {
   "cell_type": "code",
   "execution_count": null,
   "metadata": {},
   "outputs": [
    {
     "name": "stdout",
     "output_type": "stream",
     "text": [
      "          vm_pu\n",
      "count  7.000000\n",
      "mean   1.049840\n",
      "std    0.000107\n",
      "min    1.049726\n",
      "25%    1.049752\n",
      "50%    1.049846\n",
      "75%    1.049903\n",
      "max    1.050000\n",
      "loading_percent    1.464944\n",
      "dtype: float64\n"
     ]
    }
   ],
   "source": [
    "pp.runpp(net, init='results', numba=False)\n",
    "\n",
    "print(net.res_bus[[\"vm_pu\"]].describe())        # Voltage profile\n",
    "print(net.res_line[[\"loading_percent\"]].max())  # Worst-case line loading"
   ]
  },
  {
   "cell_type": "code",
   "execution_count": null,
   "metadata": {},
   "outputs": [
    {
     "name": "stdout",
     "output_type": "stream",
     "text": [
      "          vm_pu\n",
      "count  7.000000\n",
      "mean   1.049840\n",
      "std    0.000107\n",
      "min    1.049726\n",
      "25%    1.049752\n",
      "50%    1.049846\n",
      "75%    1.049903\n",
      "max    1.050000\n",
      "loading_percent    1.464944\n",
      "dtype: float64\n"
     ]
    }
   ],
   "source": [
    "pp.runpp(net, init='auto', numba=False)\n",
    "\n",
    "print(net.res_bus[[\"vm_pu\"]].describe())        # Voltage profile\n",
    "print(net.res_line[[\"loading_percent\"]].max())  # Worst-case line loading"
   ]
  },
  {
   "cell_type": "code",
   "execution_count": null,
   "metadata": {},
   "outputs": [],
   "source": [
    "net.res_bus.to_csv('./results/res_bus.csv')\n",
    "net.res_line.to_csv('./results/res_line.csv')\n",
    "net.res_trafo.to_csv('./results/res_trafo.csv')\n",
    "net.res_ext_grid.to_csv('./results/res_ext_grid.csv')"
   ]
  },
  {
   "cell_type": "code",
   "execution_count": null,
   "metadata": {},
   "outputs": [
    {
     "name": "stdout",
     "output_type": "stream",
     "text": [
      "       Name  npts  minterval                 File  useactual\n",
      "0   Shape_1  1440          1   Load_profile_1.csv       True\n",
      "1   Shape_2  1440          1   Load_profile_2.csv       True\n",
      "2   Shape_3  1440          1   Load_profile_3.csv       True\n",
      "3   Shape_4  1440          1   Load_profile_4.csv       True\n",
      "4   Shape_5  1440          1   Load_profile_5.csv       True\n",
      "5   Shape_6  1440          1   Load_profile_6.csv       True\n",
      "6   Shape_7  1440          1   Load_profile_7.csv       True\n",
      "7   Shape_8  1440          1   Load_profile_8.csv       True\n",
      "8   Shape_9  1440          1   Load_profile_9.csv       True\n",
      "9  Shape_10  1440          1  Load_profile_10.csv       True\n"
     ]
    }
   ],
   "source": [
    "loadShapes_df = pd.read_csv(os.path.join(data_dir, \"LoadShapes.csv\"), skiprows=1, sep=';')\n",
    "print(loadShapes_df.head(10))"
   ]
  }
 ],
 "metadata": {
  "kernelspec": {
   "display_name": "Python 3",
   "language": "python",
   "name": "python3"
  },
  "language_info": {
   "codemirror_mode": {
    "name": "ipython",
    "version": 3
   },
   "file_extension": ".py",
   "mimetype": "text/x-python",
   "name": "python",
   "nbconvert_exporter": "python",
   "pygments_lexer": "ipython3",
   "version": "3.10.11"
  }
 },
 "nbformat": 4,
 "nbformat_minor": 2
}
