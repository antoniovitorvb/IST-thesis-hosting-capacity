{
 "cells": [
  {
   "cell_type": "markdown",
   "metadata": {},
   "source": [
    "# Hosting Capacity Spatial Mapping Models to Support Decision Making\n",
    "\n",
    "## A Reduced Electrically-Equivalent Model of the IEEE European Low Voltage\n",
    "\n",
    "### Panda Power"
   ]
  },
  {
   "cell_type": "code",
   "execution_count": 1,
   "metadata": {},
   "outputs": [
    {
     "name": "stdout",
     "output_type": "stream",
     "text": [
      "load C:\\Users\\vitor\\AppData\\Local\\Packages\\PythonSoftwareFoundation.Python.3.10_qbz5n2kfra8p0\\LocalCache\\local-packages\\Python310\\site-packages\\ortools\\.libs\\zlib1.dll...\n",
      "load C:\\Users\\vitor\\AppData\\Local\\Packages\\PythonSoftwareFoundation.Python.3.10_qbz5n2kfra8p0\\LocalCache\\local-packages\\Python310\\site-packages\\ortools\\.libs\\abseil_dll.dll...\n",
      "load C:\\Users\\vitor\\AppData\\Local\\Packages\\PythonSoftwareFoundation.Python.3.10_qbz5n2kfra8p0\\LocalCache\\local-packages\\Python310\\site-packages\\ortools\\.libs\\utf8_validity.dll...\n",
      "load C:\\Users\\vitor\\AppData\\Local\\Packages\\PythonSoftwareFoundation.Python.3.10_qbz5n2kfra8p0\\LocalCache\\local-packages\\Python310\\site-packages\\ortools\\.libs\\re2.dll...\n",
      "load C:\\Users\\vitor\\AppData\\Local\\Packages\\PythonSoftwareFoundation.Python.3.10_qbz5n2kfra8p0\\LocalCache\\local-packages\\Python310\\site-packages\\ortools\\.libs\\libprotobuf.dll...\n",
      "load C:\\Users\\vitor\\AppData\\Local\\Packages\\PythonSoftwareFoundation.Python.3.10_qbz5n2kfra8p0\\LocalCache\\local-packages\\Python310\\site-packages\\ortools\\.libs\\highs.dll...\n",
      "load C:\\Users\\vitor\\AppData\\Local\\Packages\\PythonSoftwareFoundation.Python.3.10_qbz5n2kfra8p0\\LocalCache\\local-packages\\Python310\\site-packages\\ortools\\.libs\\ortools.dll...\n"
     ]
    }
   ],
   "source": [
    "import pandas as pd\n",
    "import pandapower as pp\n",
    "import numpy as np\n",
    "import os, math\n",
    "\n",
    "data_dir = 'Modified_116_LV_CSV'"
   ]
  },
  {
   "cell_type": "markdown",
   "metadata": {},
   "source": [
    "<div style=\"text-align: center;\">\n",
    "    <div style=\"background-color: white; display: inline-block; padding: 10px;\">\n",
    "        <img src=\"Modified_116_LV_CSV/Modified 116 LV feeder.png\" width=\"600px\">\n",
    "    </div>\n",
    "</div>"
   ]
  },
  {
   "cell_type": "code",
   "execution_count": 2,
   "metadata": {},
   "outputs": [
    {
     "name": "stdout",
     "output_type": "stream",
     "text": [
      "{'Voltage': 11.0, 'pu': 1.05, 'ISC3': 3000.0, 'ISC1': 5.0}\n",
      "{'Name': 'TR1', ' phases': 3, ' bus1': 'SourceBus', ' bus2': 1, ' kV_pri': 11, ' kV_sec': 0.416, ' MVA': 0.8, ' Conn_pri': ' Delta', ' Conn_sec': ' Wye', ' %XHL': 4, '% resistance': 0.4}\n"
     ]
    }
   ],
   "source": [
    "# Source data\n",
    "source_df = pd.read_csv(os.path.join(data_dir,'Source.csv'), skiprows=1, sep='=')\n",
    "source_dict = {i:float(row.iloc[0].split()[0]) for i, row in source_df.iterrows()}\n",
    "print(source_dict)\n",
    "\n",
    "source_dict['ISC1'] = source_dict['ISC1'] / 1000\n",
    "source_dict['ISC3'] = source_dict['ISC3'] / 1000\n",
    "\n",
    "# Transformer data\n",
    "trafo_df = pd.read_csv(os.path.join(data_dir,'Transformer.csv'), skiprows=1, sep=';')\n",
    "trafo_dict = trafo_df.iloc[0].to_dict()\n",
    "print(trafo_dict)"
   ]
  },
  {
   "cell_type": "code",
   "execution_count": 3,
   "metadata": {},
   "outputs": [
    {
     "data": {
      "text/plain": [
       "0"
      ]
     },
     "execution_count": 3,
     "metadata": {},
     "output_type": "execute_result"
    }
   ],
   "source": [
    "s_sc_mva = np.sqrt(3) * source_dict['Voltage'] * source_dict['ISC3'] #MVA\n",
    "\n",
    "net = pp.create_empty_network()\n",
    "\n",
    "bus_map = {}\n",
    "\n",
    "hv_bus = pp.create_bus(net, name=trafo_dict[' bus1'], vn_kv=source_dict['Voltage'], type=\"b\")\n",
    "lv_bus = pp.create_bus(net, name=trafo_dict[' bus2'], vn_kv=trafo_dict[' kV_sec'], type=\"b\")\n",
    "\n",
    "bus_map[trafo_dict[' bus1']] = hv_bus\n",
    "bus_map[trafo_dict[' bus2']] = lv_bus\n",
    "\n",
    "pp.create_ext_grid(net, bus=hv_bus, vm_pu=source_dict['pu'], s_sc_max_mva=s_sc_mva, rx_max=0.1)\n",
    "\n",
    "pp.create_transformer_from_parameters(\n",
    "    net=net, hv_bus=hv_bus, lv_bus=lv_bus,\n",
    "    sn_mva=trafo_dict[' MVA'],\n",
    "    vn_hv_kv=trafo_dict[' kV_pri'],\n",
    "    vn_lv_kv=trafo_dict[' kV_sec'],\n",
    "    vk_percent=trafo_dict[' %XHL'],\n",
    "    vkr_percent=trafo_dict['% resistance'],\n",
    "    pfe_kw=0.0, i0_percent=0.0, shift_degree=0.0, \n",
    "    name=trafo_dict['Name']\n",
    ")"
   ]
  },
  {
   "cell_type": "code",
   "execution_count": 4,
   "metadata": {},
   "outputs": [],
   "source": [
    "lines_df = pd.read_excel(os.path.join(data_dir, \"Lines.xlsx\"), skiprows=1)\n",
    "# lines_df['Length'] = lines_df['Length'] / 1000 # m to km\n",
    "lines_df['Units'] = 'km'\n",
    "lines_df.head()\n",
    "\n",
    "lineCodes_df = pd.read_csv(os.path.join(data_dir, \"LineCodes.csv\"), skiprows=1, sep=';')\n",
    "\n",
    "all_bus_ids = np.unique(lines_df[['Bus1', 'Bus2']].values.ravel('K'))\n",
    "for id in all_bus_ids:\n",
    "    id = math.floor(id)\n",
    "    if id not in bus_map.keys():\n",
    "        bus = pp.create_bus(net, name=id, vn_kv=trafo_dict[' kV_sec'], type=\"b\")\n",
    "        bus_map[id] = bus"
   ]
  },
  {
   "cell_type": "code",
   "execution_count": 5,
   "metadata": {},
   "outputs": [
    {
     "name": "stdout",
     "output_type": "stream",
     "text": [
      "     Name  numPhases   Bus phases    kV  Model Connection  kW    PF    Yearly\n",
      "0   LOAD1          1   5.0      A  0.23      1        wye   1  0.95   Shape_1\n",
      "1   LOAD2          1   7.0      B  0.23      1        wye   1  0.95   Shape_2\n",
      "2   LOAD3          1  10.0      A  0.23      1        wye   1  0.95   Shape_3\n",
      "3   LOAD4          1  11.0      A  0.23      1        wye   1  0.95   Shape_4\n",
      "4   LOAD5          1  12.0      A  0.23      1        wye   1  0.95   Shape_5\n",
      "5   LOAD6          1  13.0      B  0.23      1        wye   1  0.95   Shape_6\n",
      "6   LOAD7          1  21.0      B  0.23      1        wye   1  0.95   Shape_7\n",
      "7   LOAD8          1  25.0      C  0.23      1        wye   1  0.95   Shape_8\n",
      "8   LOAD9          1  26.0      A  0.23      1        wye   1  0.95   Shape_9\n",
      "9  LOAD10          1  29.2      B  0.23      1        wye   1  0.95  Shape_10\n"
     ]
    },
    {
     "data": {
      "text/html": [
       "<div>\n",
       "<style scoped>\n",
       "    .dataframe tbody tr th:only-of-type {\n",
       "        vertical-align: middle;\n",
       "    }\n",
       "\n",
       "    .dataframe tbody tr th {\n",
       "        vertical-align: top;\n",
       "    }\n",
       "\n",
       "    .dataframe thead th {\n",
       "        text-align: right;\n",
       "    }\n",
       "</style>\n",
       "<table border=\"1\" class=\"dataframe\">\n",
       "  <thead>\n",
       "    <tr style=\"text-align: right;\">\n",
       "      <th></th>\n",
       "      <th>name</th>\n",
       "      <th>bus</th>\n",
       "      <th>p_a_mw</th>\n",
       "      <th>q_a_mvar</th>\n",
       "      <th>p_b_mw</th>\n",
       "      <th>q_b_mvar</th>\n",
       "      <th>p_c_mw</th>\n",
       "      <th>q_c_mvar</th>\n",
       "      <th>sn_mva</th>\n",
       "      <th>scaling</th>\n",
       "      <th>in_service</th>\n",
       "      <th>type</th>\n",
       "    </tr>\n",
       "  </thead>\n",
       "  <tbody>\n",
       "    <tr>\n",
       "      <th>0</th>\n",
       "      <td>LOAD1</td>\n",
       "      <td>5</td>\n",
       "      <td>0.001</td>\n",
       "      <td>0.000329</td>\n",
       "      <td>0.000</td>\n",
       "      <td>0.000000</td>\n",
       "      <td>0.000</td>\n",
       "      <td>0.000000</td>\n",
       "      <td>NaN</td>\n",
       "      <td>1.0</td>\n",
       "      <td>True</td>\n",
       "      <td>wye</td>\n",
       "    </tr>\n",
       "    <tr>\n",
       "      <th>1</th>\n",
       "      <td>LOAD2</td>\n",
       "      <td>7</td>\n",
       "      <td>0.000</td>\n",
       "      <td>0.000000</td>\n",
       "      <td>0.001</td>\n",
       "      <td>0.000329</td>\n",
       "      <td>0.000</td>\n",
       "      <td>0.000000</td>\n",
       "      <td>NaN</td>\n",
       "      <td>1.0</td>\n",
       "      <td>True</td>\n",
       "      <td>wye</td>\n",
       "    </tr>\n",
       "    <tr>\n",
       "      <th>2</th>\n",
       "      <td>LOAD3</td>\n",
       "      <td>10</td>\n",
       "      <td>0.001</td>\n",
       "      <td>0.000329</td>\n",
       "      <td>0.000</td>\n",
       "      <td>0.000000</td>\n",
       "      <td>0.000</td>\n",
       "      <td>0.000000</td>\n",
       "      <td>NaN</td>\n",
       "      <td>1.0</td>\n",
       "      <td>True</td>\n",
       "      <td>wye</td>\n",
       "    </tr>\n",
       "    <tr>\n",
       "      <th>3</th>\n",
       "      <td>LOAD4</td>\n",
       "      <td>11</td>\n",
       "      <td>0.001</td>\n",
       "      <td>0.000329</td>\n",
       "      <td>0.000</td>\n",
       "      <td>0.000000</td>\n",
       "      <td>0.000</td>\n",
       "      <td>0.000000</td>\n",
       "      <td>NaN</td>\n",
       "      <td>1.0</td>\n",
       "      <td>True</td>\n",
       "      <td>wye</td>\n",
       "    </tr>\n",
       "    <tr>\n",
       "      <th>4</th>\n",
       "      <td>LOAD5</td>\n",
       "      <td>12</td>\n",
       "      <td>0.001</td>\n",
       "      <td>0.000329</td>\n",
       "      <td>0.000</td>\n",
       "      <td>0.000000</td>\n",
       "      <td>0.000</td>\n",
       "      <td>0.000000</td>\n",
       "      <td>NaN</td>\n",
       "      <td>1.0</td>\n",
       "      <td>True</td>\n",
       "      <td>wye</td>\n",
       "    </tr>\n",
       "    <tr>\n",
       "      <th>5</th>\n",
       "      <td>LOAD6</td>\n",
       "      <td>13</td>\n",
       "      <td>0.000</td>\n",
       "      <td>0.000000</td>\n",
       "      <td>0.001</td>\n",
       "      <td>0.000329</td>\n",
       "      <td>0.000</td>\n",
       "      <td>0.000000</td>\n",
       "      <td>NaN</td>\n",
       "      <td>1.0</td>\n",
       "      <td>True</td>\n",
       "      <td>wye</td>\n",
       "    </tr>\n",
       "    <tr>\n",
       "      <th>6</th>\n",
       "      <td>LOAD7</td>\n",
       "      <td>21</td>\n",
       "      <td>0.000</td>\n",
       "      <td>0.000000</td>\n",
       "      <td>0.001</td>\n",
       "      <td>0.000329</td>\n",
       "      <td>0.000</td>\n",
       "      <td>0.000000</td>\n",
       "      <td>NaN</td>\n",
       "      <td>1.0</td>\n",
       "      <td>True</td>\n",
       "      <td>wye</td>\n",
       "    </tr>\n",
       "    <tr>\n",
       "      <th>7</th>\n",
       "      <td>LOAD8</td>\n",
       "      <td>25</td>\n",
       "      <td>0.000</td>\n",
       "      <td>0.000000</td>\n",
       "      <td>0.000</td>\n",
       "      <td>0.000000</td>\n",
       "      <td>0.001</td>\n",
       "      <td>0.000329</td>\n",
       "      <td>NaN</td>\n",
       "      <td>1.0</td>\n",
       "      <td>True</td>\n",
       "      <td>wye</td>\n",
       "    </tr>\n",
       "    <tr>\n",
       "      <th>8</th>\n",
       "      <td>LOAD9</td>\n",
       "      <td>26</td>\n",
       "      <td>0.001</td>\n",
       "      <td>0.000329</td>\n",
       "      <td>0.000</td>\n",
       "      <td>0.000000</td>\n",
       "      <td>0.000</td>\n",
       "      <td>0.000000</td>\n",
       "      <td>NaN</td>\n",
       "      <td>1.0</td>\n",
       "      <td>True</td>\n",
       "      <td>wye</td>\n",
       "    </tr>\n",
       "    <tr>\n",
       "      <th>9</th>\n",
       "      <td>LOAD10</td>\n",
       "      <td>29</td>\n",
       "      <td>0.000</td>\n",
       "      <td>0.000000</td>\n",
       "      <td>0.001</td>\n",
       "      <td>0.000329</td>\n",
       "      <td>0.000</td>\n",
       "      <td>0.000000</td>\n",
       "      <td>NaN</td>\n",
       "      <td>1.0</td>\n",
       "      <td>True</td>\n",
       "      <td>wye</td>\n",
       "    </tr>\n",
       "  </tbody>\n",
       "</table>\n",
       "</div>"
      ],
      "text/plain": [
       "     name  bus  p_a_mw  q_a_mvar  p_b_mw  q_b_mvar  p_c_mw  q_c_mvar  sn_mva  \\\n",
       "0   LOAD1    5   0.001  0.000329   0.000  0.000000   0.000  0.000000     NaN   \n",
       "1   LOAD2    7   0.000  0.000000   0.001  0.000329   0.000  0.000000     NaN   \n",
       "2   LOAD3   10   0.001  0.000329   0.000  0.000000   0.000  0.000000     NaN   \n",
       "3   LOAD4   11   0.001  0.000329   0.000  0.000000   0.000  0.000000     NaN   \n",
       "4   LOAD5   12   0.001  0.000329   0.000  0.000000   0.000  0.000000     NaN   \n",
       "5   LOAD6   13   0.000  0.000000   0.001  0.000329   0.000  0.000000     NaN   \n",
       "6   LOAD7   21   0.000  0.000000   0.001  0.000329   0.000  0.000000     NaN   \n",
       "7   LOAD8   25   0.000  0.000000   0.000  0.000000   0.001  0.000329     NaN   \n",
       "8   LOAD9   26   0.001  0.000329   0.000  0.000000   0.000  0.000000     NaN   \n",
       "9  LOAD10   29   0.000  0.000000   0.001  0.000329   0.000  0.000000     NaN   \n",
       "\n",
       "   scaling  in_service type  \n",
       "0      1.0        True  wye  \n",
       "1      1.0        True  wye  \n",
       "2      1.0        True  wye  \n",
       "3      1.0        True  wye  \n",
       "4      1.0        True  wye  \n",
       "5      1.0        True  wye  \n",
       "6      1.0        True  wye  \n",
       "7      1.0        True  wye  \n",
       "8      1.0        True  wye  \n",
       "9      1.0        True  wye  "
      ]
     },
     "execution_count": 5,
     "metadata": {},
     "output_type": "execute_result"
    }
   ],
   "source": [
    "# Create Loads\n",
    "loads_df = pd.read_excel(os.path.join(data_dir, \"Loads.xlsx\"), skiprows=2)\n",
    "print(loads_df.head(10))\n",
    "\n",
    "net.asymmetric_load.drop(net.asymmetric_load.index, inplace=True)\n",
    "load_map = {}\n",
    "for _, row in loads_df.iterrows():\n",
    "    # print(_, '->', row)\n",
    "    bus_id = math.floor(row['Bus'])\n",
    "    pa = qa = pb = qb = pc = qc = 0\n",
    "    if (bus_id in bus_map) & (row['phases'] in {'A', 'B', 'C'}):\n",
    "        if row['phases']=='A':\n",
    "            pa = row['kW'] / 1000\n",
    "            qa = row['kW']/1000 * np.tan(np.arccos(row['PF']))\n",
    "        elif row['phases']=='B':\n",
    "            pb = row['kW'] / 1000\n",
    "            qb = row['kW']/1000 * np.tan(np.arccos(row['PF']))\n",
    "        else: # row['phases']=='C'\n",
    "            pc = row['kW'] / 1000\n",
    "            qc = row['kW']/1000 * np.tan(np.arccos(row['PF']))\n",
    "        load = pp.create_asymmetric_load(\n",
    "            net, bus=bus_map[bus_id],\n",
    "            p_a_mw=pa, q_a_mvar=qa,\n",
    "            p_b_mw=pb, q_b_mvar=qb,\n",
    "            p_c_mw=pc, q_c_mvar=qc,\n",
    "            name=row['Name']\n",
    "        )\n",
    "        load_map[load] = row['Yearly']\n",
    "\n",
    "net.asymmetric_load.head(10)"
   ]
  },
  {
   "cell_type": "markdown",
   "metadata": {},
   "source": [
    "to create a line from parameters `pp.create_line_from_parameters` we must first assign a `max_i_ka` per LineCode.\n",
    "\n",
    "Here is the Standard Line Parameters for PandaPower:"
   ]
  },
  {
   "cell_type": "code",
   "execution_count": 6,
   "metadata": {},
   "outputs": [
    {
     "data": {
      "text/plain": [
       "count    51.000000\n",
       "mean      0.432314\n",
       "std       0.269581\n",
       "min       0.105000\n",
       "25%       0.250500\n",
       "50%       0.350000\n",
       "75%       0.498000\n",
       "max       1.150000\n",
       "Name: max_i_ka, dtype: float64"
      ]
     },
     "execution_count": 6,
     "metadata": {},
     "output_type": "execute_result"
    }
   ],
   "source": [
    "StdLineCodes_df = pd.read_csv(os.path.join(data_dir, 'StandardLineCodes.csv'), sep=';')\n",
    "# print(StdLineCodes_df.head())\n",
    "StdLineCodes_df['max_i_ka'].describe()"
   ]
  },
  {
   "cell_type": "code",
   "execution_count": 7,
   "metadata": {},
   "outputs": [
    {
     "name": "stdout",
     "output_type": "stream",
     "text": [
      "{'r_ohm_per_km': -0.027992220631350536, 'x_ohm_per_km': -0.862038384077252, 'c_nf_per_km': -0.0013628970743908564, 'intercept': 0.8237539896121313}\n",
      "[0.71529451 0.71570356 0.72014921 0.74597276 0.75315532 0.76307509\n",
      " 0.75006473 0.75094965]\n"
     ]
    }
   ],
   "source": [
    "from sklearn.linear_model import LinearRegression\n",
    "\n",
    "X = StdLineCodes_df[['r_ohm_per_km', 'x_ohm_per_km', 'c_nf_per_km']]\n",
    "Y = StdLineCodes_df['max_i_ka']\n",
    "\n",
    "x_test = lineCodes_df[['Name', 'R1', 'X1', 'C1']].set_index('Name')\n",
    "x_test.columns = X.columns\n",
    "\n",
    "model = LinearRegression()\n",
    "model.fit(X, Y)\n",
    "\n",
    "coefficients = dict(zip(X.columns, model.coef_))\n",
    "intercept = model.intercept_\n",
    "\n",
    "coefficients[\"intercept\"] = intercept\n",
    "print(coefficients)\n",
    "\n",
    "y_pred_lr = model.predict(x_test)\n",
    "print(y_pred_lr)"
   ]
  },
  {
   "cell_type": "code",
   "execution_count": 8,
   "metadata": {},
   "outputs": [
    {
     "name": "stdout",
     "output_type": "stream",
     "text": [
      "[0.19    0.19    0.315   0.48425 0.48425 0.48425 0.48425 0.48425]\n"
     ]
    },
    {
     "data": {
      "text/html": [
       "<div>\n",
       "<style scoped>\n",
       "    .dataframe tbody tr th:only-of-type {\n",
       "        vertical-align: middle;\n",
       "    }\n",
       "\n",
       "    .dataframe tbody tr th {\n",
       "        vertical-align: top;\n",
       "    }\n",
       "\n",
       "    .dataframe thead th {\n",
       "        text-align: right;\n",
       "    }\n",
       "</style>\n",
       "<table border=\"1\" class=\"dataframe\">\n",
       "  <thead>\n",
       "    <tr style=\"text-align: right;\">\n",
       "      <th></th>\n",
       "      <th>Name</th>\n",
       "      <th>nphases</th>\n",
       "      <th>R1</th>\n",
       "      <th>X1</th>\n",
       "      <th>R0</th>\n",
       "      <th>X0</th>\n",
       "      <th>C1</th>\n",
       "      <th>C0</th>\n",
       "      <th>Units</th>\n",
       "      <th>max_i_ka</th>\n",
       "    </tr>\n",
       "  </thead>\n",
       "  <tbody>\n",
       "    <tr>\n",
       "      <th>0</th>\n",
       "      <td>2c_.0225</td>\n",
       "      <td>3</td>\n",
       "      <td>1.257</td>\n",
       "      <td>0.0850</td>\n",
       "      <td>1.257</td>\n",
       "      <td>0.085</td>\n",
       "      <td>0</td>\n",
       "      <td>0</td>\n",
       "      <td>km</td>\n",
       "      <td>0.19000</td>\n",
       "    </tr>\n",
       "    <tr>\n",
       "      <th>1</th>\n",
       "      <td>2c_16</td>\n",
       "      <td>3</td>\n",
       "      <td>1.150</td>\n",
       "      <td>0.0880</td>\n",
       "      <td>1.200</td>\n",
       "      <td>0.088</td>\n",
       "      <td>0</td>\n",
       "      <td>0</td>\n",
       "      <td>km</td>\n",
       "      <td>0.19000</td>\n",
       "    </tr>\n",
       "    <tr>\n",
       "      <th>2</th>\n",
       "      <td>35_SAC_XSC</td>\n",
       "      <td>3</td>\n",
       "      <td>0.868</td>\n",
       "      <td>0.0920</td>\n",
       "      <td>0.760</td>\n",
       "      <td>0.092</td>\n",
       "      <td>0</td>\n",
       "      <td>0</td>\n",
       "      <td>km</td>\n",
       "      <td>0.31500</td>\n",
       "    </tr>\n",
       "    <tr>\n",
       "      <th>3</th>\n",
       "      <td>4c_.06</td>\n",
       "      <td>3</td>\n",
       "      <td>0.469</td>\n",
       "      <td>0.0750</td>\n",
       "      <td>1.581</td>\n",
       "      <td>0.091</td>\n",
       "      <td>0</td>\n",
       "      <td>0</td>\n",
       "      <td>km</td>\n",
       "      <td>0.48425</td>\n",
       "    </tr>\n",
       "    <tr>\n",
       "      <th>4</th>\n",
       "      <td>4c_.1</td>\n",
       "      <td>3</td>\n",
       "      <td>0.274</td>\n",
       "      <td>0.0730</td>\n",
       "      <td>0.959</td>\n",
       "      <td>0.079</td>\n",
       "      <td>0</td>\n",
       "      <td>0</td>\n",
       "      <td>km</td>\n",
       "      <td>0.48425</td>\n",
       "    </tr>\n",
       "    <tr>\n",
       "      <th>5</th>\n",
       "      <td>4c_.35</td>\n",
       "      <td>3</td>\n",
       "      <td>0.089</td>\n",
       "      <td>0.0675</td>\n",
       "      <td>0.319</td>\n",
       "      <td>0.076</td>\n",
       "      <td>0</td>\n",
       "      <td>0</td>\n",
       "      <td>km</td>\n",
       "      <td>0.48425</td>\n",
       "    </tr>\n",
       "    <tr>\n",
       "      <th>6</th>\n",
       "      <td>4c_70</td>\n",
       "      <td>3</td>\n",
       "      <td>0.446</td>\n",
       "      <td>0.0710</td>\n",
       "      <td>1.505</td>\n",
       "      <td>0.083</td>\n",
       "      <td>0</td>\n",
       "      <td>0</td>\n",
       "      <td>km</td>\n",
       "      <td>0.48425</td>\n",
       "    </tr>\n",
       "    <tr>\n",
       "      <th>7</th>\n",
       "      <td>4C_95_SAC_XC</td>\n",
       "      <td>3</td>\n",
       "      <td>0.322</td>\n",
       "      <td>0.0740</td>\n",
       "      <td>0.804</td>\n",
       "      <td>0.093</td>\n",
       "      <td>0</td>\n",
       "      <td>0</td>\n",
       "      <td>km</td>\n",
       "      <td>0.48425</td>\n",
       "    </tr>\n",
       "  </tbody>\n",
       "</table>\n",
       "</div>"
      ],
      "text/plain": [
       "           Name  nphases     R1      X1     R0     X0  C1  C0 Units  max_i_ka\n",
       "0      2c_.0225        3  1.257  0.0850  1.257  0.085   0   0    km   0.19000\n",
       "1         2c_16        3  1.150  0.0880  1.200  0.088   0   0    km   0.19000\n",
       "2    35_SAC_XSC        3  0.868  0.0920  0.760  0.092   0   0    km   0.31500\n",
       "3        4c_.06        3  0.469  0.0750  1.581  0.091   0   0    km   0.48425\n",
       "4         4c_.1        3  0.274  0.0730  0.959  0.079   0   0    km   0.48425\n",
       "5        4c_.35        3  0.089  0.0675  0.319  0.076   0   0    km   0.48425\n",
       "6         4c_70        3  0.446  0.0710  1.505  0.083   0   0    km   0.48425\n",
       "7  4C_95_SAC_XC        3  0.322  0.0740  0.804  0.093   0   0    km   0.48425"
      ]
     },
     "execution_count": 8,
     "metadata": {},
     "output_type": "execute_result"
    }
   ],
   "source": [
    "from sklearn.neighbors import KNeighborsRegressor\n",
    "from sklearn.preprocessing import StandardScaler\n",
    "\n",
    "scaler = StandardScaler()\n",
    "X_scaled = scaler.fit_transform(X)\n",
    "x_test_scaled = scaler.fit_transform(x_test)\n",
    "\n",
    "knn = KNeighborsRegressor(n_neighbors=4)\n",
    "knn.fit(X_scaled, Y)\n",
    "\n",
    "y_pred_knn = knn.predict(x_test_scaled)\n",
    "print(y_pred_knn)\n",
    "\n",
    "lineCodes_df['max_i_ka'] = y_pred_knn\n",
    "lineCodes_df"
   ]
  },
  {
   "cell_type": "code",
   "execution_count": 9,
   "metadata": {},
   "outputs": [],
   "source": [
    "# lineCodes_df['max_i_ka'] = y_pred_knn\n",
    "# lineCodes_df['max_i_ka'] = y_pred_lr\n",
    "# lineCodes_df['max_i_ka'] = np.ones(len(lineCodes_df))\n",
    "# lineCodes_df"
   ]
  },
  {
   "cell_type": "code",
   "execution_count": 10,
   "metadata": {},
   "outputs": [
    {
     "data": {
      "text/plain": [
       "This pandapower network includes the following parameter tables:\n",
       "   - bus (117 elements)\n",
       "   - asymmetric_load (55 elements)\n",
       "   - ext_grid (1 element)\n",
       "   - line (115 elements)\n",
       "   - trafo (1 element)"
      ]
     },
     "execution_count": 10,
     "metadata": {},
     "output_type": "execute_result"
    }
   ],
   "source": [
    "full_line_df = lines_df.merge(lineCodes_df, left_on=\"LineCode\", right_on=\"Name\", how=\"left\")\n",
    "full_line_df.head(10)\n",
    "\n",
    "net.line.drop(net.line.index, inplace=True)\n",
    "for _, line in full_line_df.iterrows():\n",
    "    # print(line)\n",
    "    pp.create_line_from_parameters(\n",
    "        net, from_bus = bus_map[math.floor(line['Bus1'])],\n",
    "        to_bus = bus_map[math.floor(line['Bus2'])],\n",
    "        length_km = line['Length'],\n",
    "        r_ohm_per_km=line[\"R1\"],\n",
    "        x_ohm_per_km=line[\"X1\"],\n",
    "        c_nf_per_km=line[\"C1\"],\n",
    "        max_i_ka=line[\"max_i_ka\"],\n",
    "        name=line[\"Name_x\"]\n",
    "    )\n",
    "\n",
    "net"
   ]
  },
  {
   "cell_type": "code",
   "execution_count": 11,
   "metadata": {},
   "outputs": [
    {
     "name": "stderr",
     "output_type": "stream",
     "text": [
      "\n",
      "\n",
      "_____________ PANDAPOWER DIAGNOSTIC TOOL _____________ \n",
      "\n",
      "\n",
      " --------\n",
      "\n",
      "\n",
      " --------\n",
      "\n",
      "\n",
      " --------\n",
      "\n",
      "\n",
      " --------\n",
      "\n",
      "\n",
      " --------\n",
      "\n",
      "\n",
      " --------\n",
      "\n",
      "Checking for overload...\n",
      "\n",
      "Overload check failed: Power flow still does not converge with load and generation scaled down to 0.1 percent.\n",
      "\n",
      " --------\n",
      "\n",
      "\n",
      " --------\n",
      "\n",
      "Checking switch configuration...\n",
      "\n",
      "Power flow still does not converge with all switches closed.\n",
      "\n",
      " --------\n",
      "\n",
      "\n",
      " --------\n",
      "\n",
      "\n",
      " --------\n",
      "\n",
      "\n",
      " --------\n",
      "\n",
      "numba_comparison failed due to the following error:\n",
      "Power Flow nr did not converge after 10 iterations!\n",
      "\n",
      " --------\n",
      "\n",
      "\n",
      " --------\n",
      "\n",
      "_____________ END OF PANDAPOWER DIAGNOSTIC _____________ \n"
     ]
    },
    {
     "data": {
      "text/plain": [
       "{'overload': {'load': False, 'generation': False},\n",
       " 'wrong_switch_configuration': False}"
      ]
     },
     "execution_count": 11,
     "metadata": {},
     "output_type": "execute_result"
    }
   ],
   "source": [
    "pp.diagnostic(net)"
   ]
  },
  {
   "cell_type": "code",
   "execution_count": 13,
   "metadata": {},
   "outputs": [
    {
     "data": {
      "image/png": "[encoded data removed]",
      "text/plain": [
       "<Figure size 1000x800 with 1 Axes>"
      ]
     },
     "metadata": {},
     "output_type": "display_data"
    },
    {
     "data": {
      "text/plain": [
       "<Axes: >"
      ]
     },
     "execution_count": 13,
     "metadata": {},
     "output_type": "execute_result"
    }
   ],
   "source": [
    "import pandapower.plotting as plot\n",
    "plot.simple_plot(net, plot_loads=True)"
   ]
  },
  {
   "cell_type": "code",
   "execution_count": null,
   "metadata": {},
   "outputs": [
    {
     "ename": "LoadflowNotConverged",
     "evalue": "Power Flow nr did not converge after 10000 iterations!",
     "output_type": "error",
     "traceback": [
      "\u001b[1;31m---------------------------------------------------------------------------\u001b[0m",
      "\u001b[1;31mLoadflowNotConverged\u001b[0m                      Traceback (most recent call last)",
      "Cell \u001b[1;32mIn[14], line 1\u001b[0m\n\u001b[1;32m----> 1\u001b[0m \u001b[43mpp\u001b[49m\u001b[38;5;241;43m.\u001b[39;49m\u001b[43mrunpp\u001b[49m\u001b[43m(\u001b[49m\n\u001b[0;32m      2\u001b[0m \u001b[43m    \u001b[49m\u001b[43mnet\u001b[49m\u001b[43m,\u001b[49m\u001b[43m \u001b[49m\u001b[43minit\u001b[49m\u001b[38;5;241;43m=\u001b[39;49m\u001b[38;5;124;43m'\u001b[39;49m\u001b[38;5;124;43mdc\u001b[39;49m\u001b[38;5;124;43m'\u001b[39;49m\u001b[43m,\u001b[49m\n\u001b[0;32m      3\u001b[0m \u001b[43m    \u001b[49m\u001b[43mmax_iteration\u001b[49m\u001b[38;5;241;43m=\u001b[39;49m\u001b[38;5;241;43m10000\u001b[39;49m\u001b[43m,\u001b[49m\n\u001b[0;32m      4\u001b[0m \u001b[43m    \u001b[49m\u001b[43mtolerance_mva\u001b[49m\u001b[38;5;241;43m=\u001b[39;49m\u001b[38;5;241;43m1e-3\u001b[39;49m\u001b[43m,\u001b[49m\n\u001b[0;32m      5\u001b[0m \u001b[43m    \u001b[49m\u001b[43menforce_q_lims\u001b[49m\u001b[38;5;241;43m=\u001b[39;49m\u001b[38;5;28;43;01mTrue\u001b[39;49;00m\u001b[43m)\u001b[49m\n\u001b[0;32m      7\u001b[0m \u001b[38;5;28mprint\u001b[39m(net\u001b[38;5;241m.\u001b[39mres_bus[[\u001b[38;5;124m\"\u001b[39m\u001b[38;5;124mvm_pu\u001b[39m\u001b[38;5;124m\"\u001b[39m]]\u001b[38;5;241m.\u001b[39mdescribe())        \u001b[38;5;66;03m# Voltage profile\u001b[39;00m\n\u001b[0;32m      8\u001b[0m \u001b[38;5;28mprint\u001b[39m(net\u001b[38;5;241m.\u001b[39mres_line[[\u001b[38;5;124m\"\u001b[39m\u001b[38;5;124mloading_percent\u001b[39m\u001b[38;5;124m\"\u001b[39m]]\u001b[38;5;241m.\u001b[39mmax())  \u001b[38;5;66;03m# Worst-case line loading\u001b[39;00m\n",
      "File \u001b[1;32m~\\AppData\\Local\\Packages\\PythonSoftwareFoundation.Python.3.10_qbz5n2kfra8p0\\LocalCache\\local-packages\\Python310\\site-packages\\pandapower\\run.py:250\u001b[0m, in \u001b[0;36mrunpp\u001b[1;34m(net, algorithm, calculate_voltage_angles, init, max_iteration, tolerance_mva, trafo_model, trafo_loading, enforce_q_lims, check_connectivity, voltage_depend_loads, consider_line_temperature, run_control, distributed_slack, tdpf, tdpf_delay_s, **kwargs)\u001b[0m\n\u001b[0;32m    248\u001b[0m _check_bus_index_and_print_warning_if_high(net)\n\u001b[0;32m    249\u001b[0m _check_gen_index_and_print_warning_if_high(net)\n\u001b[1;32m--> 250\u001b[0m _powerflow(net, \u001b[38;5;241m*\u001b[39m\u001b[38;5;241m*\u001b[39mkwargs)\n",
      "File \u001b[1;32m~\\AppData\\Local\\Packages\\PythonSoftwareFoundation.Python.3.10_qbz5n2kfra8p0\\LocalCache\\local-packages\\Python310\\site-packages\\pandapower\\powerflow.py:86\u001b[0m, in \u001b[0;36m_powerflow\u001b[1;34m(net, **kwargs)\u001b[0m\n\u001b[0;32m     84\u001b[0m result \u001b[38;5;241m=\u001b[39m _run_pf_algorithm(ppci, net[\u001b[38;5;124m\"\u001b[39m\u001b[38;5;124m_options\u001b[39m\u001b[38;5;124m\"\u001b[39m], \u001b[38;5;241m*\u001b[39m\u001b[38;5;241m*\u001b[39mkwargs)\n\u001b[0;32m     85\u001b[0m \u001b[38;5;66;03m# read the results (=ppci with results) to net\u001b[39;00m\n\u001b[1;32m---> 86\u001b[0m \u001b[43m_ppci_to_net\u001b[49m\u001b[43m(\u001b[49m\u001b[43mresult\u001b[49m\u001b[43m,\u001b[49m\u001b[43m \u001b[49m\u001b[43mnet\u001b[49m\u001b[43m)\u001b[49m\n",
      "File \u001b[1;32m~\\AppData\\Local\\Packages\\PythonSoftwareFoundation.Python.3.10_qbz5n2kfra8p0\\LocalCache\\local-packages\\Python310\\site-packages\\pandapower\\powerflow.py:190\u001b[0m, in \u001b[0;36m_ppci_to_net\u001b[1;34m(result, net)\u001b[0m\n\u001b[0;32m    188\u001b[0m     algorithm \u001b[38;5;241m=\u001b[39m net[\u001b[38;5;124m\"\u001b[39m\u001b[38;5;124m_options\u001b[39m\u001b[38;5;124m\"\u001b[39m][\u001b[38;5;124m\"\u001b[39m\u001b[38;5;124malgorithm\u001b[39m\u001b[38;5;124m\"\u001b[39m]\n\u001b[0;32m    189\u001b[0m     max_iteration \u001b[38;5;241m=\u001b[39m net[\u001b[38;5;124m\"\u001b[39m\u001b[38;5;124m_options\u001b[39m\u001b[38;5;124m\"\u001b[39m][\u001b[38;5;124m\"\u001b[39m\u001b[38;5;124mmax_iteration\u001b[39m\u001b[38;5;124m\"\u001b[39m]\n\u001b[1;32m--> 190\u001b[0m     \u001b[38;5;28;01mraise\u001b[39;00m LoadflowNotConverged(\u001b[38;5;124m\"\u001b[39m\u001b[38;5;124mPower Flow \u001b[39m\u001b[38;5;132;01m{0}\u001b[39;00m\u001b[38;5;124m did not converge after \u001b[39m\u001b[38;5;124m\"\u001b[39m\n\u001b[0;32m    191\u001b[0m                                \u001b[38;5;124m\"\u001b[39m\u001b[38;5;132;01m{1}\u001b[39;00m\u001b[38;5;124m iterations!\u001b[39m\u001b[38;5;124m\"\u001b[39m\u001b[38;5;241m.\u001b[39mformat(algorithm, max_iteration))\n\u001b[0;32m    192\u001b[0m \u001b[38;5;28;01melse\u001b[39;00m:\n\u001b[0;32m    193\u001b[0m     net[\u001b[38;5;124m\"\u001b[39m\u001b[38;5;124m_ppc\u001b[39m\u001b[38;5;124m\"\u001b[39m] \u001b[38;5;241m=\u001b[39m result\n",
      "\u001b[1;31mLoadflowNotConverged\u001b[0m: Power Flow nr did not converge after 10000 iterations!"
     ]
    }
   ],
   "source": [
    "pp.runpp(\n",
    "    net, init='auto',\n",
    "    max_iteration=10000,\n",
    "    tolerance_mva=1e-6,\n",
    "    enforce_q_lims=True)\n",
    "\n",
    "print(net.res_bus[[\"vm_pu\"]].describe())        # Voltage profile\n",
    "print(net.res_line[[\"loading_percent\"]].max())  # Worst-case line loading"
   ]
  },
  {
   "cell_type": "code",
   "execution_count": null,
   "metadata": {},
   "outputs": [],
   "source": [
    "net.res_bus.to_csv('./results/res_bus.csv')\n",
    "net.res_line.to_csv('./results/res_line.csv')\n",
    "net.res_trafo.to_csv('./results/res_trafo.csv')\n",
    "net.res_ext_grid.to_csv('./results/res_ext_grid.csv')"
   ]
  },
  {
   "cell_type": "code",
   "execution_count": null,
   "metadata": {},
   "outputs": [
    {
     "name": "stdout",
     "output_type": "stream",
     "text": [
      "       Name  npts  minterval                 File  useactual\n",
      "0   Shape_1  1440          1   Load_profile_1.csv       True\n",
      "1   Shape_2  1440          1   Load_profile_2.csv       True\n",
      "2   Shape_3  1440          1   Load_profile_3.csv       True\n",
      "3   Shape_4  1440          1   Load_profile_4.csv       True\n",
      "4   Shape_5  1440          1   Load_profile_5.csv       True\n",
      "5   Shape_6  1440          1   Load_profile_6.csv       True\n",
      "6   Shape_7  1440          1   Load_profile_7.csv       True\n",
      "7   Shape_8  1440          1   Load_profile_8.csv       True\n",
      "8   Shape_9  1440          1   Load_profile_9.csv       True\n",
      "9  Shape_10  1440          1  Load_profile_10.csv       True\n"
     ]
    }
   ],
   "source": [
    "loadShapes_df = pd.read_csv(os.path.join(data_dir, \"LoadShapes.csv\"), skiprows=1, sep=';')\n",
    "print(loadShapes_df.head(10))"
   ]
  }
 ],
 "metadata": {
  "kernelspec": {
   "display_name": "Python 3",
   "language": "python",
   "name": "python3"
  },
  "language_info": {
   "codemirror_mode": {
    "name": "ipython",
    "version": 3
   },
   "file_extension": ".py",
   "mimetype": "text/x-python",
   "name": "python",
   "nbconvert_exporter": "python",
   "pygments_lexer": "ipython3",
   "version": "3.10.11"
  }
 },
 "nbformat": 4,
 "nbformat_minor": 2
}
