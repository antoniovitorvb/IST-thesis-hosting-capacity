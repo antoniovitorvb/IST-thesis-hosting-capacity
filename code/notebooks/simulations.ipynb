{
 "cells": [
  {
   "cell_type": "code",
   "execution_count": 6,
   "id": "9ea239db",
   "metadata": {},
   "outputs": [],
   "source": [
    "import os, math, sys\n",
    "import pandas as pd\n",
    "import pandapower as pp\n",
    "import numpy as np\n",
    "\n",
    "from pandapower.file_io import from_json, to_json\n",
    "\n",
    "main_dir = os.path.abspath(os.path.join(os.path.abspath(\"\"), \"..\"))\n",
    "data_dir = 'Modified_116_LV_CSV'\n",
    "\n",
    "if main_dir not in sys.path:\n",
    "    sys.path.insert(0, main_dir)\n",
    "\n",
    "from create_basic_network import debug_result, hc_violation"
   ]
  },
  {
   "cell_type": "code",
   "execution_count": 9,
   "id": "c6e4ae45",
   "metadata": {},
   "outputs": [
    {
     "name": "stdout",
     "output_type": "stream",
     "text": [
      "False True True\n"
     ]
    }
   ],
   "source": [
    "net = from_json(os.path.join(main_dir, 'json_networks', 'no_load_network.json'))\n",
    "net54 = from_json(os.path.join(main_dir, 'json_networks', '54_loads_network.json'))\n",
    "net_far = from_json(os.path.join(main_dir, 'json_networks', 'farthest_load_network.json'))\n",
    "\n",
    "print(hc_violation(net), hc_violation(net54), hc_violation(net_far))"
   ]
  }
 ],
 "metadata": {
  "kernelspec": {
   "display_name": "Python 3",
   "language": "python",
   "name": "python3"
  },
  "language_info": {
   "codemirror_mode": {
    "name": "ipython",
    "version": 3
   },
   "file_extension": ".py",
   "mimetype": "text/x-python",
   "name": "python",
   "nbconvert_exporter": "python",
   "pygments_lexer": "ipython3",
   "version": "3.10.11"
  }
 },
 "nbformat": 4,
 "nbformat_minor": 5
}
