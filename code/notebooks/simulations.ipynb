{
 "cells": [
  {
   "cell_type": "code",
   "execution_count": 20,
   "id": "9ea239db",
   "metadata": {},
   "outputs": [],
   "source": [
    "import os, math, sys\n",
    "import pandas as pd\n",
    "import pandapower as pp\n",
    "import numpy as np\n",
    "\n",
    "from pandapower.file_io import from_json, to_json\n",
    "\n",
    "main_dir = os.path.abspath(os.path.join(os.path.abspath(\"\"), \"..\"))\n",
    "data_dir = 'Modified_116_LV_CSV'\n",
    "\n",
    "if main_dir not in sys.path:\n",
    "    sys.path.insert(0, main_dir)\n",
    "\n",
    "from create_basic_network import debug_result, hc_violation"
   ]
  },
  {
   "cell_type": "code",
   "execution_count": 21,
   "id": "c6e4ae45",
   "metadata": {},
   "outputs": [
    {
     "name": "stdout",
     "output_type": "stream",
     "text": [
      "False False False\n"
     ]
    }
   ],
   "source": [
    "net = from_json(os.path.join(main_dir, 'json_networks', 'no_load_network.json'))\n",
    "net54 = from_json(os.path.join(main_dir, 'json_networks', '54_loads_network.json'))\n",
    "net_far = from_json(os.path.join(main_dir, 'json_networks', 'farthest_load_network.json'))\n",
    "\n",
    "print(hc_violation(net), hc_violation(net54, mod='sto'), hc_violation(net_far, mod='sto'))"
   ]
  },
  {
   "cell_type": "code",
   "execution_count": 25,
   "id": "b086d7d1",
   "metadata": {},
   "outputs": [
    {
     "data": {
      "text/html": [
       "<div>\n",
       "<style scoped>\n",
       "    .dataframe tbody tr th:only-of-type {\n",
       "        vertical-align: middle;\n",
       "    }\n",
       "\n",
       "    .dataframe tbody tr th {\n",
       "        vertical-align: top;\n",
       "    }\n",
       "\n",
       "    .dataframe thead th {\n",
       "        text-align: right;\n",
       "    }\n",
       "</style>\n",
       "<table border=\"1\" class=\"dataframe\">\n",
       "  <thead>\n",
       "    <tr style=\"text-align: right;\">\n",
       "      <th></th>\n",
       "      <th>vm_a_pu</th>\n",
       "      <th>vm_b_pu</th>\n",
       "      <th>vm_c_pu</th>\n",
       "    </tr>\n",
       "  </thead>\n",
       "  <tbody>\n",
       "    <tr>\n",
       "      <th>count</th>\n",
       "      <td>117.000000</td>\n",
       "      <td>117.000000</td>\n",
       "      <td>117.000000</td>\n",
       "    </tr>\n",
       "    <tr>\n",
       "      <th>mean</th>\n",
       "      <td>1.050467</td>\n",
       "      <td>1.050467</td>\n",
       "      <td>1.050467</td>\n",
       "    </tr>\n",
       "    <tr>\n",
       "      <th>std</th>\n",
       "      <td>0.000044</td>\n",
       "      <td>0.000044</td>\n",
       "      <td>0.000044</td>\n",
       "    </tr>\n",
       "    <tr>\n",
       "      <th>min</th>\n",
       "      <td>1.050000</td>\n",
       "      <td>1.050000</td>\n",
       "      <td>1.050000</td>\n",
       "    </tr>\n",
       "    <tr>\n",
       "      <th>25%</th>\n",
       "      <td>1.050471</td>\n",
       "      <td>1.050471</td>\n",
       "      <td>1.050471</td>\n",
       "    </tr>\n",
       "    <tr>\n",
       "      <th>50%</th>\n",
       "      <td>1.050471</td>\n",
       "      <td>1.050471</td>\n",
       "      <td>1.050471</td>\n",
       "    </tr>\n",
       "    <tr>\n",
       "      <th>75%</th>\n",
       "      <td>1.050471</td>\n",
       "      <td>1.050471</td>\n",
       "      <td>1.050471</td>\n",
       "    </tr>\n",
       "    <tr>\n",
       "      <th>max</th>\n",
       "      <td>1.050471</td>\n",
       "      <td>1.050471</td>\n",
       "      <td>1.050471</td>\n",
       "    </tr>\n",
       "  </tbody>\n",
       "</table>\n",
       "</div>"
      ],
      "text/plain": [
       "          vm_a_pu     vm_b_pu     vm_c_pu\n",
       "count  117.000000  117.000000  117.000000\n",
       "mean     1.050467    1.050467    1.050467\n",
       "std      0.000044    0.000044    0.000044\n",
       "min      1.050000    1.050000    1.050000\n",
       "25%      1.050471    1.050471    1.050471\n",
       "50%      1.050471    1.050471    1.050471\n",
       "75%      1.050471    1.050471    1.050471\n",
       "max      1.050471    1.050471    1.050471"
      ]
     },
     "execution_count": 25,
     "metadata": {},
     "output_type": "execute_result"
    }
   ],
   "source": [
    "net_far.res_bus_3ph.loc[:, ['vm_a_pu', 'vm_b_pu', 'vm_c_pu']].describe()"
   ]
  }
 ],
 "metadata": {
  "kernelspec": {
   "display_name": "Python 3",
   "language": "python",
   "name": "python3"
  },
  "language_info": {
   "codemirror_mode": {
    "name": "ipython",
    "version": 3
   },
   "file_extension": ".py",
   "mimetype": "text/x-python",
   "name": "python",
   "nbconvert_exporter": "python",
   "pygments_lexer": "ipython3",
   "version": "3.10.11"
  }
 },
 "nbformat": 4,
 "nbformat_minor": 5
}
