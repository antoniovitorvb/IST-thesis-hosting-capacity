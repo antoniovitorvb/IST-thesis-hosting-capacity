{
 "cells": [
  {
   "cell_type": "code",
   "execution_count": null,
   "id": "bfb4857a",
   "metadata": {},
   "outputs": [],
   "source": [
    "import os, math, sys\n",
    "import pandas as pd\n",
    "import pandapower as pp\n",
    "import numpy as np\n",
    "\n",
    "from pandapower.file_io import from_json, to_json\n",
    "\n",
    "main_dir = os.path.abspath(os.path.join(os.path.abspath(\"\"), \"..\"))\n",
    "data_dir = os.path.join(main_dir, 'Modified_116_LV_CSV')\n",
    "\n",
    "if main_dir not in sys.path:\n",
    "    sys.path.insert(0, main_dir)\n",
    "\n",
    "import create_basic_network as cbn\n",
    "import pp_simu"
   ]
  },
  {
   "cell_type": "code",
   "execution_count": null,
   "id": "eb233ea8",
   "metadata": {},
   "outputs": [],
   "source": [
    "net = from_json(os.path.join(main_dir, 'json_networks', 'full_load_network.json'))\n",
    "print(net)\n",
    "net.res_bus_3ph[['vm_a_pu', 'vm_b_pu', 'vm_c_pu']].describe().to_csv(os.path.join(data_dir, 'full_net.res_bus_3ph_describe.csv'))\n",
    "\n",
    "profile_df, ds = cbn.create_data_source(data_dir)\n",
    "# ds.df.head(10)"
   ]
  },
  {
   "cell_type": "code",
   "execution_count": null,
   "id": "4ccd6779",
   "metadata": {},
   "outputs": [],
   "source": [
    "output_path = os.path.join(main_dir, 'hc_results', 'STO')\n",
    "os.makedirs(output_path) if not os.path.exists(output_path) else None"
   ]
  },
  {
   "cell_type": "markdown",
   "id": "620af944",
   "metadata": {},
   "source": [
    "### 1. PV-only scenario"
   ]
  },
  {
   "cell_type": "code",
   "execution_count": null,
   "id": "7f7e2e98",
   "metadata": {},
   "outputs": [],
   "source": [
    "pv_res, pv_summary = pp_simu.hc_montecarlo(\n",
    "    net, ds, output_path, max_iteration=50, add_kw=1.0, max_kw=20.0, pv=True, ev=False,\n",
    "    ow_index=net.asymmetric_load.bus.unique()\n",
    ")\n",
    "pv_summary"
   ]
  },
  {
   "cell_type": "markdown",
   "id": "9df7e571",
   "metadata": {},
   "source": [
    "### 2. EV-only scenario"
   ]
  },
  {
   "cell_type": "code",
   "execution_count": null,
   "id": "5fe7de50",
   "metadata": {},
   "outputs": [],
   "source": [
    "ev_res, ev_summary = pp_simu.hc_montecarlo(\n",
    "    net, ds, output_path, max_iteration=50, add_kw=1.0, max_kw=20.0, pv=False, ev=True,\n",
    "    ow_index=net.asymmetric_load.bus.unique()\n",
    ")\n",
    "ev_summary"
   ]
  },
  {
   "cell_type": "markdown",
   "id": "8695ef7c",
   "metadata": {},
   "source": [
    "### 3. PV+EV scenario"
   ]
  },
  {
   "cell_type": "code",
   "execution_count": null,
   "id": "210be8b0",
   "metadata": {},
   "outputs": [],
   "source": [
    "pvev_res, pvev_summary = pp_simu.hc_montecarlo(\n",
    "    net, ds, output_path, max_iteration=50, add_kw=1.0, max_kw=20.0, pv=True, ev=True,\n",
    "    ow_index=net.asymmetric_load.bus.unique()\n",
    ")\n",
    "pvev_summary"
   ]
  }
 ],
 "metadata": {
  "kernelspec": {
   "display_name": "Python 3",
   "language": "python",
   "name": "python3"
  },
  "language_info": {
   "codemirror_mode": {
    "name": "ipython",
    "version": 3
   },
   "file_extension": ".py",
   "mimetype": "text/x-python",
   "name": "python",
   "nbconvert_exporter": "python",
   "pygments_lexer": "ipython3",
   "version": "3.12.8"
  }
 },
 "nbformat": 4,
 "nbformat_minor": 5
}
