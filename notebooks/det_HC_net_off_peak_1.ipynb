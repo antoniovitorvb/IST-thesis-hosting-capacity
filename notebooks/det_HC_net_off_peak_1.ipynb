{
 "cells": [
  {
   "cell_type": "code",
   "execution_count": 1,
   "id": "158fc0d1",
   "metadata": {},
   "outputs": [
    {
     "name": "stdout",
     "output_type": "stream",
     "text": [
      "load C:\\Users\\vitor\\AppData\\Local\\Packages\\PythonSoftwareFoundation.Python.3.10_qbz5n2kfra8p0\\LocalCache\\local-packages\\Python310\\site-packages\\ortools\\.libs\\zlib1.dll...\n",
      "load C:\\Users\\vitor\\AppData\\Local\\Packages\\PythonSoftwareFoundation.Python.3.10_qbz5n2kfra8p0\\LocalCache\\local-packages\\Python310\\site-packages\\ortools\\.libs\\abseil_dll.dll...\n",
      "load C:\\Users\\vitor\\AppData\\Local\\Packages\\PythonSoftwareFoundation.Python.3.10_qbz5n2kfra8p0\\LocalCache\\local-packages\\Python310\\site-packages\\ortools\\.libs\\utf8_validity.dll...\n",
      "load C:\\Users\\vitor\\AppData\\Local\\Packages\\PythonSoftwareFoundation.Python.3.10_qbz5n2kfra8p0\\LocalCache\\local-packages\\Python310\\site-packages\\ortools\\.libs\\re2.dll...\n",
      "load C:\\Users\\vitor\\AppData\\Local\\Packages\\PythonSoftwareFoundation.Python.3.10_qbz5n2kfra8p0\\LocalCache\\local-packages\\Python310\\site-packages\\ortools\\.libs\\libprotobuf.dll...\n",
      "load C:\\Users\\vitor\\AppData\\Local\\Packages\\PythonSoftwareFoundation.Python.3.10_qbz5n2kfra8p0\\LocalCache\\local-packages\\Python310\\site-packages\\ortools\\.libs\\highs.dll...\n",
      "load C:\\Users\\vitor\\AppData\\Local\\Packages\\PythonSoftwareFoundation.Python.3.10_qbz5n2kfra8p0\\LocalCache\\local-packages\\Python310\\site-packages\\ortools\\.libs\\ortools.dll...\n"
     ]
    }
   ],
   "source": [
    "import os, math, sys\n",
    "import pandas as pd\n",
    "import pandapower as pp\n",
    "import numpy as np\n",
    "\n",
    "from pandapower.file_io import from_json, to_json\n",
    "import pandapower.networks as nw\n",
    "from pandapower.timeseries import DFData\n",
    "\n",
    "main_dir = os.path.abspath(os.path.join(os.path.abspath(\"\"), \"..\"))\n",
    "data_dir = os.path.join(main_dir, 'Modified_116_LV_CSV')\n",
    "\n",
    "if main_dir not in sys.path:\n",
    "    sys.path.insert(0, main_dir)"
   ]
  },
  {
   "cell_type": "markdown",
   "id": "0c3c5181",
   "metadata": {},
   "source": [
    "### test on nw.ieee_european_lv_asymmetric('off_peak_1440')"
   ]
  },
  {
   "cell_type": "code",
   "execution_count": 2,
   "id": "98562df7",
   "metadata": {},
   "outputs": [
    {
     "name": "stdout",
     "output_type": "stream",
     "text": [
      "\n",
      "Created External Grid!\n",
      "Created Transformer!\n",
      "Created Shunt!\n",
      "Created 117 Buses!\n",
      "Created 115 Lines!\n",
      "\n",
      "Debugging successful!\n",
      "This pandapower network includes the following parameter tables:\n",
      "   - bus (117 elements)\n",
      "   - shunt (1 element)\n",
      "   - ext_grid (1 element)\n",
      "   - line (115 elements)\n",
      "   - trafo (1 element)\n",
      " and the following results tables:\n",
      "   - res_bus_3ph (117 elements)\n",
      "   - res_line_3ph (115 elements)\n",
      "   - res_trafo_3ph (1 element)\n",
      "   - res_ext_grid_3ph (1 element)\n",
      "   - res_shunt_3ph (1 element)\n"
     ]
    }
   ],
   "source": [
    "from pp_simu import hc_deterministic, addEV_det, addPV_det\n",
    "import pandapower.networks as nw\n",
    "\n",
    "net_off_peak_1 = nw.ieee_european_lv_asymmetric('off_peak_1')\n",
    "net_on_peak_566 = nw.ieee_european_lv_asymmetric('on_peak_566')\n",
    "net_off_peak_1440 = nw.ieee_european_lv_asymmetric('off_peak_1440')"
   ]
  },
  {
   "cell_type": "code",
   "execution_count": null,
   "id": "fb9ee9c3",
   "metadata": {},
   "outputs": [
    {
     "name": "stdout",
     "output_type": "stream",
     "text": [
      "Stopped at bus 2, phase A with 0.0 kW due to error: Power Flow nr did not converge after 100 iterations!\n",
      "Stopped at bus 2, phase B with 0.0 kW due to error: Power Flow nr did not converge after 100 iterations!\n",
      "Stopped at bus 2, phase C with 0.0 kW due to error: Power Flow nr did not converge after 100 iterations!\n",
      "Stopped at bus 3, phase A with 0.0 kW due to error: Power Flow nr did not converge after 100 iterations!\n",
      "Stopped at bus 3, phase B with 0.0 kW due to error: Power Flow nr did not converge after 100 iterations!\n",
      "Stopped at bus 3, phase C with 0.0 kW due to error: Power Flow nr did not converge after 100 iterations!\n",
      "Stopped at bus 4, phase A with 0.0 kW due to error: Power Flow nr did not converge after 100 iterations!\n",
      "Stopped at bus 4, phase B with 0.0 kW due to error: Power Flow nr did not converge after 100 iterations!\n",
      "Stopped at bus 4, phase C with 0.0 kW due to error: Power Flow nr did not converge after 100 iterations!\n"
     ]
    }
   ],
   "source": [
    "pv_hc_results = hc_deterministic(net_off_peak_1, add_kw=1.0, max_kw=20.0, pv=True, ev=False)\n",
    "\n",
    "output_dir = os.path.join(main_dir, 'hc_resuls')\n",
    "os.mkdir(os.path.join(main_dir, 'hc_resuls')) if not os.path.isdir(output_dir) else None\n",
    "\n",
    "pv_hc_results.to_csv(os.path.join(output_dir, 'pv_hc_results_off_peak_1.csv'))"
   ]
  },
  {
   "cell_type": "code",
   "execution_count": null,
   "id": "8af10eea",
   "metadata": {},
   "outputs": [],
   "source": [
    "ev_hc_results = hc_deterministic(net_off_peak_1, add_kw=1.0, max_kw=20.0, pv=False, ev=True)\n",
    "\n",
    "ev_hc_results.to_csv(os.path.join(output_dir, 'ev_hc_results_off_peak_1.csv'))"
   ]
  },
  {
   "cell_type": "code",
   "execution_count": null,
   "id": "92c4cb51",
   "metadata": {},
   "outputs": [],
   "source": [
    "pvev_hc_results = hc_deterministic(net_off_peak_1, add_kw=1.0, max_kw=20.0, pv=True, ev=True)\n",
    "\n",
    "pvev_hc_results.to_csv(os.path.join(output_dir, 'pvev_hc_results_off_peak_1.csv'))"
   ]
  }
 ],
 "metadata": {
  "kernelspec": {
   "display_name": "Python 3",
   "language": "python",
   "name": "python3"
  },
  "language_info": {
   "codemirror_mode": {
    "name": "ipython",
    "version": 3
   },
   "file_extension": ".py",
   "mimetype": "text/x-python",
   "name": "python",
   "nbconvert_exporter": "python",
   "pygments_lexer": "ipython3",
   "version": "3.10.11"
  }
 },
 "nbformat": 4,
 "nbformat_minor": 5
}
