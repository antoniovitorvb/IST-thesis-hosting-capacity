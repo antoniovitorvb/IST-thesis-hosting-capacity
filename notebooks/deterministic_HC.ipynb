{
 "cells": [
  {
   "cell_type": "markdown",
   "id": "6bf54b13",
   "metadata": {},
   "source": [
    "# Hosting Capacity Deterministic Analysis"
   ]
  },
  {
   "cell_type": "code",
   "execution_count": null,
   "id": "7b632a2b",
   "metadata": {},
   "outputs": [],
   "source": [
    "import os, math, sys\n",
    "import pandas as pd\n",
    "import pandapower as pp\n",
    "import numpy as np\n",
    "\n",
    "from pandapower.file_io import from_json, to_json\n",
    "\n",
    "main_dir = os.path.abspath(os.path.join(os.path.abspath(\"\"), \"..\"))\n",
    "data_dir = os.path.join(main_dir, 'Modified_116_LV_CSV')\n",
    "\n",
    "if main_dir not in sys.path:\n",
    "    sys.path.insert(0, main_dir)\n",
    "\n",
    "import create_basic_network as cbn\n",
    "import pp_simu"
   ]
  },
  {
   "cell_type": "code",
   "execution_count": null,
   "id": "04bbec92",
   "metadata": {},
   "outputs": [],
   "source": [
    "net = from_json(os.path.join(main_dir, 'json_networks', 'full_load_network.json'))\n",
    "print(net)\n",
    "net.res_bus_3ph[['vm_a_pu', 'vm_b_pu', 'vm_c_pu']].describe().to_csv(os.path.join(data_dir, 'full_net.res_bus_3ph_describe.csv'))\n",
    "\n",
    "profile_df, ds = cbn.create_data_source(data_dir)\n",
    "ds.df.head(10)"
   ]
  },
  {
   "cell_type": "code",
   "execution_count": null,
   "id": "54c68f44",
   "metadata": {},
   "outputs": [],
   "source": [
    "output_path = os.path.join(main_dir, 'hc_results', 'DET')\n",
    "os.makedirs(output_path) if not os.path.exists(output_path) else None"
   ]
  },
  {
   "cell_type": "markdown",
   "id": "e3579d44",
   "metadata": {},
   "source": [
    "### 1. PV-only scenario"
   ]
  },
  {
   "cell_type": "code",
   "execution_count": null,
   "id": "bdcd2891",
   "metadata": {},
   "outputs": [],
   "source": [
    "pv_hc_results = pp_simu.hc_deterministic(net, add_kw=1.0, max_kw=20.0, pv=True, ev=False)\n",
    "\n",
    "pv_hc_results.to_csv(os.path.join(output_path, 'pv_hc_results.csv'))"
   ]
  },
  {
   "cell_type": "markdown",
   "id": "ec47c9de",
   "metadata": {},
   "source": [
    "### 2. EV-only scenario"
   ]
  },
  {
   "cell_type": "code",
   "execution_count": null,
   "id": "ac0069cb",
   "metadata": {},
   "outputs": [],
   "source": [
    "ev_hc_results = pp_simu.hc_deterministic(net, add_kw=1.0, max_kw=20.0, pv=False, ev=True)\n",
    "\n",
    "ev_hc_results.to_csv(os.path.join(output_path, 'ev_hc_results.csv'))"
   ]
  },
  {
   "cell_type": "markdown",
   "id": "3cd28912",
   "metadata": {},
   "source": [
    "### 3. PV+EV scenario"
   ]
  },
  {
   "cell_type": "code",
   "execution_count": null,
   "id": "8bbf18e1",
   "metadata": {},
   "outputs": [],
   "source": [
    "pvev_hc_results = pp_simu.hc_deterministic(net, add_kw=1.0, max_kw=20.0, pv=True, ev=True)\n",
    "\n",
    "pvev_hc_results.to_csv(os.path.join(output_path, 'pvev_hc_results.csv'))"
   ]
  }
 ],
 "metadata": {
  "kernelspec": {
   "display_name": "Python 3",
   "language": "python",
   "name": "python3"
  },
  "language_info": {
   "codemirror_mode": {
    "name": "ipython",
    "version": 3
   },
   "file_extension": ".py",
   "mimetype": "text/x-python",
   "name": "python",
   "nbconvert_exporter": "python",
   "pygments_lexer": "ipython3",
   "version": "3.10.11"
  }
 },
 "nbformat": 4,
 "nbformat_minor": 5
}
