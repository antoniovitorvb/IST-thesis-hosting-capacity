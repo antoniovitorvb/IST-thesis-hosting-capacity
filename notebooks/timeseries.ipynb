{
 "cells": [
  {
   "cell_type": "code",
   "execution_count": 1,
   "id": "2e991594",
   "metadata": {},
   "outputs": [
    {
     "name": "stdout",
     "output_type": "stream",
     "text": [
      "load C:\\Users\\vitor\\AppData\\Local\\Packages\\PythonSoftwareFoundation.Python.3.10_qbz5n2kfra8p0\\LocalCache\\local-packages\\Python310\\site-packages\\ortools\\.libs\\zlib1.dll...\n",
      "load C:\\Users\\vitor\\AppData\\Local\\Packages\\PythonSoftwareFoundation.Python.3.10_qbz5n2kfra8p0\\LocalCache\\local-packages\\Python310\\site-packages\\ortools\\.libs\\abseil_dll.dll...\n",
      "load C:\\Users\\vitor\\AppData\\Local\\Packages\\PythonSoftwareFoundation.Python.3.10_qbz5n2kfra8p0\\LocalCache\\local-packages\\Python310\\site-packages\\ortools\\.libs\\utf8_validity.dll...\n",
      "load C:\\Users\\vitor\\AppData\\Local\\Packages\\PythonSoftwareFoundation.Python.3.10_qbz5n2kfra8p0\\LocalCache\\local-packages\\Python310\\site-packages\\ortools\\.libs\\re2.dll...\n",
      "load C:\\Users\\vitor\\AppData\\Local\\Packages\\PythonSoftwareFoundation.Python.3.10_qbz5n2kfra8p0\\LocalCache\\local-packages\\Python310\\site-packages\\ortools\\.libs\\libprotobuf.dll...\n",
      "load C:\\Users\\vitor\\AppData\\Local\\Packages\\PythonSoftwareFoundation.Python.3.10_qbz5n2kfra8p0\\LocalCache\\local-packages\\Python310\\site-packages\\ortools\\.libs\\highs.dll...\n",
      "load C:\\Users\\vitor\\AppData\\Local\\Packages\\PythonSoftwareFoundation.Python.3.10_qbz5n2kfra8p0\\LocalCache\\local-packages\\Python310\\site-packages\\ortools\\.libs\\ortools.dll...\n"
     ]
    }
   ],
   "source": [
    "import os, math, sys\n",
    "import pandas as pd\n",
    "import pandapower as pp\n",
    "import numpy as np\n",
    "\n",
    "from pandapower.file_io import from_json, to_json\n",
    "\n",
    "main_dir = os.path.abspath(os.path.join(os.path.abspath(\"\"), \"..\"))\n",
    "data_dir = os.path.join(main_dir, 'Modified_116_LV_CSV')\n",
    "\n",
    "if main_dir not in sys.path:\n",
    "    sys.path.insert(0, main_dir)"
   ]
  },
  {
   "cell_type": "code",
   "execution_count": 2,
   "id": "f9c07db1",
   "metadata": {},
   "outputs": [
    {
     "data": {
      "text/plain": [
       "True"
      ]
     },
     "execution_count": 2,
     "metadata": {},
     "output_type": "execute_result"
    }
   ],
   "source": [
    "os.path.exists(os.path.join(data_dir, 'profile_datasource.csv'))"
   ]
  },
  {
   "cell_type": "code",
   "execution_count": 6,
   "id": "43bbe979",
   "metadata": {},
   "outputs": [
    {
     "data": {
      "text/plain": [
       "This pandapower network includes the following parameter tables:\n",
       "   - bus (117 elements)\n",
       "   - shunt (1 element)\n",
       "   - ext_grid (1 element)\n",
       "   - line (115 elements)\n",
       "   - trafo (1 element)\n",
       " and the following results tables:\n",
       "   - res_bus_3ph (117 elements)\n",
       "   - res_line_3ph (115 elements)\n",
       "   - res_trafo_3ph (1 element)\n",
       "   - res_ext_grid_3ph (1 element)\n",
       "   - res_shunt_3ph (1 element)"
      ]
     },
     "execution_count": 6,
     "metadata": {},
     "output_type": "execute_result"
    }
   ],
   "source": [
    "from copy import deepcopy\n",
    "import create_basic_network as cbn\n",
    "# print(cbn.net)\n",
    "net = deepcopy(cbn.net)\n",
    "pp.runpp_3ph(net, init='auto', max_iteration=100, tolerance_mva=1e-5, calc_voltage_angles=True, v_debug=True)\n",
    "net"
   ]
  },
  {
   "cell_type": "code",
   "execution_count": null,
   "id": "f732ebf9",
   "metadata": {},
   "outputs": [],
   "source": [
    "pd.read_csv(os.path.join(data_dir, 'profile_datasource.csv'), index_col=0)"
   ]
  },
  {
   "cell_type": "code",
   "execution_count": null,
   "id": "d96d5f6c",
   "metadata": {},
   "outputs": [],
   "source": [
    "loads_df = pd.read_excel(os.path.join(data_dir, \"Loads.xlsx\"), skiprows=2)\n",
    "loadShape_df = pd.read_csv(os.path.join(data_dir, 'LoadShapes.csv'), skiprows=1, sep=';')\n",
    "loads_df.head(), loadShape_df.head()\n",
    "\n",
    "merged_load = loads_df.merge(loadShape_df, left_on=\"Yearly\", right_on=\"Name\", how=\"left\")\n",
    "merged_load.head(10)"
   ]
  },
  {
   "cell_type": "code",
   "execution_count": null,
   "id": "66d8adf2",
   "metadata": {},
   "outputs": [],
   "source": [
    "ts_data = {}\n",
    "\n",
    "for _, row in merged_load.iterrows():\n",
    "    # print(row[\"File\"])\n",
    "    file_path = os.path.join(data_dir, 'Load Profiles', row[\"File\"])\n",
    "    try:\n",
    "        profile = pd.read_csv(file_path)\n",
    "        ts_data[row[\"Name_x\"]] = profile[\"mult\"].values * 1e-3 # or .to_numpy()\n",
    "    except:\n",
    "        profile = pd.read_csv(file_path, sep=';')\n",
    "        ts_data[row[\"Name_x\"]] = profile[\"mult\"].values * 1e-3 # or .to_numpy()\n",
    "    # finally:\n",
    "    #     ts_data[row[\"Name_x\"]] = profile[\"mult\"].values * 1e-3 # or .to_numpy()\n",
    "\n",
    "profile_df = pd.DataFrame(ts_data, index=profile.time)\n",
    "profile_df.head(10)"
   ]
  },
  {
   "cell_type": "code",
   "execution_count": null,
   "id": "ea859bd3",
   "metadata": {},
   "outputs": [],
   "source": [
    "import create_basic_network as cbn\n",
    "\n",
    "profile_df2 = cbn.create_data_source(data_dir=data_dir, profile_dir=os.path.join(data_dir, 'Load Profiles'))\n",
    "profile_df2"
   ]
  },
  {
   "cell_type": "code",
   "execution_count": null,
   "id": "1b5a40c5",
   "metadata": {},
   "outputs": [],
   "source": [
    "from copy import deepcopy\n",
    "import pandapower.control as ppc\n",
    "\n",
    "net = cbn.net\n",
    "ds = cbn.create_data_source(data_dir, profile_dir=os.path.join(data_dir, 'Load Profiles'), ds_index=True)\n",
    "load_map = {}\n",
    "\n",
    "for _, row in loads_df.iterrows():\n",
    "    bus_id = math.floor(row['Bus'])\n",
    "    pa = qa = pb = qb = pc = qc = 0\n",
    "\n",
    "    if (bus_id in net.bus.name) and (row['phases'] in {'A', 'B', 'C'}):\n",
    "        if row['phases'] == 'A':\n",
    "            pa = row['kW']\n",
    "            qa = row['kW'] * np.tan(np.arccos(row['PF']))\n",
    "        elif row['phases'] == 'B':\n",
    "            pb = row['kW']\n",
    "            qb = row['kW'] * np.tan(np.arccos(row['PF']))\n",
    "        else:  # 'C'\n",
    "            pc = row['kW']\n",
    "            qc = row['kW'] * np.tan(np.arccos(row['PF']))\n",
    "\n",
    "        load = pp.create_asymmetric_load(\n",
    "            net, bus=net.bus.index[net.bus.name == bus_id][0],\n",
    "            p_a_mw=pa / 1000, q_a_mvar=qa / 1000,\n",
    "            p_b_mw=pb / 1000, q_b_mvar=qb / 1000,\n",
    "            p_c_mw=pc / 1000, q_c_mvar=qc / 1000,\n",
    "            name=row['Name']\n",
    "        )\n",
    "        load_map[load] = row['Yearly']\n",
    "\n",
    "        # Attach ConstControl\n",
    "        phase = row['phases'].lower()\n",
    "        ppc.ConstControl(\n",
    "            net, element_index=load,\n",
    "            variable=f\"p_{phase}_mw\",\n",
    "            element=\"asymmetric_load\",\n",
    "            profile_name=row['Name'], data_source=ds\n",
    "        )\n",
    "        # print(f\"Created {net.controller.object.iloc[load+1].profile_name}\")"
   ]
  },
  {
   "cell_type": "code",
   "execution_count": null,
   "id": "e6293563",
   "metadata": {},
   "outputs": [],
   "source": [
    "pp.runpp_3ph(net, max_iteration=1000, tolerance_mva=1e-5)\n",
    "print(\"res_bus_3ph:\", net.res_bus_3ph.index)"
   ]
  },
  {
   "cell_type": "code",
   "execution_count": null,
   "id": "4022964b",
   "metadata": {},
   "outputs": [],
   "source": [
    "print(len(profile_df2.df))\n",
    "profile_df2.df.index"
   ]
  },
  {
   "cell_type": "code",
   "execution_count": 7,
   "id": "5f21d6df",
   "metadata": {},
   "outputs": [
    {
     "name": "stdout",
     "output_type": "stream",
     "text": [
      "Trafobus: 0, Bus Indexes: Index([  0,   1,   2,   3,   4,   5,   6,   7,   8,   9,\n",
      "       ...\n",
      "       107, 108, 109, 110, 111, 112, 113, 114, 115, 116],\n",
      "      dtype='int64', length=117)\n"
     ]
    }
   ],
   "source": [
    "print(f\"Trafobus: {cbn.net.trafo.hv_bus.values[0]}, Bus Indexes: {cbn.net.res_bus_3ph.index}\")"
   ]
  },
  {
   "cell_type": "code",
   "execution_count": null,
   "id": "ac6716cc",
   "metadata": {},
   "outputs": [],
   "source": [
    "import pandapower.control as ppc\n",
    "pq_area = ppc.controller.DERController.PQVAreas.PQArea4105(variant=1)\n",
    "type(pq_area)"
   ]
  },
  {
   "cell_type": "code",
   "execution_count": null,
   "id": "826dffc5",
   "metadata": {},
   "outputs": [],
   "source": [
    "import pandapower.control as ppc\n",
    "from pandapower.timeseries.data_sources.frame_data import DFData\n",
    "\n",
    "net48 = from_json(os.path.join(main_dir, 'json_networks', '48_loads_network.json'))\n",
    "# net48.asymmetric_load.head(10)\n",
    "\n",
    "filtered_loads = merged_load[merged_load[\"Name_x\"].isin(net48.asymmetric_load.name.values)]\n",
    "\n",
    "ds = DFData(profile_df)\n",
    "\n",
    "for load_name in net48.asymmetric_load.name:\n",
    "    # get the index of the corresponding load\n",
    "    idx = net48.asymmetric_load[net48.asymmetric_load.name == load_name].index[0]\n",
    "\n",
    "    # find phase from the merged metadata\n",
    "    phase = filtered_loads[filtered_loads[\"Name_x\"] == load_name][\"phases\"].values[0].lower()\n",
    "\n",
    "    ppc.ConstControl(\n",
    "        net48, element_index=idx,\n",
    "        variable=f\"p_{phase}_mw\",\n",
    "        element=f\"asymmetric_load\",\n",
    "        profile_name=net48.asymmetric_load.name.at[idx], data_source=ds\n",
    "    )\n",
    "\n",
    "    \n",
    "net48.controller.head(10)"
   ]
  },
  {
   "cell_type": "code",
   "execution_count": null,
   "id": "5aa5f113",
   "metadata": {},
   "outputs": [],
   "source": [
    "output_dir = os.path.join(main_dir, \"timeseries_results\")\n",
    "\n",
    "if not os.path.exists(output_dir): os.mkdir(output_dir)"
   ]
  },
  {
   "cell_type": "code",
   "execution_count": null,
   "id": "73c7c04e",
   "metadata": {},
   "outputs": [],
   "source": [
    "def get_kwarg(a, **kwargs):\n",
    "    ds_index = kwargs.get('ds_index')\n",
    "    ds_index = False if ds_index is None else ds_index\n",
    "    print(a, 'ds_index =', ds_index)\n",
    "get_kwarg(0, ds_index=True)"
   ]
  },
  {
   "cell_type": "code",
   "execution_count": null,
   "id": "f6bfd672",
   "metadata": {},
   "outputs": [],
   "source": [
    "from pandapower.timeseries import run_timeseries\n",
    "from pandapower.timeseries import OutputWriter\n",
    "\n",
    "net48 = from_json(os.path.join(main_dir, 'json_networks', '48_loads_network.json'))\n",
    "net48\n",
    "\n",
    "# Create and attach output writer to net48\n",
    "# ow48 = OutputWriter(net48, time_steps=range(profile_df.shape[0]), output_path=output_dir)\n",
    "# # Log desired variables\n",
    "# ow48.log_variable('res_trafo_3ph', 'loading_percent', index=net48.trafo.index[0])\n",
    "\n",
    "# ow48.log_variable('res_bus_3ph', 'vm_b_pu', index=[32, 26]) # LOAD2 and LOAD23\n",
    "# ow48.log_variable('res_bus_3ph', 'vm_a_pu', index=[14]) # LOAD55\n",
    "\n",
    "run_timeseries(net48, time_steps=range(profile_df.shape[0]), run=pp.runpp_3ph, continue_on_divergence=False)"
   ]
  },
  {
   "cell_type": "code",
   "execution_count": null,
   "id": "057091c4",
   "metadata": {},
   "outputs": [],
   "source": [
    "net = from_json(os.path.join(main_dir, 'json_networks', 'no_load_network.json'))\n",
    "\n",
    "# Create Loads\n",
    "loads_df = pd.read_excel(os.path.join(data_dir, \"Loads.xlsx\"), skiprows=2)\n",
    "# print(loads_df.head(10))\n",
    "\n",
    "net.asymmetric_load.drop(net.asymmetric_load.index, inplace=True)\n",
    "load_map = {}\n",
    "for _, row in loads_df.iterrows():\n",
    "    # print(_, '->', row)\n",
    "    bus_id = math.floor(row['Bus'])\n",
    "    pa = qa = pb = qb = pc = qc = 0\n",
    "    if (bus_id in net.bus.name) & (row['phases'] in {'A', 'B', 'C'}):\n",
    "        if row['phases']=='A':\n",
    "            pa = row['kW']\n",
    "            qa = row['kW'] * np.tan(np.arccos(row['PF']))\n",
    "        elif row['phases']=='B':\n",
    "            pb = row['kW']\n",
    "            qb = row['kW'] * np.tan(np.arccos(row['PF']))\n",
    "        else: # row['phases']=='C'\n",
    "            pc = row['kW']\n",
    "            qc = row['kW'] * np.tan(np.arccos(row['PF']))\n",
    "        load = pp.create_asymmetric_load(\n",
    "            net, bus=net.bus.index[net.bus.name==bus_id][0],\n",
    "            p_a_mw=pa / 1000, q_a_mvar=qa / 1000,\n",
    "            p_b_mw=pb / 1000, q_b_mvar=qb / 1000,\n",
    "            p_c_mw=pc / 1000, q_c_mvar=qc / 1000,\n",
    "            name=row['Name']\n",
    "        )\n",
    "        load_map[load] = row['Yearly']\n",
    "net"
   ]
  },
  {
   "cell_type": "code",
   "execution_count": null,
   "id": "fd982392",
   "metadata": {},
   "outputs": [],
   "source": [
    "import pandapower.control as ppc\n",
    "from pandapower.timeseries.data_sources.frame_data import DFData\n",
    "\n",
    "ds = DFData(profile_df)\n",
    "\n",
    "for load_name in net.asymmetric_load.name:\n",
    "    # get the index of the corresponding load\n",
    "    idx = net.asymmetric_load[net.asymmetric_load.name == load_name].index[0]\n",
    "\n",
    "    # find phase from the merged metadata\n",
    "    phase = merged_load[merged_load[\"Name_x\"] == load_name][\"phases\"].values[0].lower()\n",
    "\n",
    "    ppc.ConstControl(\n",
    "        net, element_index=idx,\n",
    "        element=\"asymmetric_load\",\n",
    "        element_name=f\"CTRL_{net.asymmetric_load.name.at[idx]}\",\n",
    "        variable=f\"p_{phase}_mw\",\n",
    "        profile_name=load_name, data_source=ds\n",
    "    )\n",
    "net"
   ]
  },
  {
   "cell_type": "code",
   "execution_count": null,
   "id": "32abf8a4",
   "metadata": {},
   "outputs": [],
   "source": [
    "# Create and attach output writer to net48\n",
    "ow = OutputWriter(net, time_steps=range(profile_df.shape[0]), output_path=output_dir)\n",
    "# Log desired variables\n",
    "ow.log_variable('res_trafo_3ph', 'loading_percent', index=net.trafo.index[0])\n",
    "\n",
    "ow.log_variable('res_bus_3ph', 'vm_a_pu', index=net.bus.index)\n",
    "ow.log_variable('res_bus_3ph', 'vm_b_pu', index=net.bus.index)\n",
    "ow.log_variable('res_bus_3ph', 'vm_c_pu', index=net.bus.index)\n",
    "\n",
    "ow.log_variable('res_line_3ph', 'loading_a_percent', index=net.line.index)\n",
    "ow.log_variable('res_line_3ph', 'loading_b_percent', index=net.line.index)\n",
    "ow.log_variable('res_line_3ph', 'loading_c_percent', index=net.line.index)\n",
    "\n",
    "run_timeseries(net, time_steps=range(profile_df.shape[0]), run=pp.runpp_3ph, run_control=True, continue_on_divergence=True)"
   ]
  },
  {
   "cell_type": "code",
   "execution_count": null,
   "id": "596d76fa",
   "metadata": {},
   "outputs": [],
   "source": [
    "ds"
   ]
  },
  {
   "cell_type": "code",
   "execution_count": null,
   "id": "dc399d5e",
   "metadata": {},
   "outputs": [],
   "source": [
    "vm_a_pu = pd.read_pickle(os.path.join(output_dir, 'res_bus_3ph', 'vm_a_pu.p'))\n",
    "vm_b_pu = pd.read_pickle(os.path.join(output_dir, 'res_bus_3ph', 'vm_b_pu.p'))\n",
    "vm_c_pu = pd.read_pickle(os.path.join(output_dir, 'res_bus_3ph', 'vm_c_pu.p'))\n",
    "\n",
    "trafo_loading = pd.read_pickle(os.path.join(output_dir, 'res_trafo_3ph', 'loading_percent.p'))\n",
    "\n",
    "vm_a_pu.shape, vm_b_pu.shape, vm_c_pu.shape, trafo_loading.shape"
   ]
  },
  {
   "cell_type": "code",
   "execution_count": null,
   "id": "b67c06b5",
   "metadata": {},
   "outputs": [],
   "source": [
    "vm_a_pu.to_csv(os.path.join(output_dir, 'vm_a_pu.csv'))\n",
    "vm_b_pu.to_csv(os.path.join(output_dir, 'vm_b_pu.csv'))\n",
    "vm_c_pu.to_csv(os.path.join(output_dir, 'vm_c_pu.csv'))\n",
    "net.res_bus_3ph.to_csv(os.path.join(output_dir, 'net.res_bus_3ph.csv'))\n",
    "trafo_loading.to_csv(os.path.join(output_dir, 'trafo_loading_percent.csv'))\n",
    "\n",
    "vm_a_pu.head(20)"
   ]
  },
  {
   "cell_type": "code",
   "execution_count": null,
   "id": "c27638fe",
   "metadata": {},
   "outputs": [],
   "source": [
    "trafo_loading.describe()"
   ]
  }
 ],
 "metadata": {
  "kernelspec": {
   "display_name": "Python 3",
   "language": "python",
   "name": "python3"
  },
  "language_info": {
   "codemirror_mode": {
    "name": "ipython",
    "version": 3
   },
   "file_extension": ".py",
   "mimetype": "text/x-python",
   "name": "python",
   "nbconvert_exporter": "python",
   "pygments_lexer": "ipython3",
   "version": "3.10.11"
  }
 },
 "nbformat": 4,
 "nbformat_minor": 5
}
