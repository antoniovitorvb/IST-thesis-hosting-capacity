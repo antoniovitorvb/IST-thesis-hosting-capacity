{
 "cells": [
  {
   "cell_type": "code",
   "execution_count": null,
   "id": "2e991594",
   "metadata": {},
   "outputs": [],
   "source": [
    "import os, math, sys\n",
    "import pandas as pd\n",
    "import pandapower as pp\n",
    "import numpy as np\n",
    "\n",
    "from pandapower.file_io import from_json, to_json\n",
    "\n",
    "main_dir = os.path.abspath(os.path.join(os.path.abspath(\"\"), \"..\"))\n",
    "data_dir = os.path.join(main_dir, 'Modified_116_LV_CSV')\n",
    "\n",
    "if main_dir not in sys.path:\n",
    "    sys.path.insert(0, main_dir)"
   ]
  },
  {
   "cell_type": "code",
   "execution_count": null,
   "id": "f06c0404",
   "metadata": {},
   "outputs": [],
   "source": [
    "net48 = from_json(os.path.join(main_dir, 'json_networks', '48_loads_network.json'))\n",
    "net48"
   ]
  },
  {
   "cell_type": "code",
   "execution_count": null,
   "id": "d96d5f6c",
   "metadata": {},
   "outputs": [],
   "source": [
    "loads_df = pd.read_excel(os.path.join(data_dir, \"Loads.xlsx\"), skiprows=2)\n",
    "loadShape_df = pd.read_csv(os.path.join(data_dir, 'LoadShapes.csv'), skiprows=1, sep=';')\n",
    "loads_df.head(), loadShape_df.head()\n",
    "\n",
    "merged_load = loads_df.merge(loadShape_df, left_on=\"Yearly\", right_on=\"Name\", how=\"left\")\n",
    "merged_load.head(10)"
   ]
  },
  {
   "cell_type": "code",
   "execution_count": null,
   "id": "66d8adf2",
   "metadata": {},
   "outputs": [],
   "source": [
    "filtered_loads = merged_load[merged_load[\"Name_x\"].isin(net48.asymmetric_load.name.values)]\n",
    "\n",
    "ts_data = {}\n",
    "for _, row in filtered_loads.iterrows():\n",
    "    # print(row[\"File\"])\n",
    "    file_path = os.path.join(data_dir, 'Load Profiles', row[\"File\"])\n",
    "    try:\n",
    "        profile = pd.read_csv(file_path)\n",
    "        ts_data[row[\"Name_x\"]] = profile[\"mult\"].values * 1e-3 # or .to_numpy()\n",
    "    except:\n",
    "        profile = pd.read_csv(file_path, sep=';')\n",
    "        ts_data[row[\"Name_x\"]] = profile[\"mult\"].values * 1e-3 # or .to_numpy()\n",
    "\n",
    "ts_data"
   ]
  },
  {
   "cell_type": "code",
   "execution_count": null,
   "id": "826dffc5",
   "metadata": {},
   "outputs": [],
   "source": [
    "profile_df = pd.DataFrame(ts_data)\n",
    "profile_df.head(10)\n",
    "\n",
    "from pandapower.timeseries.data_sources.frame_data import DFData\n",
    "\n",
    "ds = DFData(profile_df)\n",
    "\n",
    "import pandapower.control as ppc\n",
    "\n",
    "for load_name in net48.asymmetric_load.name:\n",
    "    # get the index of the corresponding load\n",
    "    idx = net48.asymmetric_load[net48.asymmetric_load.name == load_name].index[0]\n",
    "\n",
    "    # find phase from the merged metadata\n",
    "    phase = filtered_loads[filtered_loads[\"Name_x\"] == load_name][\"phases\"].values[0].lower()\n",
    "\n",
    "    ppc.ConstControl(\n",
    "        net48, element_index=idx,\n",
    "        element=\"asymmetric_load\",\n",
    "        element_name=f\"CTRL_{net48.asymmetric_load.name.at[idx]}\",\n",
    "        variable=f\"p_{phase}_mw\",\n",
    "        profile_name=load_name, data_source=ds\n",
    "    )\n",
    "net48"
   ]
  },
  {
   "cell_type": "code",
   "execution_count": null,
   "id": "5aa5f113",
   "metadata": {},
   "outputs": [],
   "source": [
    "output_dir = os.path.join(main_dir, \"timeseries_results\")\n",
    "\n",
    "if not os.path.exists(output_dir):\n",
    "    os.mkdir(output_dir)"
   ]
  },
  {
   "cell_type": "code",
   "execution_count": null,
   "id": "f6bfd672",
   "metadata": {},
   "outputs": [],
   "source": [
    "from pandapower.timeseries import run_timeseries\n",
    "from pandapower.timeseries import OutputWriter\n",
    "\n",
    "net48 = from_json(os.path.join(main_dir, 'json_networks', '48_loads_network.json'))\n",
    "net48\n",
    "\n",
    "# Create and attach output writer to net48\n",
    "# ow48 = OutputWriter(net48, time_steps=range(profile_df.shape[0]), output_path=output_dir)\n",
    "# # Log desired variables\n",
    "# ow48.log_variable('res_trafo_3ph', 'loading_percent', index=net48.trafo.index[0])\n",
    "\n",
    "# ow48.log_variable('res_bus_3ph', 'vm_b_pu', index=[32, 26]) # LOAD2 and LOAD23\n",
    "# ow48.log_variable('res_bus_3ph', 'vm_a_pu', index=[14]) # LOAD55\n",
    "\n",
    "# run_timeseries(net48, time_steps=range(profile_df.shape[0]), run=pp.runpp_3ph, continue_on_divergence=False)"
   ]
  },
  {
   "cell_type": "code",
   "execution_count": null,
   "id": "057091c4",
   "metadata": {},
   "outputs": [],
   "source": [
    "net = from_json(os.path.join(main_dir, 'json_networks', 'no_load_network.json'))\n",
    "\n",
    "# Create Loads\n",
    "loads_df = pd.read_excel(os.path.join(data_dir, \"Loads.xlsx\"), skiprows=2)\n",
    "# print(loads_df.head(10))\n",
    "\n",
    "net.asymmetric_load.drop(net.asymmetric_load.index, inplace=True)\n",
    "load_map = {}\n",
    "for _, row in loads_df.iterrows():\n",
    "    # print(_, '->', row)\n",
    "    bus_id = math.floor(row['Bus'])\n",
    "    pa = qa = pb = qb = pc = qc = 0\n",
    "    if (bus_id in net.bus.name) & (row['phases'] in {'A', 'B', 'C'}):\n",
    "        if row['phases']=='A':\n",
    "            pa = row['kW']\n",
    "            qa = row['kW'] * np.tan(np.arccos(row['PF']))\n",
    "        elif row['phases']=='B':\n",
    "            pb = row['kW']\n",
    "            qb = row['kW'] * np.tan(np.arccos(row['PF']))\n",
    "        else: # row['phases']=='C'\n",
    "            pc = row['kW']\n",
    "            qc = row['kW'] * np.tan(np.arccos(row['PF']))\n",
    "        load = pp.create_asymmetric_load(\n",
    "            net, bus=net.bus.index[net.bus.name==bus_id][0],\n",
    "            p_a_mw=pa / 1000, q_a_mvar=qa / 1000,\n",
    "            p_b_mw=pb / 1000, q_b_mvar=qb / 1000,\n",
    "            p_c_mw=pc / 1000, q_c_mvar=qc / 1000,\n",
    "            name=row['Name']\n",
    "        )\n",
    "        load_map[load] = row['Yearly']\n",
    "net"
   ]
  },
  {
   "cell_type": "code",
   "execution_count": null,
   "id": "a9299502",
   "metadata": {},
   "outputs": [],
   "source": [
    "ts_data = {}\n",
    "for _, row in merged_load.iterrows():\n",
    "    # print(row[\"File\"])\n",
    "    file_path = os.path.join(data_dir, 'Load Profiles', row[\"File\"])\n",
    "    try:\n",
    "        profile = pd.read_csv(file_path)\n",
    "        ts_data[row[\"Name_x\"]] = profile[\"mult\"].values * 1e-3 # or .to_numpy()\n",
    "    except:\n",
    "        profile = pd.read_csv(file_path, sep=';')\n",
    "        ts_data[row[\"Name_x\"]] = profile[\"mult\"].values * 1e-3 # or .to_numpy()\n",
    "\n",
    "len(ts_data)\n",
    "profile_df = pd.DataFrame(ts_data)\n",
    "print(profile_df.shape)\n",
    "profile_df.head(10)"
   ]
  },
  {
   "cell_type": "code",
   "execution_count": null,
   "id": "fd982392",
   "metadata": {},
   "outputs": [],
   "source": [
    "from pandapower.timeseries.data_sources.frame_data import DFData\n",
    "\n",
    "ds = DFData(profile_df)\n",
    "\n",
    "import pandapower.control as ppc\n",
    "\n",
    "for load_name in net.asymmetric_load.name:\n",
    "    # get the index of the corresponding load\n",
    "    idx = net.asymmetric_load[net.asymmetric_load.name == load_name].index[0]\n",
    "\n",
    "    # find phase from the merged metadata\n",
    "    phase = merged_load[merged_load[\"Name_x\"] == load_name][\"phases\"].values[0].lower()\n",
    "\n",
    "    ppc.ConstControl(\n",
    "        net, element_index=idx,\n",
    "        element=\"asymmetric_load\",\n",
    "        element_name=f\"CTRL_{net.asymmetric_load.name.at[idx]}\",\n",
    "        variable=f\"p_{phase}_mw\",\n",
    "        profile_name=load_name, data_source=ds\n",
    "    )\n",
    "net"
   ]
  },
  {
   "cell_type": "code",
   "execution_count": null,
   "id": "32abf8a4",
   "metadata": {},
   "outputs": [],
   "source": [
    "# Create and attach output writer to net48\n",
    "ow = OutputWriter(net, time_steps=range(profile_df.shape[0]), output_path=output_dir)\n",
    "# Log desired variables\n",
    "ow.log_variable('res_trafo_3ph', 'loading_percent', index=net.trafo.index[0])\n",
    "\n",
    "ow.log_variable('res_bus_3ph', 'vm_a_pu', index=net.bus.index)\n",
    "ow.log_variable('res_bus_3ph', 'vm_b_pu', index=net.bus.index)\n",
    "ow.log_variable('res_bus_3ph', 'vm_c_pu', index=net.bus.index)\n",
    "\n",
    "run_timeseries(net48, time_steps=range(profile_df.shape[0]), continue_on_divergence=False)"
   ]
  },
  {
   "cell_type": "code",
   "execution_count": null,
   "id": "dc399d5e",
   "metadata": {},
   "outputs": [],
   "source": [
    "vm_a_pu = pd.read_pickle(os.path.join(output_dir, 'res_bus_3ph\\\\vm_a_pu.p'))\n",
    "vm_b_pu = pd.read_pickle(os.path.join(output_dir, 'res_bus_3ph\\\\vm_b_pu.p'))\n",
    "vm_c_pu = pd.read_pickle(os.path.join(output_dir, 'res_bus_3ph\\\\vm_c_pu.p'))\n",
    "\n",
    "vm_a_pu"
   ]
  }
 ],
 "metadata": {
  "kernelspec": {
   "display_name": "Python 3",
   "language": "python",
   "name": "python3"
  },
  "language_info": {
   "codemirror_mode": {
    "name": "ipython",
    "version": 3
   },
   "file_extension": ".py",
   "mimetype": "text/x-python",
   "name": "python",
   "nbconvert_exporter": "python",
   "pygments_lexer": "ipython3",
   "version": "3.10.11"
  }
 },
 "nbformat": 4,
 "nbformat_minor": 5
}
