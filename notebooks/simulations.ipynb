{
 "cells": [
  {
   "cell_type": "markdown",
   "id": "923e3ca0",
   "metadata": {},
   "source": [
    "# Hosting Capacity Spatial Mapping"
   ]
  },
  {
   "cell_type": "code",
   "execution_count": null,
   "id": "3e1322f5",
   "metadata": {},
   "outputs": [],
   "source": [
    "import os, math, sys\n",
    "import pandas as pd\n",
    "import pandapower as pp\n",
    "import numpy as np\n",
    "\n",
    "from pandapower.file_io import from_json, to_json\n",
    "\n",
    "main_dir = os.path.abspath(os.path.join(os.path.abspath(\"\"), \"..\"))\n",
    "data_dir = 'Modified_116_LV_CSV'\n",
    "\n",
    "if main_dir not in sys.path:\n",
    "    sys.path.insert(0, main_dir)"
   ]
  },
  {
   "cell_type": "markdown",
   "id": "752fae13",
   "metadata": {},
   "source": [
    "Importing case-study network:"
   ]
  },
  {
   "cell_type": "code",
   "execution_count": null,
   "id": "b634a246",
   "metadata": {},
   "outputs": [],
   "source": [
    "net = from_json(os.path.join(main_dir, 'json_networks', 'full_load_network.json'))\n",
    "net"
   ]
  },
  {
   "cell_type": "markdown",
   "id": "1cd8676d",
   "metadata": {},
   "source": [
    "## Deterministic Module:"
   ]
  },
  {
   "cell_type": "code",
   "execution_count": null,
   "id": "4ca89690",
   "metadata": {},
   "outputs": [],
   "source": [
    "import create_basic_network as cbn\n",
    "from pp_simu import hc_deterministic, addEV_det, addPV_det"
   ]
  },
  {
   "cell_type": "markdown",
   "id": "a7e6bd02",
   "metadata": {},
   "source": [
    "### 1. PV-only scenario"
   ]
  },
  {
   "cell_type": "code",
   "execution_count": null,
   "id": "85fd273a",
   "metadata": {},
   "outputs": [],
   "source": [
    "pv_hc_results = hc_deterministic(net, add_kw=1.0, max_kw=20.0, pv=True, ev=False)\n",
    "\n",
    "output_dir = os.path.join(main_dir, 'hc_resuls')\n",
    "os.mkdir(os.path.join(main_dir, 'hc_resuls')) if not os.path.isdir(output_dir) else None\n",
    "\n",
    "pv_hc_results.to_csv(os.path.join(output_dir, 'pv_hc_results.csv'))"
   ]
  },
  {
   "cell_type": "markdown",
   "id": "a21024be",
   "metadata": {},
   "source": [
    "### 2. EV-only scenario"
   ]
  },
  {
   "cell_type": "code",
   "execution_count": null,
   "id": "51e580de",
   "metadata": {},
   "outputs": [],
   "source": [
    "ev_hc_results = hc_deterministic(net, add_kw=1.0, max_kw=20.0, pv=False, ev=True)\n",
    "\n",
    "ev_hc_results.to_csv(os.path.join(output_dir, 'ev_hc_results.csv'))"
   ]
  },
  {
   "cell_type": "markdown",
   "id": "3cf50770",
   "metadata": {},
   "source": [
    "### 3. PV+EV scenario"
   ]
  },
  {
   "cell_type": "code",
   "execution_count": null,
   "id": "954dd200",
   "metadata": {},
   "outputs": [],
   "source": [
    "pvev_hc_results = hc_deterministic(net, add_kw=1.0, max_kw=20.0, pv=True, ev=True)\n",
    "\n",
    "pvev_hc_results.to_csv(os.path.join(output_dir, 'pvev_hc_results.csv'))"
   ]
  }
 ],
 "metadata": {
  "kernelspec": {
   "display_name": "Python 3",
   "language": "python",
   "name": "python3"
  },
  "language_info": {
   "codemirror_mode": {
    "name": "ipython",
    "version": 3
   },
   "file_extension": ".py",
   "mimetype": "text/x-python",
   "name": "python",
   "nbconvert_exporter": "python",
   "pygments_lexer": "ipython3",
   "version": "3.10.11"
  }
 },
 "nbformat": 4,
 "nbformat_minor": 5
}
