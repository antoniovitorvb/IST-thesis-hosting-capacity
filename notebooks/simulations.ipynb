{
 "cells": [
  {
   "cell_type": "markdown",
   "id": "923e3ca0",
   "metadata": {},
   "source": [
    "# Hosting Capacity Spatial Mapping"
   ]
  },
  {
   "cell_type": "code",
   "execution_count": null,
   "id": "3e1322f5",
   "metadata": {},
   "outputs": [],
   "source": [
    "import os, math, sys\n",
    "import pandas as pd\n",
    "import pandapower as pp\n",
    "import numpy as np\n",
    "\n",
    "from pandapower.file_io import from_json, to_json\n",
    "\n",
    "main_dir = os.path.abspath(os.path.join(os.path.abspath(\"\"), \"..\"))\n",
    "data_dir = 'Modified_116_LV_CSV'\n",
    "\n",
    "if main_dir not in sys.path:\n",
    "    sys.path.insert(0, main_dir)"
   ]
  },
  {
   "cell_type": "markdown",
   "id": "752fae13",
   "metadata": {},
   "source": [
    "Importing case-study network:"
   ]
  },
  {
   "cell_type": "code",
   "execution_count": null,
   "id": "b634a246",
   "metadata": {},
   "outputs": [],
   "source": [
    "net48 = from_json(os.path.join(main_dir, 'json_networks', '48_loads_network.json'))\n",
    "net48"
   ]
  },
  {
   "cell_type": "markdown",
   "id": "1cd8676d",
   "metadata": {},
   "source": [
    "## Deterministic Module:"
   ]
  },
  {
   "cell_type": "code",
   "execution_count": null,
   "id": "84aceef5",
   "metadata": {},
   "outputs": [],
   "source": [
    "import create_basic_network as cbn\n",
    "from pp_simu import hc_deterministic, addEV_det, addPV_det"
   ]
  },
  {
   "cell_type": "markdown",
   "id": "a7e6bd02",
   "metadata": {},
   "source": [
    "### 1. PV-only scenario"
   ]
  },
  {
   "cell_type": "code",
   "execution_count": null,
   "id": "85fd273a",
   "metadata": {},
   "outputs": [],
   "source": [
    "hc_deterministic(net48, add_kw=1.0, max_kw=30.0, pv=True, ev=False)"
   ]
  },
  {
   "cell_type": "markdown",
   "id": "a21024be",
   "metadata": {},
   "source": [
    "### 2. EV-only scenario"
   ]
  },
  {
   "cell_type": "code",
   "execution_count": null,
   "id": "51e580de",
   "metadata": {},
   "outputs": [],
   "source": [
    "hc_deterministic(net48, add_kw=1.0, max_kw=30.0, pv=False, ev=True)"
   ]
  },
  {
   "cell_type": "markdown",
   "id": "3cf50770",
   "metadata": {},
   "source": [
    "### 3. PV+EV scenario"
   ]
  },
  {
   "cell_type": "code",
   "execution_count": null,
   "id": "954dd200",
   "metadata": {},
   "outputs": [],
   "source": [
    "hc_deterministic(net48, add_kw=1.0, max_kw=30.0, pv=True, ev=True)"
   ]
  },
  {
   "cell_type": "markdown",
   "id": "3a1c434d",
   "metadata": {},
   "source": [
    "--\n",
    "\n",
    "--\n",
    "\n",
    "--\n",
    "\n",
    "--\n",
    "\n",
    "--\n",
    "\n",
    "--\n",
    "\n",
    "--\n",
    "\n",
    "--\n",
    "\n",
    "--\n",
    "\n",
    "--\n",
    "\n",
    "--\n",
    "\n",
    "--\n",
    "\n",
    "--\n",
    "\n",
    "--\n",
    "\n",
    "--\n",
    "\n",
    "--\n",
    "\n",
    "--\n",
    "\n",
    "--\n",
    "\n",
    "--\n",
    "\n",
    "--\n",
    "\n",
    "--\n",
    "\n"
   ]
  },
  {
   "cell_type": "code",
   "execution_count": null,
   "id": "9ea239db",
   "metadata": {},
   "outputs": [],
   "source": [
    "import os, math, sys\n",
    "import pandas as pd\n",
    "import pandapower as pp\n",
    "import numpy as np\n",
    "\n",
    "from pandapower.file_io import from_json, to_json\n",
    "\n",
    "main_dir = os.path.abspath(os.path.join(os.path.abspath(\"\"), \"..\"))\n",
    "data_dir = 'Modified_116_LV_CSV'\n",
    "\n",
    "if main_dir not in sys.path:\n",
    "    sys.path.insert(0, main_dir)\n",
    "\n",
    "print(sys.path)\n",
    "\n",
    "from create_basic_network import debug_result, hc_violation"
   ]
  },
  {
   "cell_type": "code",
   "execution_count": null,
   "id": "c6e4ae45",
   "metadata": {},
   "outputs": [],
   "source": [
    "net = from_json(os.path.join(main_dir, 'json_networks', 'no_load_network.json'))\n",
    "net45 = from_json(os.path.join(main_dir, 'json_networks', '45_loads_network.json'))\n",
    "net48 = from_json(os.path.join(main_dir, 'json_networks', '48_loads_network.json'))\n",
    "net_far = from_json(os.path.join(main_dir, 'json_networks', 'farthest_load_network.json'))\n",
    "\n",
    "print(hc_violation(net), hc_violation(net45), hc_violation(net48), hc_violation(net_far))"
   ]
  },
  {
   "cell_type": "code",
   "execution_count": null,
   "id": "4cd5c920",
   "metadata": {},
   "outputs": [],
   "source": [
    "pp.runpp_3ph(net, max_iteration=100, tolerance_mva=1e-8, calculate_voltage_angles=True)\n",
    "pp.runpp_3ph(net45, max_iteration=100, tolerance_mva=1e-8, calculate_voltage_angles=True)\n",
    "pp.runpp_3ph(net48, max_iteration=100, tolerance_mva=1e-8, calculate_voltage_angles=True)\n",
    "pp.runpp_3ph(net_far, max_iteration=100, tolerance_mva=1e-8, calculate_voltage_angles=True)"
   ]
  },
  {
   "cell_type": "code",
   "execution_count": null,
   "id": "3f5c993c",
   "metadata": {},
   "outputs": [],
   "source": [
    "print((net.res_bus_3ph.loc[:, ['p_a_mw', 'p_b_mw', 'p_c_mw']] > 0).sum())\n",
    "net.res_bus_3ph.loc[:, ['vm_a_pu', 'vm_b_pu', 'vm_c_pu', 'p_a_mw', 'p_b_mw', 'p_c_mw']].describe()"
   ]
  },
  {
   "cell_type": "code",
   "execution_count": null,
   "id": "b086d7d1",
   "metadata": {},
   "outputs": [],
   "source": [
    "print((net45.res_bus_3ph.loc[:, ['p_a_mw', 'p_b_mw', 'p_c_mw']] > 0).sum())\n",
    "net45.res_bus_3ph.loc[:, ['vm_a_pu', 'vm_b_pu', 'vm_c_pu', 'p_a_mw', 'p_b_mw', 'p_c_mw']].describe()"
   ]
  },
  {
   "cell_type": "code",
   "execution_count": null,
   "id": "863fca43",
   "metadata": {},
   "outputs": [],
   "source": [
    "print((net48.res_bus_3ph.loc[:, ['p_a_mw', 'p_b_mw', 'p_c_mw']] > 0).sum())\n",
    "net48.res_bus_3ph.loc[:, ['vm_a_pu', 'vm_b_pu', 'vm_c_pu', 'p_a_mw', 'p_b_mw', 'p_c_mw']].describe()"
   ]
  },
  {
   "cell_type": "code",
   "execution_count": null,
   "id": "ab75c8c8",
   "metadata": {},
   "outputs": [],
   "source": [
    "print((net_far.res_bus_3ph.loc[:, ['p_a_mw', 'p_b_mw', 'p_c_mw']] > 0).sum())\n",
    "net_far.res_bus_3ph.loc[:, ['vm_a_pu', 'vm_b_pu', 'vm_c_pu', 'p_a_mw', 'p_b_mw', 'p_c_mw']].describe()"
   ]
  }
 ],
 "metadata": {
  "kernelspec": {
   "display_name": "Python 3",
   "language": "python",
   "name": "python3"
  },
  "language_info": {
   "codemirror_mode": {
    "name": "ipython",
    "version": 3
   },
   "file_extension": ".py",
   "mimetype": "text/x-python",
   "name": "python",
   "nbconvert_exporter": "python",
   "pygments_lexer": "ipython3",
   "version": "3.10.11"
  }
 },
 "nbformat": 4,
 "nbformat_minor": 5
}
