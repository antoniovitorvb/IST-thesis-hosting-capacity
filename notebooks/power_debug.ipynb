{
 "cells": [
  {
   "cell_type": "code",
   "execution_count": 1,
   "id": "155653ab",
   "metadata": {},
   "outputs": [
    {
     "name": "stdout",
     "output_type": "stream",
     "text": [
      "load c:\\Users\\vitor\\AppData\\Local\\Programs\\Python\\Python312\\Lib\\site-packages\\ortools\\.libs\\zlib1.dll...\n",
      "load c:\\Users\\vitor\\AppData\\Local\\Programs\\Python\\Python312\\Lib\\site-packages\\ortools\\.libs\\abseil_dll.dll...\n",
      "load c:\\Users\\vitor\\AppData\\Local\\Programs\\Python\\Python312\\Lib\\site-packages\\ortools\\.libs\\utf8_validity.dll...\n",
      "load c:\\Users\\vitor\\AppData\\Local\\Programs\\Python\\Python312\\Lib\\site-packages\\ortools\\.libs\\re2.dll...\n",
      "load c:\\Users\\vitor\\AppData\\Local\\Programs\\Python\\Python312\\Lib\\site-packages\\ortools\\.libs\\libprotobuf.dll...\n",
      "load c:\\Users\\vitor\\AppData\\Local\\Programs\\Python\\Python312\\Lib\\site-packages\\ortools\\.libs\\highs.dll...\n",
      "load c:\\Users\\vitor\\AppData\\Local\\Programs\\Python\\Python312\\Lib\\site-packages\\ortools\\.libs\\ortools.dll...\n",
      "\n",
      "Created External Grid!\n",
      "\n",
      "\n",
      "Created Transformer!\n",
      "\n",
      "\n",
      "Created Shunt!\n",
      "\n",
      "\n",
      "Created 117 Buses!\n",
      "\n",
      "\n",
      "Created 115 Lines!\n",
      "\n",
      "\n",
      "Debugging successful!\n",
      "This pandapower network includes the following parameter tables:\n",
      "   - bus (117 elements)\n",
      "   - shunt (1 element)\n",
      "   - ext_grid (1 element)\n",
      "   - line (115 elements)\n",
      "   - trafo (1 element)\n",
      " and the following results tables:\n",
      "   - res_bus_3ph (117 elements)\n",
      "   - res_line_3ph (115 elements)\n",
      "   - res_trafo_3ph (1 element)\n",
      "   - res_ext_grid_3ph (1 element)\n",
      "   - res_shunt_3ph (1 element)\n"
     ]
    }
   ],
   "source": [
    "import os, math, sys\n",
    "import pandas as pd\n",
    "import pandapower as pp\n",
    "import numpy as np\n",
    "\n",
    "from pandapower.file_io import from_json, to_json\n",
    "\n",
    "main_dir = os.path.abspath(os.path.join(os.path.abspath(\"\"), \"..\"))\n",
    "data_dir = '../Modified_116_LV_CSV'\n",
    "\n",
    "if main_dir not in sys.path:\n",
    "    sys.path.insert(0, main_dir)\n",
    "\n",
    "from create_basic_network import debug_result, hc_violation"
   ]
  },
  {
   "cell_type": "code",
   "execution_count": 16,
   "id": "0a5d8a68",
   "metadata": {},
   "outputs": [
    {
     "name": "stdout",
     "output_type": "stream",
     "text": [
      "{'Voltage': 11.0, 'pu': 1.05, 'ISC3': 3000.0, 'ISC1': 5.0}\n",
      "{'Name': 'TR1', ' phases': 3, ' bus1': 'SourceBus', ' bus2': 1, ' kV_pri': 11, ' kV_sec': 0.416, ' MVA': 0.8, ' Conn_pri': ' Delta', ' Conn_sec': ' Wye', ' %XHL': 4, '% resistance': 0.4}\n"
     ]
    }
   ],
   "source": [
    "# Source data\n",
    "source_df = pd.read_csv(os.path.join(data_dir,'Source.csv'), skiprows=1, sep='=')\n",
    "source_dict = {i:float(row.iloc[0].split()[0]) for i, row in source_df.iterrows()}\n",
    "print(source_dict)\n",
    "\n",
    "source_dict['ISC1'] = source_dict['ISC1'] / 1000\n",
    "source_dict['ISC3'] = source_dict['ISC3'] / 1000\n",
    "\n",
    "# Transformer data\n",
    "trafo_df = pd.read_csv(os.path.join(data_dir,'Transformer.csv'), skiprows=1, sep=';')\n",
    "trafo_dict = trafo_df.iloc[0].to_dict()\n",
    "print(trafo_dict)"
   ]
  },
  {
   "cell_type": "code",
   "execution_count": 6,
   "id": "4d2dc24a",
   "metadata": {},
   "outputs": [
    {
     "data": {
      "text/plain": [
       "np.int64(0)"
      ]
     },
     "execution_count": 6,
     "metadata": {},
     "output_type": "execute_result"
    }
   ],
   "source": [
    "s_sc_mva = np.sqrt(3) * source_dict['Voltage'] * source_dict['ISC3'] #MVA\n",
    "\n",
    "net = pp.create_empty_network()\n",
    "\n",
    "bus_map = {}\n",
    "\n",
    "hv_bus = pp.create_bus(net, name=trafo_dict[' bus1'], vn_kv=source_dict['Voltage'], type=\"b\")\n",
    "lv_bus = pp.create_bus(net, name=trafo_dict[' bus2'], vn_kv=trafo_dict[' kV_sec'], type=\"b\")\n",
    "\n",
    "bus_map[trafo_dict[' bus1']] = hv_bus\n",
    "bus_map[trafo_dict[' bus2']] = lv_bus\n",
    "\n",
    "pp.create_ext_grid(\n",
    "    net, bus=hv_bus, vm_pu=source_dict['pu'],\n",
    "    s_sc_max_mva=s_sc_mva,\n",
    "    rx_max=0.1, rx_min=None,\n",
    "    # max_p_mw=None, min_p_mw=None,\n",
    "    # max_q_mvar=None, min_q_mvar=None, index=None,\n",
    "    r0x0_max=0.1, x0x_max=1.0\n",
    ")\n",
    "\n",
    "pp.create_transformer_from_parameters(\n",
    "    net=net, hv_bus=hv_bus, lv_bus=lv_bus,\n",
    "    sn_mva=trafo_dict[' MVA'],\n",
    "    vn_hv_kv=trafo_dict[' kV_pri'],\n",
    "    vn_lv_kv=trafo_dict[' kV_sec'],\n",
    "    vk_percent=trafo_dict[' %XHL'],\n",
    "    vkr_percent=trafo_dict['% resistance'],\n",
    "    pfe_kw=0.0, i0_percent=0.0, shift_degree=30, \n",
    "    name=trafo_dict['Name']\n",
    ")\n",
    "\n",
    "pp.create_shunt(\n",
    "    net, bus=lv_bus,\n",
    "    q_mvar=-0.01, p_mw=10e-3,\n",
    "    vn_kv=trafo_dict[' kV_sec'],\n",
    "    name=\"trafo_lv_shunt\"\n",
    ")"
   ]
  },
  {
   "cell_type": "code",
   "execution_count": 7,
   "id": "341a1e49",
   "metadata": {},
   "outputs": [],
   "source": [
    "lines_df = pd.read_excel(os.path.join(data_dir, \"Lines.xlsx\"), skiprows=1)\n",
    "lines_df['Length'] = lines_df['Length'] / 1000 # m to km\n",
    "lines_df['Units'] = 'km'\n",
    "lines_df.head()\n",
    "\n",
    "lineCodes_df = pd.read_csv(os.path.join(data_dir, \"LineCodes.csv\"), skiprows=1, sep=';')\n",
    "\n",
    "all_bus_ids = np.unique(lines_df[['Bus1', 'Bus2']].values.ravel('K'))\n",
    "for id in all_bus_ids:\n",
    "    id = math.floor(id)\n",
    "    if id not in bus_map.keys():\n",
    "        bus = pp.create_bus(net, name=id, vn_kv=trafo_dict[' kV_sec'], type=\"b\")\n",
    "        bus_map[id] = bus"
   ]
  },
  {
   "cell_type": "code",
   "execution_count": 8,
   "id": "92bc1ec3",
   "metadata": {},
   "outputs": [],
   "source": [
    "lineCodes_df['max_i_ka'] = np.ones(len(lineCodes_df))"
   ]
  },
  {
   "cell_type": "code",
   "execution_count": 9,
   "id": "0bab47b4",
   "metadata": {},
   "outputs": [],
   "source": [
    "full_line_df = lines_df.merge(lineCodes_df, left_on=\"LineCode\", right_on=\"Name\", how=\"left\")\n",
    "# full_line_df.head(10)\n",
    "\n",
    "net.line.drop(net.line.index, inplace=True)\n",
    "for _, line in full_line_df.iterrows():\n",
    "    # print(line)\n",
    "\n",
    "    if (line['C0'] == 0): line['C0'] = 200 # nF/km\n",
    "    if (line['C1'] == 0): line['C1'] = 200 # nF/km\n",
    "    \n",
    "    pp.create_line_from_parameters(\n",
    "        net, from_bus = bus_map[math.floor(line['Bus1'])],\n",
    "        to_bus = bus_map[math.floor(line['Bus2'])],\n",
    "        length_km = line['Length'],\n",
    "        r_ohm_per_km=line[\"R1\"], r0_ohm_per_km=line[\"R1\"] * 2,\n",
    "        x_ohm_per_km=line[\"X1\"], x0_ohm_per_km=line[\"X0\"],\n",
    "        c_nf_per_km=line[\"C1\"], c0_nf_per_km=line[\"C0\"],\n",
    "        max_i_ka=line[\"max_i_ka\"],\n",
    "        name=line[\"Name_x\"], type='cs',\n",
    "    )"
   ]
  },
  {
   "cell_type": "code",
   "execution_count": 10,
   "id": "a0f5fef0",
   "metadata": {},
   "outputs": [
    {
     "data": {
      "text/html": [
       "<div>\n",
       "<style scoped>\n",
       "    .dataframe tbody tr th:only-of-type {\n",
       "        vertical-align: middle;\n",
       "    }\n",
       "\n",
       "    .dataframe tbody tr th {\n",
       "        vertical-align: top;\n",
       "    }\n",
       "\n",
       "    .dataframe thead th {\n",
       "        text-align: right;\n",
       "    }\n",
       "</style>\n",
       "<table border=\"1\" class=\"dataframe\">\n",
       "  <thead>\n",
       "    <tr style=\"text-align: right;\">\n",
       "      <th></th>\n",
       "      <th>name</th>\n",
       "      <th>std_type</th>\n",
       "      <th>from_bus</th>\n",
       "      <th>to_bus</th>\n",
       "      <th>length_km</th>\n",
       "      <th>r_ohm_per_km</th>\n",
       "      <th>x_ohm_per_km</th>\n",
       "      <th>c_nf_per_km</th>\n",
       "      <th>g_us_per_km</th>\n",
       "      <th>max_i_ka</th>\n",
       "      <th>df</th>\n",
       "      <th>parallel</th>\n",
       "      <th>type</th>\n",
       "      <th>in_service</th>\n",
       "      <th>geo</th>\n",
       "      <th>r0_ohm_per_km</th>\n",
       "      <th>x0_ohm_per_km</th>\n",
       "      <th>c0_nf_per_km</th>\n",
       "      <th>g0_us_per_km</th>\n",
       "    </tr>\n",
       "  </thead>\n",
       "  <tbody>\n",
       "  </tbody>\n",
       "</table>\n",
       "</div>"
      ],
      "text/plain": [
       "Empty DataFrame\n",
       "Columns: [name, std_type, from_bus, to_bus, length_km, r_ohm_per_km, x_ohm_per_km, c_nf_per_km, g_us_per_km, max_i_ka, df, parallel, type, in_service, geo, r0_ohm_per_km, x0_ohm_per_km, c0_nf_per_km, g0_us_per_km]\n",
       "Index: []"
      ]
     },
     "execution_count": 10,
     "metadata": {},
     "output_type": "execute_result"
    }
   ],
   "source": [
    "suspicious_lines = net.line[\n",
    "    (np.isclose(net.line[\"length_km\"], 0, rtol=1e-2)) |\n",
    "    (np.isclose(net.line[\"r_ohm_per_km\"], 0, rtol=1e-2)) |\n",
    "    (np.isclose(net.line[\"x_ohm_per_km\"], 0, rtol=1e-2))\n",
    "]\n",
    "suspicious_lines"
   ]
  },
  {
   "cell_type": "code",
   "execution_count": null,
   "id": "fad51906",
   "metadata": {},
   "outputs": [],
   "source": [
    "net.trafo[\"vector_group\"] = 'Dyn'\n",
    "net.trafo[\"vk0_percent\"] = net.trafo[\"vk_percent\"]\n",
    "net.trafo[\"vkr0_percent\"] = net.trafo[\"vkr_percent\"]\n",
    "net.trafo[\"mag0_percent\"] = 100\n",
    "net.trafo[\"mag0_rx\"] = 0\n",
    "net.trafo[\"si0_hv_partial\"] = 0.9\n",
    "net.trafo[\"tap_phase_shifter\"] = False"
   ]
  },
  {
   "cell_type": "code",
   "execution_count": 47,
   "id": "f7d9577c",
   "metadata": {},
   "outputs": [
    {
     "data": {
      "text/plain": [
       "This pandapower network includes the following parameter tables:\n",
       "   - bus (117 elements)\n",
       "   - shunt (1 element)\n",
       "   - ext_grid (1 element)\n",
       "   - line (115 elements)\n",
       "   - trafo (1 element)\n",
       " and the following results tables:\n",
       "   - res_bus_3ph (117 elements)\n",
       "   - res_line_3ph (115 elements)\n",
       "   - res_trafo_3ph (1 element)\n",
       "   - res_ext_grid_3ph (1 element)\n",
       "   - res_shunt_3ph (1 element)"
      ]
     },
     "execution_count": 47,
     "metadata": {},
     "output_type": "execute_result"
    }
   ],
   "source": [
    "# to_json(net, os.path.join(data_dir, \"no_load_network.json\"))\n",
    "net = from_json('../json_networks/no_load_network.json')\n",
    "net"
   ]
  },
  {
   "cell_type": "code",
   "execution_count": 48,
   "id": "72a5bde0",
   "metadata": {},
   "outputs": [],
   "source": [
    "net.trafo['tap_po'] = 0\n",
    "net.trafo['tap_neutral'] = 0\n",
    "net.trafo['tap_min'] = -2\n",
    "net.trafo['tap_max'] = 2\n",
    "net.trafo['tap_step_percent'] = 2.5\n",
    "net.trafo['tap_side'] = 'lv'"
   ]
  },
  {
   "cell_type": "code",
   "execution_count": 49,
   "id": "1240e169",
   "metadata": {},
   "outputs": [
    {
     "data": {
      "text/html": [
       "<div>\n",
       "<style scoped>\n",
       "    .dataframe tbody tr th:only-of-type {\n",
       "        vertical-align: middle;\n",
       "    }\n",
       "\n",
       "    .dataframe tbody tr th {\n",
       "        vertical-align: top;\n",
       "    }\n",
       "\n",
       "    .dataframe thead th {\n",
       "        text-align: right;\n",
       "    }\n",
       "</style>\n",
       "<table border=\"1\" class=\"dataframe\">\n",
       "  <thead>\n",
       "    <tr style=\"text-align: right;\">\n",
       "      <th></th>\n",
       "      <th>name</th>\n",
       "      <th>std_type</th>\n",
       "      <th>hv_bus</th>\n",
       "      <th>lv_bus</th>\n",
       "      <th>sn_mva</th>\n",
       "      <th>vn_hv_kv</th>\n",
       "      <th>vn_lv_kv</th>\n",
       "      <th>vk_percent</th>\n",
       "      <th>vkr_percent</th>\n",
       "      <th>pfe_kw</th>\n",
       "      <th>...</th>\n",
       "      <th>in_service</th>\n",
       "      <th>vk0_percent</th>\n",
       "      <th>vkr0_percent</th>\n",
       "      <th>mag0_percent</th>\n",
       "      <th>mag0_rx</th>\n",
       "      <th>si0_hv_partial</th>\n",
       "      <th>vector_group</th>\n",
       "      <th>xn_ohm</th>\n",
       "      <th>k_st</th>\n",
       "      <th>tap_po</th>\n",
       "    </tr>\n",
       "  </thead>\n",
       "  <tbody>\n",
       "    <tr>\n",
       "      <th>0</th>\n",
       "      <td>TR1</td>\n",
       "      <td>None</td>\n",
       "      <td>0</td>\n",
       "      <td>1</td>\n",
       "      <td>0.8</td>\n",
       "      <td>11.0</td>\n",
       "      <td>0.416</td>\n",
       "      <td>4.0</td>\n",
       "      <td>0.4</td>\n",
       "      <td>0.0</td>\n",
       "      <td>...</td>\n",
       "      <td>True</td>\n",
       "      <td>4.0</td>\n",
       "      <td>0.4</td>\n",
       "      <td>100.0</td>\n",
       "      <td>0.0</td>\n",
       "      <td>0.9</td>\n",
       "      <td>Dyn</td>\n",
       "      <td>0.0</td>\n",
       "      <td>1.0</td>\n",
       "      <td>0</td>\n",
       "    </tr>\n",
       "  </tbody>\n",
       "</table>\n",
       "<p>1 rows × 34 columns</p>\n",
       "</div>"
      ],
      "text/plain": [
       "  name std_type  hv_bus  lv_bus  sn_mva  vn_hv_kv  vn_lv_kv  vk_percent  \\\n",
       "0  TR1     None       0       1     0.8      11.0     0.416         4.0   \n",
       "\n",
       "   vkr_percent  pfe_kw  ...  in_service  vk0_percent vkr0_percent  \\\n",
       "0          0.4     0.0  ...        True          4.0          0.4   \n",
       "\n",
       "   mag0_percent  mag0_rx  si0_hv_partial  vector_group  xn_ohm  k_st tap_po  \n",
       "0         100.0      0.0             0.9           Dyn     0.0   1.0      0  \n",
       "\n",
       "[1 rows x 34 columns]"
      ]
     },
     "execution_count": 49,
     "metadata": {},
     "output_type": "execute_result"
    }
   ],
   "source": [
    "net.trafo"
   ]
  },
  {
   "cell_type": "code",
   "execution_count": 50,
   "id": "4d808646",
   "metadata": {},
   "outputs": [
    {
     "data": {
      "text/plain": [
       "0"
      ]
     },
     "execution_count": 50,
     "metadata": {},
     "output_type": "execute_result"
    }
   ],
   "source": [
    "from create_basic_network import trafo_dict\n",
    "int(net.trafo.index[net.trafo.name==trafo_dict['Name']][0])"
   ]
  },
  {
   "cell_type": "code",
   "execution_count": 51,
   "id": "13b41242",
   "metadata": {},
   "outputs": [
    {
     "name": "stdout",
     "output_type": "stream",
     "text": [
      "1\n"
     ]
    }
   ],
   "source": [
    "print(pp.create_transformer_from_parameters(\n",
    "    net=net,\n",
    "    hv_bus=int(net.bus.index[net.bus.name == 'SourceBus'][0]),\n",
    "    lv_bus=int(net.bus.index[net.bus.name == 1][0]),\n",
    "    sn_mva=0.8,\n",
    "    vn_hv_kv=11,\n",
    "    vn_lv_kv=0.416,\n",
    "    vk_percent=4,\n",
    "    vkr_percent=0.4,\n",
    "    vk0_percent=4,\n",
    "    vkr0_percent=0.4,\n",
    "    mag0_percent=100,\n",
    "    mag0_rx=0,\n",
    "    si0_hv_partial=0.9,\n",
    "    pfe_kw=0.0,\n",
    "    i0_percent=0.0,\n",
    "    shift_degree=30,\n",
    "    tap_phase_shifter=False,\n",
    "    vector_group=\"Dyn\",\n",
    "    name=\"TR2\"\n",
    "))"
   ]
  },
  {
   "cell_type": "code",
   "execution_count": 52,
   "id": "ae6f7a83",
   "metadata": {},
   "outputs": [
    {
     "data": {
      "text/plain": [
       "This pandapower network includes the following parameter tables:\n",
       "   - bus (117 elements)\n",
       "   - shunt (1 element)\n",
       "   - ext_grid (1 element)\n",
       "   - line (115 elements)\n",
       "   - trafo (2 elements)\n",
       "   - controller (1 element)\n",
       " and the following results tables:\n",
       "   - res_bus_3ph (117 elements)\n",
       "   - res_line_3ph (115 elements)\n",
       "   - res_trafo_3ph (1 element)\n",
       "   - res_ext_grid_3ph (1 element)\n",
       "   - res_shunt_3ph (1 element)"
      ]
     },
     "execution_count": 52,
     "metadata": {},
     "output_type": "execute_result"
    }
   ],
   "source": [
    "import pandapower.control as ppc\n",
    "\n",
    "trafo_ctrl = ppc.DiscreteTapControl(\n",
    "    net, element='trafo',\n",
    "    element_index=int(net.trafo.index[net.trafo.name==trafo_dict['Name']][0]),\n",
    "    vm_lower_pu=0.90, vm_upper_pu=1.10,\n",
    "    vm_set_pu=1.0, side=\"lv\",\n",
    "    tol=0.01, in_service=True,\n",
    "    trafotype=\"2W\"\n",
    ")\n",
    "\n",
    "net"
   ]
  },
  {
   "cell_type": "code",
   "execution_count": 53,
   "id": "00e50cb6",
   "metadata": {},
   "outputs": [
    {
     "data": {
      "text/html": [
       "<div>\n",
       "<style scoped>\n",
       "    .dataframe tbody tr th:only-of-type {\n",
       "        vertical-align: middle;\n",
       "    }\n",
       "\n",
       "    .dataframe tbody tr th {\n",
       "        vertical-align: top;\n",
       "    }\n",
       "\n",
       "    .dataframe thead th {\n",
       "        text-align: right;\n",
       "    }\n",
       "</style>\n",
       "<table border=\"1\" class=\"dataframe\">\n",
       "  <thead>\n",
       "    <tr style=\"text-align: right;\">\n",
       "      <th></th>\n",
       "      <th>object</th>\n",
       "      <th>in_service</th>\n",
       "      <th>order</th>\n",
       "      <th>level</th>\n",
       "      <th>initial_run</th>\n",
       "      <th>recycle</th>\n",
       "    </tr>\n",
       "  </thead>\n",
       "  <tbody>\n",
       "    <tr>\n",
       "      <th>0</th>\n",
       "      <td>DiscreteTapControl of trafo 0</td>\n",
       "      <td>True</td>\n",
       "      <td>0.0</td>\n",
       "      <td>0</td>\n",
       "      <td>True</td>\n",
       "      <td>{'trafo': True, 'gen': False, 'bus_pq': False}</td>\n",
       "    </tr>\n",
       "  </tbody>\n",
       "</table>\n",
       "</div>"
      ],
      "text/plain": [
       "                          object  in_service  order level  initial_run  \\\n",
       "0  DiscreteTapControl of trafo 0        True    0.0     0         True   \n",
       "\n",
       "                                          recycle  \n",
       "0  {'trafo': True, 'gen': False, 'bus_pq': False}  "
      ]
     },
     "execution_count": 53,
     "metadata": {},
     "output_type": "execute_result"
    }
   ],
   "source": [
    "net.controller"
   ]
  },
  {
   "cell_type": "code",
   "execution_count": 54,
   "id": "81af6743",
   "metadata": {},
   "outputs": [
    {
     "data": {
      "text/html": [
       "<div>\n",
       "<style scoped>\n",
       "    .dataframe tbody tr th:only-of-type {\n",
       "        vertical-align: middle;\n",
       "    }\n",
       "\n",
       "    .dataframe tbody tr th {\n",
       "        vertical-align: top;\n",
       "    }\n",
       "\n",
       "    .dataframe thead th {\n",
       "        text-align: right;\n",
       "    }\n",
       "</style>\n",
       "<table border=\"1\" class=\"dataframe\">\n",
       "  <thead>\n",
       "    <tr style=\"text-align: right;\">\n",
       "      <th></th>\n",
       "      <th>tap_pos</th>\n",
       "      <th>tap_neutral</th>\n",
       "      <th>tap_min</th>\n",
       "      <th>tap_max</th>\n",
       "      <th>tap_step_percent</th>\n",
       "      <th>tap_side</th>\n",
       "    </tr>\n",
       "  </thead>\n",
       "  <tbody>\n",
       "    <tr>\n",
       "      <th>0</th>\n",
       "      <td>NaN</td>\n",
       "      <td>0.0</td>\n",
       "      <td>-2.0</td>\n",
       "      <td>2.0</td>\n",
       "      <td>2.5</td>\n",
       "      <td>lv</td>\n",
       "    </tr>\n",
       "    <tr>\n",
       "      <th>1</th>\n",
       "      <td>NaN</td>\n",
       "      <td>NaN</td>\n",
       "      <td>NaN</td>\n",
       "      <td>NaN</td>\n",
       "      <td>NaN</td>\n",
       "      <td>None</td>\n",
       "    </tr>\n",
       "  </tbody>\n",
       "</table>\n",
       "</div>"
      ],
      "text/plain": [
       "   tap_pos  tap_neutral  tap_min  tap_max  tap_step_percent tap_side\n",
       "0      NaN          0.0     -2.0      2.0               2.5       lv\n",
       "1      NaN          NaN      NaN      NaN               NaN     None"
      ]
     },
     "execution_count": 54,
     "metadata": {},
     "output_type": "execute_result"
    }
   ],
   "source": [
    "net.trafo.loc[:, ['tap_pos', 'tap_neutral', 'tap_min', 'tap_max', 'tap_step_percent', 'tap_side']]"
   ]
  },
  {
   "cell_type": "code",
   "execution_count": 55,
   "id": "9ab9fb8f",
   "metadata": {},
   "outputs": [
    {
     "data": {
      "text/html": [
       "<div>\n",
       "<style scoped>\n",
       "    .dataframe tbody tr th:only-of-type {\n",
       "        vertical-align: middle;\n",
       "    }\n",
       "\n",
       "    .dataframe tbody tr th {\n",
       "        vertical-align: top;\n",
       "    }\n",
       "\n",
       "    .dataframe thead th {\n",
       "        text-align: right;\n",
       "    }\n",
       "</style>\n",
       "<table border=\"1\" class=\"dataframe\">\n",
       "  <thead>\n",
       "    <tr style=\"text-align: right;\">\n",
       "      <th></th>\n",
       "      <th>length_km</th>\n",
       "      <th>r_ohm_per_km</th>\n",
       "      <th>r0_ohm_per_km</th>\n",
       "    </tr>\n",
       "  </thead>\n",
       "  <tbody>\n",
       "    <tr>\n",
       "      <th>count</th>\n",
       "      <td>115.000000</td>\n",
       "      <td>115.000000</td>\n",
       "      <td>115.000000</td>\n",
       "    </tr>\n",
       "    <tr>\n",
       "      <th>mean</th>\n",
       "      <td>0.010311</td>\n",
       "      <td>0.866948</td>\n",
       "      <td>1.173487</td>\n",
       "    </tr>\n",
       "    <tr>\n",
       "      <th>std</th>\n",
       "      <td>0.005717</td>\n",
       "      <td>0.402012</td>\n",
       "      <td>0.280478</td>\n",
       "    </tr>\n",
       "    <tr>\n",
       "      <th>min</th>\n",
       "      <td>0.002191</td>\n",
       "      <td>0.089000</td>\n",
       "      <td>0.319000</td>\n",
       "    </tr>\n",
       "    <tr>\n",
       "      <th>25%</th>\n",
       "      <td>0.006411</td>\n",
       "      <td>0.469000</td>\n",
       "      <td>1.200000</td>\n",
       "    </tr>\n",
       "    <tr>\n",
       "      <th>50%</th>\n",
       "      <td>0.009339</td>\n",
       "      <td>1.150000</td>\n",
       "      <td>1.200000</td>\n",
       "    </tr>\n",
       "    <tr>\n",
       "      <th>75%</th>\n",
       "      <td>0.013668</td>\n",
       "      <td>1.150000</td>\n",
       "      <td>1.200000</td>\n",
       "    </tr>\n",
       "    <tr>\n",
       "      <th>max</th>\n",
       "      <td>0.037663</td>\n",
       "      <td>1.257000</td>\n",
       "      <td>1.581000</td>\n",
       "    </tr>\n",
       "  </tbody>\n",
       "</table>\n",
       "</div>"
      ],
      "text/plain": [
       "        length_km  r_ohm_per_km  r0_ohm_per_km\n",
       "count  115.000000    115.000000     115.000000\n",
       "mean     0.010311      0.866948       1.173487\n",
       "std      0.005717      0.402012       0.280478\n",
       "min      0.002191      0.089000       0.319000\n",
       "25%      0.006411      0.469000       1.200000\n",
       "50%      0.009339      1.150000       1.200000\n",
       "75%      0.013668      1.150000       1.200000\n",
       "max      0.037663      1.257000       1.581000"
      ]
     },
     "execution_count": 55,
     "metadata": {},
     "output_type": "execute_result"
    }
   ],
   "source": [
    "net.line.loc[:, ['length_km', 'r_ohm_per_km', 'r0_ohm_per_km']].describe()"
   ]
  },
  {
   "cell_type": "code",
   "execution_count": 56,
   "id": "40664d33",
   "metadata": {},
   "outputs": [],
   "source": [
    "import pandas as pd\n",
    "\n",
    "def export_results(file_path, net, init='auto', max_iteration=100, tolerance_mva=1e-8):\n",
    "    \"\"\"\n",
    "    Export all result DataFrames (attributes of net starting with 'res_') to an Excel file.\n",
    "    \n",
    "    Parameters:\n",
    "    - file_path: str, path to the Excel file to save the results.\n",
    "    - net: object containing result DataFrames as attributes starting with 'res_'.\n",
    "    \"\"\"\n",
    "\n",
    "    try:\n",
    "        pp.runpp_3ph(\n",
    "            net, init=init,\n",
    "            max_iteration=max_iteration,\n",
    "            tolerance_mva=tolerance_mva,\n",
    "            calc_voltage_angles=True,\n",
    "            v_debug=True\n",
    "        )\n",
    "    except Exception as e:\n",
    "        return e  # or raise e if you want the exception to propagate\n",
    "\n",
    "    with pd.ExcelWriter(file_path) as writer:\n",
    "        for attr in dir(net):\n",
    "            if attr.startswith(\"res_\"):\n",
    "                df = getattr(net, attr)\n",
    "                if isinstance(df, pd.DataFrame) and not df.empty:\n",
    "                    sheet_name = attr[:31]  # Excel sheet names must be <= 31 characters\n",
    "                    df.to_excel(writer, sheet_name=sheet_name)\n",
    "    return True\n",
    "\n",
    "def debug_result(net, init='auto', max_iteration=100, tolerance_mva=1e-8):\n",
    "    try:\n",
    "        pp.runpp_3ph(\n",
    "            net, init=init,\n",
    "            max_iteration=max_iteration,\n",
    "            tolerance_mva=tolerance_mva,\n",
    "            calc_voltage_angles=True,\n",
    "            v_debug=True\n",
    "        )\n",
    "    except Exception as e:\n",
    "        return False\n",
    "    return True"
   ]
  },
  {
   "cell_type": "code",
   "execution_count": 57,
   "id": "9ff04e2a",
   "metadata": {},
   "outputs": [
    {
     "name": "stderr",
     "output_type": "stream",
     "text": [
      "\n",
      "\n",
      "_____________ PANDAPOWER DIAGNOSTIC TOOL _____________ \n",
      "\n",
      "\n",
      " --------\n",
      "\n",
      "\n",
      " --------\n",
      "\n",
      "\n",
      " --------\n",
      "\n",
      "\n",
      " --------\n",
      "\n",
      "\n",
      " --------\n",
      "\n",
      "\n",
      " --------\n",
      "\n",
      "\n",
      " --------\n",
      "\n",
      "\n",
      " --------\n",
      "\n",
      "\n",
      " --------\n",
      "\n",
      "\n",
      " --------\n",
      "\n",
      "\n",
      " --------\n",
      "\n",
      "\n",
      " --------\n",
      "\n",
      "\n",
      " --------\n",
      "\n",
      "\n",
      " --------\n",
      "\n",
      "_____________ END OF PANDAPOWER DIAGNOSTIC _____________ \n"
     ]
    },
    {
     "data": {
      "text/plain": [
       "{'implausible_impedance_values': [{'line': [1,\n",
       "    2,\n",
       "    3,\n",
       "    4,\n",
       "    5,\n",
       "    7,\n",
       "    8,\n",
       "    9,\n",
       "    10,\n",
       "    11,\n",
       "    12,\n",
       "    13,\n",
       "    14,\n",
       "    15,\n",
       "    19,\n",
       "    21,\n",
       "    22,\n",
       "    23,\n",
       "    24,\n",
       "    25,\n",
       "    26,\n",
       "    29,\n",
       "    30,\n",
       "    31,\n",
       "    33,\n",
       "    35,\n",
       "    36,\n",
       "    37,\n",
       "    39,\n",
       "    41,\n",
       "    42,\n",
       "    43,\n",
       "    44,\n",
       "    45,\n",
       "    46,\n",
       "    47,\n",
       "    51,\n",
       "    54,\n",
       "    55,\n",
       "    56,\n",
       "    57,\n",
       "    58,\n",
       "    61,\n",
       "    63,\n",
       "    64,\n",
       "    65,\n",
       "    66,\n",
       "    67,\n",
       "    68,\n",
       "    69,\n",
       "    71,\n",
       "    72,\n",
       "    74,\n",
       "    76,\n",
       "    79,\n",
       "    80,\n",
       "    82,\n",
       "    84,\n",
       "    85,\n",
       "    86,\n",
       "    87,\n",
       "    88,\n",
       "    89,\n",
       "    90,\n",
       "    91,\n",
       "    93,\n",
       "    94,\n",
       "    97,\n",
       "    98,\n",
       "    99,\n",
       "    101,\n",
       "    102,\n",
       "    103,\n",
       "    105,\n",
       "    106,\n",
       "    107,\n",
       "    108,\n",
       "    109,\n",
       "    110,\n",
       "    111,\n",
       "    112,\n",
       "    113,\n",
       "    114]}]}"
      ]
     },
     "execution_count": 57,
     "metadata": {},
     "output_type": "execute_result"
    }
   ],
   "source": [
    "pp.diagnostic(net)"
   ]
  },
  {
   "cell_type": "code",
   "execution_count": 58,
   "id": "9ded1254",
   "metadata": {},
   "outputs": [
    {
     "data": {
      "text/plain": [
       "True"
      ]
     },
     "execution_count": 58,
     "metadata": {},
     "output_type": "execute_result"
    }
   ],
   "source": [
    "export_results(\"basic_network_results.xlsx\", net)"
   ]
  },
  {
   "cell_type": "code",
   "execution_count": 62,
   "id": "776dafd5",
   "metadata": {},
   "outputs": [],
   "source": [
    "bus_map = {\n",
    "    name: bus_id for name, bus_id in zip(net.bus.name, net.bus.index)\n",
    "}"
   ]
  },
  {
   "cell_type": "code",
   "execution_count": 59,
   "id": "4c0f3832",
   "metadata": {},
   "outputs": [
    {
     "ename": "NameError",
     "evalue": "name 'bus_map' is not defined",
     "output_type": "error",
     "traceback": [
      "\u001b[31m---------------------------------------------------------------------------\u001b[39m",
      "\u001b[31mNameError\u001b[39m                                 Traceback (most recent call last)",
      "\u001b[36mCell\u001b[39m\u001b[36m \u001b[39m\u001b[32mIn[59]\u001b[39m\u001b[32m, line 12\u001b[39m\n\u001b[32m     10\u001b[39m bus_id = math.floor(row[\u001b[33m'\u001b[39m\u001b[33mBus\u001b[39m\u001b[33m'\u001b[39m])\n\u001b[32m     11\u001b[39m pa = qa = pb = qb = pc = qc = \u001b[32m0\u001b[39m\n\u001b[32m---> \u001b[39m\u001b[32m12\u001b[39m \u001b[38;5;28;01mif\u001b[39;00m (bus_id \u001b[38;5;129;01min\u001b[39;00m \u001b[43mbus_map\u001b[49m) & (row[\u001b[33m'\u001b[39m\u001b[33mphases\u001b[39m\u001b[33m'\u001b[39m] \u001b[38;5;129;01min\u001b[39;00m {\u001b[33m'\u001b[39m\u001b[33mA\u001b[39m\u001b[33m'\u001b[39m, \u001b[33m'\u001b[39m\u001b[33mB\u001b[39m\u001b[33m'\u001b[39m, \u001b[33m'\u001b[39m\u001b[33mC\u001b[39m\u001b[33m'\u001b[39m}):\n\u001b[32m     13\u001b[39m     \u001b[38;5;28;01mif\u001b[39;00m row[\u001b[33m'\u001b[39m\u001b[33mphases\u001b[39m\u001b[33m'\u001b[39m]==\u001b[33m'\u001b[39m\u001b[33mA\u001b[39m\u001b[33m'\u001b[39m:\n\u001b[32m     14\u001b[39m         pa = row[\u001b[33m'\u001b[39m\u001b[33mkW\u001b[39m\u001b[33m'\u001b[39m]\n",
      "\u001b[31mNameError\u001b[39m: name 'bus_map' is not defined"
     ]
    }
   ],
   "source": [
    "# Create Loads\n",
    "loads_df = pd.read_excel(os.path.join(data_dir, \"Loads.xlsx\"), skiprows=2)\n",
    "# print(loads_df.head(10))\n",
    "sample_loads = loads_df.sample(25)\n",
    "\n",
    "net.asymmetric_load.drop(net.asymmetric_load.index, inplace=True)\n",
    "load_map = {}\n",
    "for _, row in sample_loads.iterrows():\n",
    "    # print(_, '->', row)\n",
    "    bus_id = math.floor(row['Bus'])\n",
    "    pa = qa = pb = qb = pc = qc = 0\n",
    "    if (bus_id in bus_map) & (row['phases'] in {'A', 'B', 'C'}):\n",
    "        if row['phases']=='A':\n",
    "            pa = row['kW']\n",
    "            qa = row['kW'] * np.tan(np.arccos(row['PF']))\n",
    "        elif row['phases']=='B':\n",
    "            pb = row['kW']\n",
    "            qb = row['kW'] * np.tan(np.arccos(row['PF']))\n",
    "        else: # row['phases']=='C'\n",
    "            pc = row['kW']\n",
    "            qc = row['kW'] * np.tan(np.arccos(row['PF']))\n",
    "        load = pp.create_asymmetric_load(\n",
    "            net, bus=net.bus.index[net.bus.name==bus_id][0],\n",
    "            p_a_mw=pa / 1000, q_a_mvar=qa / 1000,\n",
    "            p_b_mw=pb / 1000, q_b_mvar=qb / 1000,\n",
    "            p_c_mw=pc / 1000, q_c_mvar=qc / 1000,\n",
    "            name=row['Name']\n",
    "        )\n",
    "        load_map[load] = row['Yearly']\n",
    "\n",
    "# print(net.asymmetric_load)\n",
    "export_results(\"batch_network_results.xlsx\", net)"
   ]
  },
  {
   "cell_type": "code",
   "execution_count": null,
   "id": "07d71cb1",
   "metadata": {},
   "outputs": [
    {
     "name": "stderr",
     "output_type": "stream",
     "text": [
      "c:\\Users\\vitor\\AppData\\Local\\Programs\\Python\\Python312\\Lib\\site-packages\\pandapower\\pf\\create_jacobian.py:27: RuntimeWarning: invalid value encountered in divide\n",
      "  dVm_x, dVa_x = dSbus_dV_numba_sparse(Ybus.data, Ybus.indptr, Ybus.indices, V, V / abs(V), Ibus)\n",
      "c:\\Users\\vitor\\AppData\\Local\\Programs\\Python\\Python312\\Lib\\site-packages\\pandapower\\pypower\\newtonpf.py:441: MatrixRankWarning: Matrix is exactly singular\n",
      "  dx = -1 * spsolve(J, F, permc_spec=permc_spec, use_umfpack=use_umfpack)\n",
      "c:\\Users\\vitor\\AppData\\Local\\Programs\\Python\\Python312\\Lib\\site-packages\\pandapower\\pf\\runpp_3ph.py:468: RuntimeWarning: invalid value encountered in divide\n",
      "  i_abc_it_wye = (np.divide(s_abc_pu, v_abc_it)).conjugate()\n",
      "c:\\Users\\vitor\\AppData\\Local\\Programs\\Python\\Python312\\Lib\\site-packages\\pandapower\\pf\\runpp_3ph.py:469: RuntimeWarning: invalid value encountered in divide\n",
      "  i_abc_it_delta = np.matmul(i_del_xfmn, (np.divide(s_abc_delta_pu, np.matmul\n",
      "c:\\Users\\vitor\\AppData\\Local\\Programs\\Python\\Python312\\Lib\\site-packages\\pandapower\\results_bus.py:74: RuntimeWarning: invalid value encountered in divide\n",
      "  net[\"res_bus_3ph\"][\"unbalance_percent\"] = np.abs(V012_pu[2, :]/V012_pu[1, :])*100\n",
      "c:\\Users\\vitor\\AppData\\Local\\Programs\\Python\\Python312\\Lib\\site-packages\\pandapower\\auxiliary.py:1556: RuntimeWarning: invalid value encountered in divide\n",
      "  return np.conjugate(np.divide(S, V, out=np.zeros_like(S), where=V != 0))  # Return zero if div by zero\n",
      "c:\\Users\\vitor\\AppData\\Local\\Programs\\Python\\Python312\\Lib\\site-packages\\pandapower\\auxiliary.py:1556: RuntimeWarning: invalid value encountered in divide\n",
      "  return np.conjugate(np.divide(S, V, out=np.zeros_like(S), where=V != 0))  # Return zero if div by zero\n"
     ]
    },
    {
     "name": "stdout",
     "output_type": "stream",
     "text": [
      "[5]\tConvergence rate = 100.0 %\n"
     ]
    },
    {
     "name": "stderr",
     "output_type": "stream",
     "text": [
      "c:\\Users\\vitor\\AppData\\Local\\Programs\\Python\\Python312\\Lib\\site-packages\\pandapower\\pypower\\newtonpf.py:441: MatrixRankWarning: Matrix is exactly singular\n",
      "  dx = -1 * spsolve(J, F, permc_spec=permc_spec, use_umfpack=use_umfpack)\n",
      "c:\\Users\\vitor\\AppData\\Local\\Programs\\Python\\Python312\\Lib\\site-packages\\pandapower\\pf\\create_jacobian.py:27: RuntimeWarning: invalid value encountered in divide\n",
      "  dVm_x, dVa_x = dSbus_dV_numba_sparse(Ybus.data, Ybus.indptr, Ybus.indices, V, V / abs(V), Ibus)\n",
      "c:\\Users\\vitor\\AppData\\Local\\Programs\\Python\\Python312\\Lib\\site-packages\\pandapower\\pf\\runpp_3ph.py:468: RuntimeWarning: invalid value encountered in divide\n",
      "  i_abc_it_wye = (np.divide(s_abc_pu, v_abc_it)).conjugate()\n",
      "c:\\Users\\vitor\\AppData\\Local\\Programs\\Python\\Python312\\Lib\\site-packages\\pandapower\\pf\\runpp_3ph.py:469: RuntimeWarning: invalid value encountered in divide\n",
      "  i_abc_it_delta = np.matmul(i_del_xfmn, (np.divide(s_abc_delta_pu, np.matmul\n",
      "c:\\Users\\vitor\\AppData\\Local\\Programs\\Python\\Python312\\Lib\\site-packages\\pandapower\\results_bus.py:74: RuntimeWarning: invalid value encountered in divide\n",
      "  net[\"res_bus_3ph\"][\"unbalance_percent\"] = np.abs(V012_pu[2, :]/V012_pu[1, :])*100\n",
      "c:\\Users\\vitor\\AppData\\Local\\Programs\\Python\\Python312\\Lib\\site-packages\\pandapower\\auxiliary.py:1556: RuntimeWarning: invalid value encountered in divide\n",
      "  return np.conjugate(np.divide(S, V, out=np.zeros_like(S), where=V != 0))  # Return zero if div by zero\n",
      "c:\\Users\\vitor\\AppData\\Local\\Programs\\Python\\Python312\\Lib\\site-packages\\pandapower\\auxiliary.py:1556: RuntimeWarning: invalid value encountered in divide\n",
      "  return np.conjugate(np.divide(S, V, out=np.zeros_like(S), where=V != 0))  # Return zero if div by zero\n"
     ]
    },
    {
     "name": "stdout",
     "output_type": "stream",
     "text": [
      "[10]\tConvergence rate = 100.0 %\n"
     ]
    },
    {
     "name": "stderr",
     "output_type": "stream",
     "text": [
      "c:\\Users\\vitor\\AppData\\Local\\Programs\\Python\\Python312\\Lib\\site-packages\\pandapower\\pf\\create_jacobian.py:27: RuntimeWarning: invalid value encountered in divide\n",
      "  dVm_x, dVa_x = dSbus_dV_numba_sparse(Ybus.data, Ybus.indptr, Ybus.indices, V, V / abs(V), Ibus)\n",
      "c:\\Users\\vitor\\AppData\\Local\\Programs\\Python\\Python312\\Lib\\site-packages\\pandapower\\pypower\\newtonpf.py:441: MatrixRankWarning: Matrix is exactly singular\n",
      "  dx = -1 * spsolve(J, F, permc_spec=permc_spec, use_umfpack=use_umfpack)\n",
      "c:\\Users\\vitor\\AppData\\Local\\Programs\\Python\\Python312\\Lib\\site-packages\\pandapower\\pf\\runpp_3ph.py:468: RuntimeWarning: invalid value encountered in divide\n",
      "  i_abc_it_wye = (np.divide(s_abc_pu, v_abc_it)).conjugate()\n",
      "c:\\Users\\vitor\\AppData\\Local\\Programs\\Python\\Python312\\Lib\\site-packages\\pandapower\\pf\\runpp_3ph.py:469: RuntimeWarning: invalid value encountered in divide\n",
      "  i_abc_it_delta = np.matmul(i_del_xfmn, (np.divide(s_abc_delta_pu, np.matmul\n",
      "c:\\Users\\vitor\\AppData\\Local\\Programs\\Python\\Python312\\Lib\\site-packages\\pandapower\\results_bus.py:74: RuntimeWarning: invalid value encountered in divide\n",
      "  net[\"res_bus_3ph\"][\"unbalance_percent\"] = np.abs(V012_pu[2, :]/V012_pu[1, :])*100\n",
      "c:\\Users\\vitor\\AppData\\Local\\Programs\\Python\\Python312\\Lib\\site-packages\\pandapower\\auxiliary.py:1556: RuntimeWarning: invalid value encountered in divide\n",
      "  return np.conjugate(np.divide(S, V, out=np.zeros_like(S), where=V != 0))  # Return zero if div by zero\n",
      "c:\\Users\\vitor\\AppData\\Local\\Programs\\Python\\Python312\\Lib\\site-packages\\pandapower\\auxiliary.py:1556: RuntimeWarning: invalid value encountered in divide\n",
      "  return np.conjugate(np.divide(S, V, out=np.zeros_like(S), where=V != 0))  # Return zero if div by zero\n"
     ]
    },
    {
     "name": "stdout",
     "output_type": "stream",
     "text": [
      "[15]\tConvergence rate = 100.0 %\n"
     ]
    },
    {
     "name": "stderr",
     "output_type": "stream",
     "text": [
      "c:\\Users\\vitor\\AppData\\Local\\Programs\\Python\\Python312\\Lib\\site-packages\\pandapower\\pf\\create_jacobian.py:27: RuntimeWarning: invalid value encountered in divide\n",
      "  dVm_x, dVa_x = dSbus_dV_numba_sparse(Ybus.data, Ybus.indptr, Ybus.indices, V, V / abs(V), Ibus)\n",
      "c:\\Users\\vitor\\AppData\\Local\\Programs\\Python\\Python312\\Lib\\site-packages\\pandapower\\pypower\\newtonpf.py:441: MatrixRankWarning: Matrix is exactly singular\n",
      "  dx = -1 * spsolve(J, F, permc_spec=permc_spec, use_umfpack=use_umfpack)\n"
     ]
    },
    {
     "ename": "KeyboardInterrupt",
     "evalue": "",
     "output_type": "error",
     "traceback": [
      "\u001b[31m---------------------------------------------------------------------------\u001b[39m",
      "\u001b[31mKeyboardInterrupt\u001b[39m                         Traceback (most recent call last)",
      "\u001b[36mCell\u001b[39m\u001b[36m \u001b[39m\u001b[32mIn[17]\u001b[39m\u001b[32m, line 33\u001b[39m\n\u001b[32m     24\u001b[39m             load = pp.create_asymmetric_load(\n\u001b[32m     25\u001b[39m                 net, bus=net.bus.index[net.bus.name==bus_id][\u001b[32m0\u001b[39m],\n\u001b[32m     26\u001b[39m                 p_a_mw=pa, q_a_mvar=qa,\n\u001b[32m   (...)\u001b[39m\u001b[32m     29\u001b[39m                 name=row[\u001b[33m'\u001b[39m\u001b[33mName\u001b[39m\u001b[33m'\u001b[39m]\n\u001b[32m     30\u001b[39m             )\n\u001b[32m     31\u001b[39m             load_map[load] = row[\u001b[33m'\u001b[39m\u001b[33mYearly\u001b[39m\u001b[33m'\u001b[39m]\n\u001b[32m---> \u001b[39m\u001b[32m33\u001b[39m     \u001b[38;5;28;01mif\u001b[39;00m debug_result(net, init=\u001b[33m'\u001b[39m\u001b[33mflat\u001b[39m\u001b[33m'\u001b[39m): success += \u001b[32m1\u001b[39m\n\u001b[32m     34\u001b[39m \u001b[38;5;28mprint\u001b[39m(\u001b[33mf\u001b[39m\u001b[33m\"\u001b[39m\u001b[33m[\u001b[39m\u001b[38;5;132;01m{\u001b[39;00mb\u001b[38;5;132;01m}\u001b[39;00m\u001b[33m]\u001b[39m\u001b[38;5;130;01m\\t\u001b[39;00m\u001b[33mConvergence rate = \u001b[39m\u001b[38;5;132;01m{\u001b[39;00m\u001b[32m100\u001b[39m\u001b[38;5;250m \u001b[39m*\u001b[38;5;250m \u001b[39msuccess\u001b[38;5;250m \u001b[39m/\u001b[38;5;250m \u001b[39mN\u001b[38;5;132;01m}\u001b[39;00m\u001b[33m %\u001b[39m\u001b[33m\"\u001b[39m)\n",
      "\u001b[36mCell\u001b[39m\u001b[36m \u001b[39m\u001b[32mIn[13]\u001b[39m\u001b[32m, line 34\u001b[39m, in \u001b[36mdebug_result\u001b[39m\u001b[34m(net, init, max_iteration, tolerance_mva)\u001b[39m\n\u001b[32m     32\u001b[39m \u001b[38;5;28;01mdef\u001b[39;00m\u001b[38;5;250m \u001b[39m\u001b[34mdebug_result\u001b[39m(net, init=\u001b[33m'\u001b[39m\u001b[33mauto\u001b[39m\u001b[33m'\u001b[39m, max_iteration=\u001b[32m100\u001b[39m, tolerance_mva=\u001b[32m1e-8\u001b[39m):\n\u001b[32m     33\u001b[39m     \u001b[38;5;28;01mtry\u001b[39;00m:\n\u001b[32m---> \u001b[39m\u001b[32m34\u001b[39m         \u001b[43mpp\u001b[49m\u001b[43m.\u001b[49m\u001b[43mrunpp_3ph\u001b[49m\u001b[43m(\u001b[49m\n\u001b[32m     35\u001b[39m \u001b[43m            \u001b[49m\u001b[43mnet\u001b[49m\u001b[43m,\u001b[49m\u001b[43m \u001b[49m\u001b[43minit\u001b[49m\u001b[43m=\u001b[49m\u001b[43minit\u001b[49m\u001b[43m,\u001b[49m\n\u001b[32m     36\u001b[39m \u001b[43m            \u001b[49m\u001b[43mmax_iteration\u001b[49m\u001b[43m=\u001b[49m\u001b[43mmax_iteration\u001b[49m\u001b[43m,\u001b[49m\n\u001b[32m     37\u001b[39m \u001b[43m            \u001b[49m\u001b[43mtolerance_mva\u001b[49m\u001b[43m=\u001b[49m\u001b[43mtolerance_mva\u001b[49m\u001b[43m,\u001b[49m\n\u001b[32m     38\u001b[39m \u001b[43m            \u001b[49m\u001b[43mcalc_voltage_angles\u001b[49m\u001b[43m=\u001b[49m\u001b[38;5;28;43;01mTrue\u001b[39;49;00m\u001b[43m,\u001b[49m\n\u001b[32m     39\u001b[39m \u001b[43m            \u001b[49m\u001b[43mv_debug\u001b[49m\u001b[43m=\u001b[49m\u001b[38;5;28;43;01mTrue\u001b[39;49;00m\n\u001b[32m     40\u001b[39m \u001b[43m        \u001b[49m\u001b[43m)\u001b[49m\n\u001b[32m     41\u001b[39m     \u001b[38;5;28;01mexcept\u001b[39;00m \u001b[38;5;167;01mException\u001b[39;00m \u001b[38;5;28;01mas\u001b[39;00m e:\n\u001b[32m     42\u001b[39m         \u001b[38;5;28;01mreturn\u001b[39;00m \u001b[38;5;28;01mFalse\u001b[39;00m\n",
      "\u001b[36mFile \u001b[39m\u001b[32mc:\\Users\\vitor\\AppData\\Local\\Programs\\Python\\Python312\\Lib\\site-packages\\pandapower\\pf\\runpp_3ph.py:492\u001b[39m, in \u001b[36mrunpp_3ph\u001b[39m\u001b[34m(net, calculate_voltage_angles, init, max_iteration, tolerance_mva, trafo_model, trafo_loading, enforce_q_lims, numba, recycle, check_connectivity, switch_rx_ratio, delta_q, v_debug, **kwargs)\u001b[39m\n\u001b[32m    488\u001b[39m ppci1[\u001b[33m\"\u001b[39m\u001b[33mbus\u001b[39m\u001b[33m\"\u001b[39m][pq_bus, QD] = np.imag(s1[pq_bus]) * ppci1[\u001b[33m\"\u001b[39m\u001b[33mbaseMVA\u001b[39m\u001b[33m\"\u001b[39m]\n\u001b[32m    489\u001b[39m \u001b[38;5;66;03m# =============================================================================\u001b[39;00m\n\u001b[32m    490\u001b[39m \u001b[38;5;66;03m# Conduct Positive sequence power flow\u001b[39;00m\n\u001b[32m    491\u001b[39m \u001b[38;5;66;03m# =============================================================================\u001b[39;00m\n\u001b[32m--> \u001b[39m\u001b[32m492\u001b[39m \u001b[43m_run_newton_raphson_pf\u001b[49m\u001b[43m(\u001b[49m\u001b[43mppci1\u001b[49m\u001b[43m,\u001b[49m\u001b[43m \u001b[49m\u001b[43mnet\u001b[49m\u001b[43m.\u001b[49m\u001b[43m_options\u001b[49m\u001b[43m)\u001b[49m\n\u001b[32m    493\u001b[39m \u001b[38;5;66;03m# =============================================================================\u001b[39;00m\n\u001b[32m    494\u001b[39m \u001b[38;5;66;03m# Conduct Negative and Zero sequence power flow\u001b[39;00m\n\u001b[32m    495\u001b[39m \u001b[38;5;66;03m# =============================================================================\u001b[39;00m\n\u001b[32m    496\u001b[39m v0_pu_it = V_from_I(y_0_pu, i0_pu_it)\n",
      "\u001b[36mFile \u001b[39m\u001b[32mc:\\Users\\vitor\\AppData\\Local\\Programs\\Python\\Python312\\Lib\\site-packages\\pandapower\\pf\\run_newton_raphson_pf.py:61\u001b[39m, in \u001b[36m_run_newton_raphson_pf\u001b[39m\u001b[34m(ppci, options)\u001b[39m\n\u001b[32m     59\u001b[39m     ppci, success, iterations, bus, gen, branch = _run_ac_pf_with_qlims_enforced(ppci, options)\n\u001b[32m     60\u001b[39m \u001b[38;5;28;01melse\u001b[39;00m:\n\u001b[32m---> \u001b[39m\u001b[32m61\u001b[39m     ppci, success, iterations = \u001b[43m_run_ac_pf_without_qlims_enforced\u001b[49m\u001b[43m(\u001b[49m\u001b[43mppci\u001b[49m\u001b[43m,\u001b[49m\u001b[43m \u001b[49m\u001b[43moptions\u001b[49m\u001b[43m)\u001b[49m\n\u001b[32m     62\u001b[39m     \u001b[38;5;66;03m# update data matrices with solution store in ppci\u001b[39;00m\n\u001b[32m     63\u001b[39m     bus, gen, branch = ppci_to_pfsoln(ppci, options)\n",
      "\u001b[36mFile \u001b[39m\u001b[32mc:\\Users\\vitor\\AppData\\Local\\Programs\\Python\\Python312\\Lib\\site-packages\\pandapower\\pf\\run_newton_raphson_pf.py:171\u001b[39m, in \u001b[36m_run_ac_pf_without_qlims_enforced\u001b[39m\u001b[34m(ppci, options)\u001b[39m\n\u001b[32m    169\u001b[39m     r_theta_kelvin_per_mw = \u001b[38;5;28;01mNone\u001b[39;00m\n\u001b[32m    170\u001b[39m \u001b[38;5;28;01melse\u001b[39;00m:\n\u001b[32m--> \u001b[39m\u001b[32m171\u001b[39m     V, success, iterations, J, Vm_it, Va_it, r_theta_kelvin_per_mw, T = \u001b[43mnewtonpf\u001b[49m\u001b[43m(\u001b[49m\u001b[43mYbus\u001b[49m\u001b[43m,\u001b[49m\u001b[43m \u001b[49m\u001b[43mSbus\u001b[49m\u001b[43m,\u001b[49m\u001b[43m \u001b[49m\u001b[43mV0\u001b[49m\u001b[43m,\u001b[49m\u001b[43m \u001b[49m\u001b[43mref\u001b[49m\u001b[43m,\u001b[49m\u001b[43m \u001b[49m\u001b[43mpv\u001b[49m\u001b[43m,\u001b[49m\u001b[43m \u001b[49m\u001b[43mpq\u001b[49m\u001b[43m,\u001b[49m\u001b[43m \u001b[49m\u001b[43mppci\u001b[49m\u001b[43m,\u001b[49m\u001b[43m \u001b[49m\u001b[43moptions\u001b[49m\u001b[43m,\u001b[49m\u001b[43m \u001b[49m\u001b[43mmakeYbus\u001b[49m\u001b[43m)\u001b[49m\n\u001b[32m    172\u001b[39m     \u001b[38;5;66;03m# due to TPDF, SVC, TCSC, the Ybus matrices can be updated in the newtonpf and stored in ppci[\"internal\"],\u001b[39;00m\n\u001b[32m    173\u001b[39m     \u001b[38;5;66;03m# so we extract them here for later use:\u001b[39;00m\n\u001b[32m    174\u001b[39m     Ybus, Ybus_svc, Ybus_tcsc, Ybus_ssc, Ybus_vsc = (ppci[\u001b[33m\"\u001b[39m\u001b[33minternal\u001b[39m\u001b[33m\"\u001b[39m].get(key) \u001b[38;5;28;01mfor\u001b[39;00m key \u001b[38;5;129;01min\u001b[39;00m (\u001b[33m\"\u001b[39m\u001b[33mYbus\u001b[39m\u001b[33m\"\u001b[39m, \u001b[33m\"\u001b[39m\u001b[33mYbus_svc\u001b[39m\u001b[33m\"\u001b[39m, \u001b[33m\"\u001b[39m\u001b[33mYbus_tcsc\u001b[39m\u001b[33m\"\u001b[39m, \u001b[33m\"\u001b[39m\u001b[33mYbus_ssc\u001b[39m\u001b[33m\"\u001b[39m, \u001b[33m\"\u001b[39m\u001b[33mYbus_vsc\u001b[39m\u001b[33m\"\u001b[39m))\n",
      "\u001b[36mFile \u001b[39m\u001b[32mc:\\Users\\vitor\\AppData\\Local\\Programs\\Python\\Python312\\Lib\\site-packages\\pandapower\\pypower\\newtonpf.py:486\u001b[39m, in \u001b[36mnewtonpf\u001b[39m\u001b[34m(Ybus, Sbus, V0, ref, pv, pq, ppci, options, makeYbus)\u001b[39m\n\u001b[32m    480\u001b[39m     Ybus_tcsc = make_Ybus_facts(tcsc_fb, tcsc_tb, y_tcsc_pu, Ybus.shape[\u001b[32m0\u001b[39m])\n\u001b[32m    481\u001b[39m     \u001b[38;5;66;03m# Ybus_tcsc = makeYbus_tcsc(Ybus, x_control_tcsc, tcsc_x_l_pu, tcsc_x_cvar_pu, tcsc_fb, tcsc_tb)\u001b[39;00m\n\u001b[32m    482\u001b[39m \u001b[38;5;66;03m# Ybus_ssc does not change\u001b[39;00m\n\u001b[32m    483\u001b[39m \u001b[38;5;66;03m# if any_ssc_controllable:\u001b[39;00m\n\u001b[32m    484\u001b[39m \u001b[38;5;66;03m#     Ybus_ssc = makeYbus_ssc(Ybus, ssc_y_pu, ssc_fb, ssc_tb, any_ssc)\u001b[39;00m\n\u001b[32m--> \u001b[39m\u001b[32m486\u001b[39m F = _evaluate_Fx(\u001b[43mYbus\u001b[49m\u001b[43m \u001b[49m\u001b[43m+\u001b[49m\u001b[43m \u001b[49m\u001b[43mYbus_svc\u001b[49m\u001b[43m \u001b[49m\u001b[43m+\u001b[49m\u001b[43m \u001b[49m\u001b[43mYbus_tcsc\u001b[49m\u001b[43m \u001b[49m\u001b[43m+\u001b[49m\u001b[43m \u001b[49m\u001b[43mYbus_ssc\u001b[49m + Ybus_vsc, V, Sbus, ref, pv, pq, slack_weights, dist_slack, slack)\n\u001b[32m    487\u001b[39m \u001b[38;5;28;01mif\u001b[39;00m any_facts_controllable \u001b[38;5;129;01mor\u001b[39;00m any_ssc_controllable \u001b[38;5;129;01mor\u001b[39;00m any_vsc_controllable:\n\u001b[32m    488\u001b[39m     mis_facts = _evaluate_Fx_facts(V, pq, svc_buses[svc_controllable], svc_set_vm_pu[svc_controllable],\n\u001b[32m    489\u001b[39m                                    tcsc_controllable, tcsc_set_p_pu, tcsc_tb, Ybus_tcsc,\n\u001b[32m    490\u001b[39m                                    ssc_fb[ssc_controllable], ssc_tb[ssc_controllable], Ybus_ssc,\n\u001b[32m   (...)\u001b[39m\u001b[32m    495\u001b[39m                                    V_dc, Ybus_hvdc, num_branch_dc, P_dc, dc_p, dc_ref, dc_b2b, dc_p_lookup,\n\u001b[32m    496\u001b[39m                                    dc_ref_lookup, dc_b2b_lookup, P_dc_sum_sl)\n",
      "\u001b[36mFile \u001b[39m\u001b[32mc:\\Users\\vitor\\AppData\\Local\\Programs\\Python\\Python312\\Lib\\site-packages\\scipy\\sparse\\_base.py:530\u001b[39m, in \u001b[36m_spbase.__add__\u001b[39m\u001b[34m(self, other)\u001b[39m\n\u001b[32m    528\u001b[39m     \u001b[38;5;28;01mif\u001b[39;00m other.shape != \u001b[38;5;28mself\u001b[39m.shape:\n\u001b[32m    529\u001b[39m         \u001b[38;5;28;01mraise\u001b[39;00m \u001b[38;5;167;01mValueError\u001b[39;00m(\u001b[33m\"\u001b[39m\u001b[33minconsistent shapes\u001b[39m\u001b[33m\"\u001b[39m)\n\u001b[32m--> \u001b[39m\u001b[32m530\u001b[39m     \u001b[38;5;28;01mreturn\u001b[39;00m \u001b[38;5;28;43mself\u001b[39;49m\u001b[43m.\u001b[49m\u001b[43m_add_sparse\u001b[49m\u001b[43m(\u001b[49m\u001b[43mother\u001b[49m\u001b[43m)\u001b[49m\n\u001b[32m    531\u001b[39m \u001b[38;5;28;01melif\u001b[39;00m isdense(other):\n\u001b[32m    532\u001b[39m     other = np.broadcast_to(other, \u001b[38;5;28mself\u001b[39m.shape)\n",
      "\u001b[36mFile \u001b[39m\u001b[32mc:\\Users\\vitor\\AppData\\Local\\Programs\\Python\\Python312\\Lib\\site-packages\\scipy\\sparse\\_compressed.py:357\u001b[39m, in \u001b[36m_cs_matrix._add_sparse\u001b[39m\u001b[34m(self, other)\u001b[39m\n\u001b[32m    356\u001b[39m \u001b[38;5;28;01mdef\u001b[39;00m\u001b[38;5;250m \u001b[39m\u001b[34m_add_sparse\u001b[39m(\u001b[38;5;28mself\u001b[39m, other):\n\u001b[32m--> \u001b[39m\u001b[32m357\u001b[39m     \u001b[38;5;28;01mreturn\u001b[39;00m \u001b[38;5;28;43mself\u001b[39;49m\u001b[43m.\u001b[49m\u001b[43m_binopt\u001b[49m\u001b[43m(\u001b[49m\u001b[43mother\u001b[49m\u001b[43m,\u001b[49m\u001b[43m \u001b[49m\u001b[33;43m'\u001b[39;49m\u001b[33;43m_plus_\u001b[39;49m\u001b[33;43m'\u001b[39;49m\u001b[43m)\u001b[49m\n",
      "\u001b[36mFile \u001b[39m\u001b[32mc:\\Users\\vitor\\AppData\\Local\\Programs\\Python\\Python312\\Lib\\site-packages\\scipy\\sparse\\_compressed.py:1312\u001b[39m, in \u001b[36m_cs_matrix._binopt\u001b[39m\u001b[34m(self, other, op)\u001b[39m\n\u001b[32m   1309\u001b[39m \u001b[38;5;28;01melse\u001b[39;00m:\n\u001b[32m   1310\u001b[39m     data = np.empty(maxnnz, dtype=upcast(\u001b[38;5;28mself\u001b[39m.dtype, other.dtype))\n\u001b[32m-> \u001b[39m\u001b[32m1312\u001b[39m \u001b[43mfn\u001b[49m\u001b[43m(\u001b[49m\u001b[38;5;28;43mself\u001b[39;49m\u001b[43m.\u001b[49m\u001b[43mshape\u001b[49m\u001b[43m[\u001b[49m\u001b[32;43m0\u001b[39;49m\u001b[43m]\u001b[49m\u001b[43m,\u001b[49m\u001b[43m \u001b[49m\u001b[38;5;28;43mself\u001b[39;49m\u001b[43m.\u001b[49m\u001b[43mshape\u001b[49m\u001b[43m[\u001b[49m\u001b[32;43m1\u001b[39;49m\u001b[43m]\u001b[49m\u001b[43m,\u001b[49m\n\u001b[32m   1313\u001b[39m \u001b[43m   \u001b[49m\u001b[43mnp\u001b[49m\u001b[43m.\u001b[49m\u001b[43masarray\u001b[49m\u001b[43m(\u001b[49m\u001b[38;5;28;43mself\u001b[39;49m\u001b[43m.\u001b[49m\u001b[43mindptr\u001b[49m\u001b[43m,\u001b[49m\u001b[43m \u001b[49m\u001b[43mdtype\u001b[49m\u001b[43m=\u001b[49m\u001b[43midx_dtype\u001b[49m\u001b[43m)\u001b[49m\u001b[43m,\u001b[49m\n\u001b[32m   1314\u001b[39m \u001b[43m   \u001b[49m\u001b[43mnp\u001b[49m\u001b[43m.\u001b[49m\u001b[43masarray\u001b[49m\u001b[43m(\u001b[49m\u001b[38;5;28;43mself\u001b[39;49m\u001b[43m.\u001b[49m\u001b[43mindices\u001b[49m\u001b[43m,\u001b[49m\u001b[43m \u001b[49m\u001b[43mdtype\u001b[49m\u001b[43m=\u001b[49m\u001b[43midx_dtype\u001b[49m\u001b[43m)\u001b[49m\u001b[43m,\u001b[49m\n\u001b[32m   1315\u001b[39m \u001b[43m   \u001b[49m\u001b[38;5;28;43mself\u001b[39;49m\u001b[43m.\u001b[49m\u001b[43mdata\u001b[49m\u001b[43m,\u001b[49m\n\u001b[32m   1316\u001b[39m \u001b[43m   \u001b[49m\u001b[43mnp\u001b[49m\u001b[43m.\u001b[49m\u001b[43masarray\u001b[49m\u001b[43m(\u001b[49m\u001b[43mother\u001b[49m\u001b[43m.\u001b[49m\u001b[43mindptr\u001b[49m\u001b[43m,\u001b[49m\u001b[43m \u001b[49m\u001b[43mdtype\u001b[49m\u001b[43m=\u001b[49m\u001b[43midx_dtype\u001b[49m\u001b[43m)\u001b[49m\u001b[43m,\u001b[49m\n\u001b[32m   1317\u001b[39m \u001b[43m   \u001b[49m\u001b[43mnp\u001b[49m\u001b[43m.\u001b[49m\u001b[43masarray\u001b[49m\u001b[43m(\u001b[49m\u001b[43mother\u001b[49m\u001b[43m.\u001b[49m\u001b[43mindices\u001b[49m\u001b[43m,\u001b[49m\u001b[43m \u001b[49m\u001b[43mdtype\u001b[49m\u001b[43m=\u001b[49m\u001b[43midx_dtype\u001b[49m\u001b[43m)\u001b[49m\u001b[43m,\u001b[49m\n\u001b[32m   1318\u001b[39m \u001b[43m   \u001b[49m\u001b[43mother\u001b[49m\u001b[43m.\u001b[49m\u001b[43mdata\u001b[49m\u001b[43m,\u001b[49m\n\u001b[32m   1319\u001b[39m \u001b[43m   \u001b[49m\u001b[43mindptr\u001b[49m\u001b[43m,\u001b[49m\u001b[43m \u001b[49m\u001b[43mindices\u001b[49m\u001b[43m,\u001b[49m\u001b[43m \u001b[49m\u001b[43mdata\u001b[49m\u001b[43m)\u001b[49m\n\u001b[32m   1321\u001b[39m A = \u001b[38;5;28mself\u001b[39m.\u001b[34m__class__\u001b[39m((data, indices, indptr), shape=\u001b[38;5;28mself\u001b[39m.shape)\n\u001b[32m   1322\u001b[39m A.prune()\n",
      "\u001b[31mKeyboardInterrupt\u001b[39m: "
     ]
    }
   ],
   "source": [
    "N = 1\n",
    "batch = list(range(5, len(loads_df)+1, 5))\n",
    "for b in batch:\n",
    "    success = 0\n",
    "    for i in range(N):\n",
    "        sample_loads = loads_df.sample(b)\n",
    "\n",
    "        net.asymmetric_load.drop(net.asymmetric_load.index, inplace=True)\n",
    "        load_map = {}\n",
    "        for _, row in sample_loads.iterrows():\n",
    "            # print(_, '->', row)\n",
    "            bus_id = math.floor(row['Bus'])\n",
    "            pa = qa = pb = qb = pc = qc = 0\n",
    "            if (bus_id in bus_map) & (row['phases'] in {'A', 'B', 'C'}):\n",
    "                if row['phases']=='A':\n",
    "                    pa = row['kW']\n",
    "                    qa = row['kW'] * np.tan(np.arccos(row['PF']))\n",
    "                elif row['phases']=='B':\n",
    "                    pb = row['kW']\n",
    "                    qb = row['kW'] * np.tan(np.arccos(row['PF']))\n",
    "                else: # row['phases']=='C'\n",
    "                    pc = row['kW']\n",
    "                    qc = row['kW'] * np.tan(np.arccos(row['PF']))\n",
    "                load = pp.create_asymmetric_load(\n",
    "                    net, bus=net.bus.index[net.bus.name==bus_id][0],\n",
    "                    p_a_mw=pa, q_a_mvar=qa,\n",
    "                    p_b_mw=pb, q_b_mvar=qb,\n",
    "                    p_c_mw=pc, q_c_mvar=qc,\n",
    "                    name=row['Name']\n",
    "                )\n",
    "                load_map[load] = row['Yearly']\n",
    "\n",
    "        if debug_result(net, init='flat'): success += 1\n",
    "    print(f\"[{b}]\\tConvergence rate = {100 * success / N} %\")"
   ]
  },
  {
   "cell_type": "code",
   "execution_count": null,
   "id": "bc4396fb",
   "metadata": {},
   "outputs": [
    {
     "data": {
      "text/plain": [
       "[]"
      ]
     },
     "execution_count": 20,
     "metadata": {},
     "output_type": "execute_result"
    }
   ],
   "source": [
    "# Load by load:\n",
    "load_problem = []\n",
    "\n",
    "for _, row in loads_df.iterrows():\n",
    "    net.asymmetric_load.drop(net.asymmetric_load.index, inplace=True)\n",
    "    \n",
    "    # print(_, '->', row)\n",
    "    bus_id = math.floor(row['Bus'])\n",
    "    pa = qa = pb = qb = pc = qc = 0\n",
    "    if (bus_id in bus_map) & (row['phases'] in {'A', 'B', 'C'}):\n",
    "        if row['phases']=='A':\n",
    "            pa = row['kW']\n",
    "            qa = row['kW'] * np.tan(np.arccos(row['PF']))\n",
    "        elif row['phases']=='B':\n",
    "            pb = row['kW']\n",
    "            qb = row['kW'] * np.tan(np.arccos(row['PF']))\n",
    "        else: # row['phases']=='C'\n",
    "            pc = row['kW']\n",
    "            qc = row['kW'] * np.tan(np.arccos(row['PF']))\n",
    "        load = pp.create_asymmetric_load(\n",
    "            net, bus=net.bus.index[net.bus.name==bus_id][0],\n",
    "            p_a_mw=pa / 1000, q_a_mvar=qa / 1000,\n",
    "            p_b_mw=pb / 1000, q_b_mvar=qb / 1000,\n",
    "            p_c_mw=pc / 1000, q_c_mvar=qc / 1000,\n",
    "            name=row['Name'] \n",
    "        )\n",
    "    if not debug_result(net, init='flat'): load_problem.append(row['Name'])\n",
    "\n",
    "load_problem"
   ]
  },
  {
   "cell_type": "code",
   "execution_count": 63,
   "id": "439a94cc",
   "metadata": {},
   "outputs": [],
   "source": [
    "# Create Loads\n",
    "loads_df = pd.read_excel(os.path.join(data_dir, \"Loads.xlsx\"), skiprows=2)\n",
    "# print(loads_df.head(10))\n",
    "\n",
    "net.asymmetric_load.drop(net.asymmetric_load.index, inplace=True)\n",
    "load_map = {}\n",
    "for _, row in loads_df.iterrows():\n",
    "    # print(_, '->', row)\n",
    "    bus_id = math.floor(row['Bus'])\n",
    "    pa = qa = pb = qb = pc = qc = 0\n",
    "    if (bus_id in bus_map) & (row['phases'] in {'A', 'B', 'C'}):\n",
    "        if row['phases']=='A':\n",
    "            pa = row['kW']\n",
    "            qa = row['kW'] * np.tan(np.arccos(row['PF']))\n",
    "        elif row['phases']=='B':\n",
    "            pb = row['kW']\n",
    "            qb = row['kW'] * np.tan(np.arccos(row['PF']))\n",
    "        else: # row['phases']=='C'\n",
    "            pc = row['kW']\n",
    "            qc = row['kW'] * np.tan(np.arccos(row['PF']))\n",
    "        load = pp.create_asymmetric_load(\n",
    "            net, bus=net.bus.index[net.bus.name==bus_id][0],\n",
    "            p_a_mw=pa / 1000, q_a_mvar=qa / 1000,\n",
    "            p_b_mw=pb / 1000, q_b_mvar=qb / 1000,\n",
    "            p_c_mw=pc / 1000, q_c_mvar=qc / 1000,\n",
    "            name=row['Name']\n",
    "        )\n",
    "        load_map[load] = row['Yearly']\n",
    "\n",
    "# export_results(\"full_network_results.xlsx\", net, init='flat', max_iteration=1000, tolerance_mva=1e-6)"
   ]
  },
  {
   "cell_type": "code",
   "execution_count": 64,
   "id": "045e11ba",
   "metadata": {},
   "outputs": [
    {
     "data": {
      "text/plain": [
       "This pandapower network includes the following parameter tables:\n",
       "   - bus (117 elements)\n",
       "   - asymmetric_load (55 elements)\n",
       "   - shunt (1 element)\n",
       "   - ext_grid (1 element)\n",
       "   - line (115 elements)\n",
       "   - trafo (2 elements)\n",
       "   - controller (1 element)\n",
       " and the following results tables:\n",
       "   - res_bus (117 elements)\n",
       "   - res_line (115 elements)\n",
       "   - res_trafo (2 elements)\n",
       "   - res_ext_grid (1 element)\n",
       "   - res_shunt (1 element)\n",
       "   - res_bus_3ph (117 elements)\n",
       "   - res_line_3ph (115 elements)\n",
       "   - res_trafo_3ph (2 elements)\n",
       "   - res_ext_grid_3ph (1 element)\n",
       "   - res_shunt_3ph (1 element)"
      ]
     },
     "execution_count": 64,
     "metadata": {},
     "output_type": "execute_result"
    }
   ],
   "source": [
    "net"
   ]
  },
  {
   "cell_type": "code",
   "execution_count": 66,
   "id": "b3ce9d4e",
   "metadata": {},
   "outputs": [
    {
     "ename": "LoadflowNotConverged",
     "evalue": "Power Flow nr did not converge after 1000 iterations!",
     "output_type": "error",
     "traceback": [
      "\u001b[31m---------------------------------------------------------------------------\u001b[39m",
      "\u001b[31mLoadflowNotConverged\u001b[39m                      Traceback (most recent call last)",
      "\u001b[36mCell\u001b[39m\u001b[36m \u001b[39m\u001b[32mIn[66]\u001b[39m\u001b[32m, line 1\u001b[39m\n\u001b[32m----> \u001b[39m\u001b[32m1\u001b[39m \u001b[43mpp\u001b[49m\u001b[43m.\u001b[49m\u001b[43mrunpp_3ph\u001b[49m\u001b[43m(\u001b[49m\u001b[43mnet\u001b[49m\u001b[43m,\u001b[49m\u001b[43m \u001b[49m\u001b[43mmax_iteration\u001b[49m\u001b[43m=\u001b[49m\u001b[32;43m1000\u001b[39;49m\u001b[43m)\u001b[49m\n",
      "\u001b[36mFile \u001b[39m\u001b[32mc:\\Users\\vitor\\AppData\\Local\\Programs\\Python\\Python312\\Lib\\site-packages\\pandapower\\pf\\runpp_3ph.py:573\u001b[39m, in \u001b[36mrunpp_3ph\u001b[39m\u001b[34m(net, calculate_voltage_angles, init, max_iteration, tolerance_mva, trafo_model, trafo_loading, enforce_q_lims, numba, recycle, check_connectivity, switch_rx_ratio, delta_q, v_debug, **kwargs)\u001b[39m\n\u001b[32m    571\u001b[39m     net[\u001b[33m\"\u001b[39m\u001b[33mconverged\u001b[39m\u001b[33m\"\u001b[39m] = \u001b[38;5;28;01mFalse\u001b[39;00m\n\u001b[32m    572\u001b[39m     _clean_up(net, res=\u001b[38;5;28;01mFalse\u001b[39;00m)\n\u001b[32m--> \u001b[39m\u001b[32m573\u001b[39m     \u001b[38;5;28;01mraise\u001b[39;00m LoadflowNotConverged(\u001b[33m\"\u001b[39m\u001b[33mPower Flow \u001b[39m\u001b[38;5;132;01m{0}\u001b[39;00m\u001b[33m did not converge after \u001b[39m\u001b[38;5;132;01m{1}\u001b[39;00m\u001b[33m iterations!\u001b[39m\u001b[33m\"\u001b[39m.format(\u001b[33m\"\u001b[39m\u001b[33mnr\u001b[39m\u001b[33m\"\u001b[39m, count))\n\u001b[32m    574\u001b[39m \u001b[38;5;28;01melse\u001b[39;00m:\n\u001b[32m    575\u001b[39m     net[\u001b[33m\"\u001b[39m\u001b[33mconverged\u001b[39m\u001b[33m\"\u001b[39m] = \u001b[38;5;28;01mTrue\u001b[39;00m\n",
      "\u001b[31mLoadflowNotConverged\u001b[39m: Power Flow nr did not converge after 1000 iterations!"
     ]
    }
   ],
   "source": [
    "pp.runpp_3ph(net, max_iteration=1000)"
   ]
  },
  {
   "cell_type": "markdown",
   "id": "ae87d2d8",
   "metadata": {},
   "source": [
    "Get maximum number of loads that converges"
   ]
  },
  {
   "cell_type": "code",
   "execution_count": null,
   "id": "3fd10b51",
   "metadata": {},
   "outputs": [
    {
     "name": "stderr",
     "output_type": "stream",
     "text": [
      "C:\\Users\\vitor\\AppData\\Local\\Packages\\PythonSoftwareFoundation.Python.3.10_qbz5n2kfra8p0\\LocalCache\\local-packages\\Python310\\site-packages\\pandapower\\pypower\\newtonpf.py:337: MatrixRankWarning: Matrix is exactly singular\n",
      "  dx = -1 * spsolve(J, F, permc_spec=permc_spec, use_umfpack=use_umfpack)\n",
      "C:\\Users\\vitor\\AppData\\Local\\Packages\\PythonSoftwareFoundation.Python.3.10_qbz5n2kfra8p0\\LocalCache\\local-packages\\Python310\\site-packages\\pandapower\\pf\\create_jacobian.py:28: RuntimeWarning: invalid value encountered in divide\n",
      "  dVm_x, dVa_x = dSbus_dV_numba_sparse(Ybus.data, Ybus.indptr, Ybus.indices, V, V / abs(V), Ibus)\n",
      "C:\\Users\\vitor\\AppData\\Local\\Packages\\PythonSoftwareFoundation.Python.3.10_qbz5n2kfra8p0\\LocalCache\\local-packages\\Python310\\site-packages\\pandapower\\pf\\runpp_3ph.py:478: RuntimeWarning: invalid value encountered in divide\n",
      "  i_abc_it_wye = (np.divide(s_abc_pu, v_abc_it)).conjugate()\n",
      "C:\\Users\\vitor\\AppData\\Local\\Packages\\PythonSoftwareFoundation.Python.3.10_qbz5n2kfra8p0\\LocalCache\\local-packages\\Python310\\site-packages\\pandapower\\pf\\runpp_3ph.py:479: RuntimeWarning: invalid value encountered in divide\n",
      "  i_abc_it_delta = np.matmul(i_del_xfmn, (np.divide(s_abc_delta_pu, np.matmul\n",
      "C:\\Users\\vitor\\AppData\\Local\\Packages\\PythonSoftwareFoundation.Python.3.10_qbz5n2kfra8p0\\LocalCache\\local-packages\\Python310\\site-packages\\pandapower\\results_bus.py:62: RuntimeWarning: invalid value encountered in divide\n",
      "  net[\"res_bus_3ph\"][\"unbalance_percent\"] = np.abs(V012_pu[2, :]/V012_pu[1, :])*100\n",
      "C:\\Users\\vitor\\AppData\\Local\\Packages\\PythonSoftwareFoundation.Python.3.10_qbz5n2kfra8p0\\LocalCache\\local-packages\\Python310\\site-packages\\pandapower\\auxiliary.py:1256: RuntimeWarning: invalid value encountered in divide\n",
      "  return np.conjugate(np.divide(S, V, out=np.zeros_like(S), where=V != 0))  # Return zero if div by zero\n",
      "C:\\Users\\vitor\\AppData\\Local\\Packages\\PythonSoftwareFoundation.Python.3.10_qbz5n2kfra8p0\\LocalCache\\local-packages\\Python310\\site-packages\\pandapower\\auxiliary.py:1256: RuntimeWarning: invalid value encountered in divide\n",
      "  return np.conjugate(np.divide(S, V, out=np.zeros_like(S), where=V != 0))  # Return zero if div by zero\n",
      "C:\\Users\\vitor\\AppData\\Local\\Packages\\PythonSoftwareFoundation.Python.3.10_qbz5n2kfra8p0\\LocalCache\\local-packages\\Python310\\site-packages\\pandapower\\pf\\create_jacobian.py:28: RuntimeWarning: invalid value encountered in divide\n",
      "  dVm_x, dVa_x = dSbus_dV_numba_sparse(Ybus.data, Ybus.indptr, Ybus.indices, V, V / abs(V), Ibus)\n",
      "C:\\Users\\vitor\\AppData\\Local\\Packages\\PythonSoftwareFoundation.Python.3.10_qbz5n2kfra8p0\\LocalCache\\local-packages\\Python310\\site-packages\\pandapower\\pypower\\newtonpf.py:337: MatrixRankWarning: Matrix is exactly singular\n",
      "  dx = -1 * spsolve(J, F, permc_spec=permc_spec, use_umfpack=use_umfpack)\n",
      "C:\\Users\\vitor\\AppData\\Local\\Packages\\PythonSoftwareFoundation.Python.3.10_qbz5n2kfra8p0\\LocalCache\\local-packages\\Python310\\site-packages\\pandapower\\pf\\runpp_3ph.py:478: RuntimeWarning: invalid value encountered in divide\n",
      "  i_abc_it_wye = (np.divide(s_abc_pu, v_abc_it)).conjugate()\n",
      "C:\\Users\\vitor\\AppData\\Local\\Packages\\PythonSoftwareFoundation.Python.3.10_qbz5n2kfra8p0\\LocalCache\\local-packages\\Python310\\site-packages\\pandapower\\pf\\runpp_3ph.py:479: RuntimeWarning: invalid value encountered in divide\n",
      "  i_abc_it_delta = np.matmul(i_del_xfmn, (np.divide(s_abc_delta_pu, np.matmul\n",
      "C:\\Users\\vitor\\AppData\\Local\\Packages\\PythonSoftwareFoundation.Python.3.10_qbz5n2kfra8p0\\LocalCache\\local-packages\\Python310\\site-packages\\pandapower\\results_bus.py:62: RuntimeWarning: invalid value encountered in divide\n",
      "  net[\"res_bus_3ph\"][\"unbalance_percent\"] = np.abs(V012_pu[2, :]/V012_pu[1, :])*100\n",
      "C:\\Users\\vitor\\AppData\\Local\\Packages\\PythonSoftwareFoundation.Python.3.10_qbz5n2kfra8p0\\LocalCache\\local-packages\\Python310\\site-packages\\pandapower\\auxiliary.py:1256: RuntimeWarning: invalid value encountered in divide\n",
      "  return np.conjugate(np.divide(S, V, out=np.zeros_like(S), where=V != 0))  # Return zero if div by zero\n",
      "C:\\Users\\vitor\\AppData\\Local\\Packages\\PythonSoftwareFoundation.Python.3.10_qbz5n2kfra8p0\\LocalCache\\local-packages\\Python310\\site-packages\\pandapower\\auxiliary.py:1256: RuntimeWarning: invalid value encountered in divide\n",
      "  return np.conjugate(np.divide(S, V, out=np.zeros_like(S), where=V != 0))  # Return zero if div by zero\n",
      "C:\\Users\\vitor\\AppData\\Local\\Packages\\PythonSoftwareFoundation.Python.3.10_qbz5n2kfra8p0\\LocalCache\\local-packages\\Python310\\site-packages\\pandapower\\pf\\create_jacobian.py:28: RuntimeWarning: overflow encountered in divide\n",
      "  dVm_x, dVa_x = dSbus_dV_numba_sparse(Ybus.data, Ybus.indptr, Ybus.indices, V, V / abs(V), Ibus)\n",
      "C:\\Users\\vitor\\AppData\\Local\\Packages\\PythonSoftwareFoundation.Python.3.10_qbz5n2kfra8p0\\LocalCache\\local-packages\\Python310\\site-packages\\pandapower\\pypower\\newtonpf.py:337: MatrixRankWarning: Matrix is exactly singular\n",
      "  dx = -1 * spsolve(J, F, permc_spec=permc_spec, use_umfpack=use_umfpack)\n",
      "C:\\Users\\vitor\\AppData\\Local\\Packages\\PythonSoftwareFoundation.Python.3.10_qbz5n2kfra8p0\\LocalCache\\local-packages\\Python310\\site-packages\\pandapower\\pf\\create_jacobian.py:28: RuntimeWarning: invalid value encountered in divide\n",
      "  dVm_x, dVa_x = dSbus_dV_numba_sparse(Ybus.data, Ybus.indptr, Ybus.indices, V, V / abs(V), Ibus)\n",
      "C:\\Users\\vitor\\AppData\\Local\\Packages\\PythonSoftwareFoundation.Python.3.10_qbz5n2kfra8p0\\LocalCache\\local-packages\\Python310\\site-packages\\pandapower\\pf\\runpp_3ph.py:478: RuntimeWarning: invalid value encountered in divide\n",
      "  i_abc_it_wye = (np.divide(s_abc_pu, v_abc_it)).conjugate()\n",
      "C:\\Users\\vitor\\AppData\\Local\\Packages\\PythonSoftwareFoundation.Python.3.10_qbz5n2kfra8p0\\LocalCache\\local-packages\\Python310\\site-packages\\pandapower\\pf\\runpp_3ph.py:479: RuntimeWarning: invalid value encountered in divide\n",
      "  i_abc_it_delta = np.matmul(i_del_xfmn, (np.divide(s_abc_delta_pu, np.matmul\n",
      "C:\\Users\\vitor\\AppData\\Local\\Packages\\PythonSoftwareFoundation.Python.3.10_qbz5n2kfra8p0\\LocalCache\\local-packages\\Python310\\site-packages\\pandapower\\results_bus.py:62: RuntimeWarning: invalid value encountered in divide\n",
      "  net[\"res_bus_3ph\"][\"unbalance_percent\"] = np.abs(V012_pu[2, :]/V012_pu[1, :])*100\n",
      "C:\\Users\\vitor\\AppData\\Local\\Packages\\PythonSoftwareFoundation.Python.3.10_qbz5n2kfra8p0\\LocalCache\\local-packages\\Python310\\site-packages\\pandapower\\auxiliary.py:1256: RuntimeWarning: invalid value encountered in divide\n",
      "  return np.conjugate(np.divide(S, V, out=np.zeros_like(S), where=V != 0))  # Return zero if div by zero\n",
      "C:\\Users\\vitor\\AppData\\Local\\Packages\\PythonSoftwareFoundation.Python.3.10_qbz5n2kfra8p0\\LocalCache\\local-packages\\Python310\\site-packages\\pandapower\\auxiliary.py:1256: RuntimeWarning: invalid value encountered in divide\n",
      "  return np.conjugate(np.divide(S, V, out=np.zeros_like(S), where=V != 0))  # Return zero if div by zero\n",
      "C:\\Users\\vitor\\AppData\\Local\\Packages\\PythonSoftwareFoundation.Python.3.10_qbz5n2kfra8p0\\LocalCache\\local-packages\\Python310\\site-packages\\pandapower\\pypower\\newtonpf.py:337: MatrixRankWarning: Matrix is exactly singular\n",
      "  dx = -1 * spsolve(J, F, permc_spec=permc_spec, use_umfpack=use_umfpack)\n",
      "C:\\Users\\vitor\\AppData\\Local\\Packages\\PythonSoftwareFoundation.Python.3.10_qbz5n2kfra8p0\\LocalCache\\local-packages\\Python310\\site-packages\\pandapower\\pf\\create_jacobian.py:28: RuntimeWarning: invalid value encountered in divide\n",
      "  dVm_x, dVa_x = dSbus_dV_numba_sparse(Ybus.data, Ybus.indptr, Ybus.indices, V, V / abs(V), Ibus)\n",
      "C:\\Users\\vitor\\AppData\\Local\\Packages\\PythonSoftwareFoundation.Python.3.10_qbz5n2kfra8p0\\LocalCache\\local-packages\\Python310\\site-packages\\pandapower\\pf\\runpp_3ph.py:478: RuntimeWarning: invalid value encountered in divide\n",
      "  i_abc_it_wye = (np.divide(s_abc_pu, v_abc_it)).conjugate()\n",
      "C:\\Users\\vitor\\AppData\\Local\\Packages\\PythonSoftwareFoundation.Python.3.10_qbz5n2kfra8p0\\LocalCache\\local-packages\\Python310\\site-packages\\pandapower\\pf\\runpp_3ph.py:479: RuntimeWarning: invalid value encountered in divide\n",
      "  i_abc_it_delta = np.matmul(i_del_xfmn, (np.divide(s_abc_delta_pu, np.matmul\n",
      "C:\\Users\\vitor\\AppData\\Local\\Packages\\PythonSoftwareFoundation.Python.3.10_qbz5n2kfra8p0\\LocalCache\\local-packages\\Python310\\site-packages\\pandapower\\results_bus.py:62: RuntimeWarning: invalid value encountered in divide\n",
      "  net[\"res_bus_3ph\"][\"unbalance_percent\"] = np.abs(V012_pu[2, :]/V012_pu[1, :])*100\n",
      "C:\\Users\\vitor\\AppData\\Local\\Packages\\PythonSoftwareFoundation.Python.3.10_qbz5n2kfra8p0\\LocalCache\\local-packages\\Python310\\site-packages\\pandapower\\auxiliary.py:1256: RuntimeWarning: invalid value encountered in divide\n",
      "  return np.conjugate(np.divide(S, V, out=np.zeros_like(S), where=V != 0))  # Return zero if div by zero\n",
      "C:\\Users\\vitor\\AppData\\Local\\Packages\\PythonSoftwareFoundation.Python.3.10_qbz5n2kfra8p0\\LocalCache\\local-packages\\Python310\\site-packages\\pandapower\\auxiliary.py:1256: RuntimeWarning: invalid value encountered in divide\n",
      "  return np.conjugate(np.divide(S, V, out=np.zeros_like(S), where=V != 0))  # Return zero if div by zero\n",
      "C:\\Users\\vitor\\AppData\\Local\\Packages\\PythonSoftwareFoundation.Python.3.10_qbz5n2kfra8p0\\LocalCache\\local-packages\\Python310\\site-packages\\pandapower\\pypower\\newtonpf.py:337: MatrixRankWarning: Matrix is exactly singular\n",
      "  dx = -1 * spsolve(J, F, permc_spec=permc_spec, use_umfpack=use_umfpack)\n",
      "C:\\Users\\vitor\\AppData\\Local\\Packages\\PythonSoftwareFoundation.Python.3.10_qbz5n2kfra8p0\\LocalCache\\local-packages\\Python310\\site-packages\\pandapower\\pf\\create_jacobian.py:28: RuntimeWarning: invalid value encountered in divide\n",
      "  dVm_x, dVa_x = dSbus_dV_numba_sparse(Ybus.data, Ybus.indptr, Ybus.indices, V, V / abs(V), Ibus)\n",
      "C:\\Users\\vitor\\AppData\\Local\\Packages\\PythonSoftwareFoundation.Python.3.10_qbz5n2kfra8p0\\LocalCache\\local-packages\\Python310\\site-packages\\pandapower\\pf\\runpp_3ph.py:478: RuntimeWarning: invalid value encountered in divide\n",
      "  i_abc_it_wye = (np.divide(s_abc_pu, v_abc_it)).conjugate()\n",
      "C:\\Users\\vitor\\AppData\\Local\\Packages\\PythonSoftwareFoundation.Python.3.10_qbz5n2kfra8p0\\LocalCache\\local-packages\\Python310\\site-packages\\pandapower\\pf\\runpp_3ph.py:479: RuntimeWarning: invalid value encountered in divide\n",
      "  i_abc_it_delta = np.matmul(i_del_xfmn, (np.divide(s_abc_delta_pu, np.matmul\n",
      "C:\\Users\\vitor\\AppData\\Local\\Packages\\PythonSoftwareFoundation.Python.3.10_qbz5n2kfra8p0\\LocalCache\\local-packages\\Python310\\site-packages\\pandapower\\results_bus.py:62: RuntimeWarning: invalid value encountered in divide\n",
      "  net[\"res_bus_3ph\"][\"unbalance_percent\"] = np.abs(V012_pu[2, :]/V012_pu[1, :])*100\n",
      "C:\\Users\\vitor\\AppData\\Local\\Packages\\PythonSoftwareFoundation.Python.3.10_qbz5n2kfra8p0\\LocalCache\\local-packages\\Python310\\site-packages\\pandapower\\auxiliary.py:1256: RuntimeWarning: invalid value encountered in divide\n",
      "  return np.conjugate(np.divide(S, V, out=np.zeros_like(S), where=V != 0))  # Return zero if div by zero\n",
      "C:\\Users\\vitor\\AppData\\Local\\Packages\\PythonSoftwareFoundation.Python.3.10_qbz5n2kfra8p0\\LocalCache\\local-packages\\Python310\\site-packages\\pandapower\\auxiliary.py:1256: RuntimeWarning: invalid value encountered in divide\n",
      "  return np.conjugate(np.divide(S, V, out=np.zeros_like(S), where=V != 0))  # Return zero if div by zero\n",
      "C:\\Users\\vitor\\AppData\\Local\\Packages\\PythonSoftwareFoundation.Python.3.10_qbz5n2kfra8p0\\LocalCache\\local-packages\\Python310\\site-packages\\pandapower\\pypower\\newtonpf.py:337: MatrixRankWarning: Matrix is exactly singular\n",
      "  dx = -1 * spsolve(J, F, permc_spec=permc_spec, use_umfpack=use_umfpack)\n",
      "C:\\Users\\vitor\\AppData\\Local\\Packages\\PythonSoftwareFoundation.Python.3.10_qbz5n2kfra8p0\\LocalCache\\local-packages\\Python310\\site-packages\\pandapower\\pf\\create_jacobian.py:28: RuntimeWarning: invalid value encountered in divide\n",
      "  dVm_x, dVa_x = dSbus_dV_numba_sparse(Ybus.data, Ybus.indptr, Ybus.indices, V, V / abs(V), Ibus)\n",
      "C:\\Users\\vitor\\AppData\\Local\\Packages\\PythonSoftwareFoundation.Python.3.10_qbz5n2kfra8p0\\LocalCache\\local-packages\\Python310\\site-packages\\pandapower\\pf\\runpp_3ph.py:478: RuntimeWarning: invalid value encountered in divide\n",
      "  i_abc_it_wye = (np.divide(s_abc_pu, v_abc_it)).conjugate()\n",
      "C:\\Users\\vitor\\AppData\\Local\\Packages\\PythonSoftwareFoundation.Python.3.10_qbz5n2kfra8p0\\LocalCache\\local-packages\\Python310\\site-packages\\pandapower\\pf\\runpp_3ph.py:479: RuntimeWarning: invalid value encountered in divide\n",
      "  i_abc_it_delta = np.matmul(i_del_xfmn, (np.divide(s_abc_delta_pu, np.matmul\n",
      "C:\\Users\\vitor\\AppData\\Local\\Packages\\PythonSoftwareFoundation.Python.3.10_qbz5n2kfra8p0\\LocalCache\\local-packages\\Python310\\site-packages\\pandapower\\results_bus.py:62: RuntimeWarning: invalid value encountered in divide\n",
      "  net[\"res_bus_3ph\"][\"unbalance_percent\"] = np.abs(V012_pu[2, :]/V012_pu[1, :])*100\n",
      "C:\\Users\\vitor\\AppData\\Local\\Packages\\PythonSoftwareFoundation.Python.3.10_qbz5n2kfra8p0\\LocalCache\\local-packages\\Python310\\site-packages\\pandapower\\auxiliary.py:1256: RuntimeWarning: invalid value encountered in divide\n",
      "  return np.conjugate(np.divide(S, V, out=np.zeros_like(S), where=V != 0))  # Return zero if div by zero\n",
      "C:\\Users\\vitor\\AppData\\Local\\Packages\\PythonSoftwareFoundation.Python.3.10_qbz5n2kfra8p0\\LocalCache\\local-packages\\Python310\\site-packages\\pandapower\\auxiliary.py:1256: RuntimeWarning: invalid value encountered in divide\n",
      "  return np.conjugate(np.divide(S, V, out=np.zeros_like(S), where=V != 0))  # Return zero if div by zero\n",
      "C:\\Users\\vitor\\AppData\\Local\\Packages\\PythonSoftwareFoundation.Python.3.10_qbz5n2kfra8p0\\LocalCache\\local-packages\\Python310\\site-packages\\pandapower\\pypower\\newtonpf.py:337: MatrixRankWarning: Matrix is exactly singular\n",
      "  dx = -1 * spsolve(J, F, permc_spec=permc_spec, use_umfpack=use_umfpack)\n",
      "C:\\Users\\vitor\\AppData\\Local\\Packages\\PythonSoftwareFoundation.Python.3.10_qbz5n2kfra8p0\\LocalCache\\local-packages\\Python310\\site-packages\\pandapower\\pf\\create_jacobian.py:28: RuntimeWarning: invalid value encountered in divide\n",
      "  dVm_x, dVa_x = dSbus_dV_numba_sparse(Ybus.data, Ybus.indptr, Ybus.indices, V, V / abs(V), Ibus)\n",
      "C:\\Users\\vitor\\AppData\\Local\\Packages\\PythonSoftwareFoundation.Python.3.10_qbz5n2kfra8p0\\LocalCache\\local-packages\\Python310\\site-packages\\pandapower\\pf\\runpp_3ph.py:478: RuntimeWarning: invalid value encountered in divide\n",
      "  i_abc_it_wye = (np.divide(s_abc_pu, v_abc_it)).conjugate()\n",
      "C:\\Users\\vitor\\AppData\\Local\\Packages\\PythonSoftwareFoundation.Python.3.10_qbz5n2kfra8p0\\LocalCache\\local-packages\\Python310\\site-packages\\pandapower\\pf\\runpp_3ph.py:479: RuntimeWarning: invalid value encountered in divide\n",
      "  i_abc_it_delta = np.matmul(i_del_xfmn, (np.divide(s_abc_delta_pu, np.matmul\n",
      "C:\\Users\\vitor\\AppData\\Local\\Packages\\PythonSoftwareFoundation.Python.3.10_qbz5n2kfra8p0\\LocalCache\\local-packages\\Python310\\site-packages\\pandapower\\results_bus.py:62: RuntimeWarning: invalid value encountered in divide\n",
      "  net[\"res_bus_3ph\"][\"unbalance_percent\"] = np.abs(V012_pu[2, :]/V012_pu[1, :])*100\n",
      "C:\\Users\\vitor\\AppData\\Local\\Packages\\PythonSoftwareFoundation.Python.3.10_qbz5n2kfra8p0\\LocalCache\\local-packages\\Python310\\site-packages\\pandapower\\auxiliary.py:1256: RuntimeWarning: invalid value encountered in divide\n",
      "  return np.conjugate(np.divide(S, V, out=np.zeros_like(S), where=V != 0))  # Return zero if div by zero\n",
      "C:\\Users\\vitor\\AppData\\Local\\Packages\\PythonSoftwareFoundation.Python.3.10_qbz5n2kfra8p0\\LocalCache\\local-packages\\Python310\\site-packages\\pandapower\\auxiliary.py:1256: RuntimeWarning: invalid value encountered in divide\n",
      "  return np.conjugate(np.divide(S, V, out=np.zeros_like(S), where=V != 0))  # Return zero if div by zero\n",
      "C:\\Users\\vitor\\AppData\\Local\\Packages\\PythonSoftwareFoundation.Python.3.10_qbz5n2kfra8p0\\LocalCache\\local-packages\\Python310\\site-packages\\pandapower\\pypower\\newtonpf.py:337: MatrixRankWarning: Matrix is exactly singular\n",
      "  dx = -1 * spsolve(J, F, permc_spec=permc_spec, use_umfpack=use_umfpack)\n",
      "C:\\Users\\vitor\\AppData\\Local\\Packages\\PythonSoftwareFoundation.Python.3.10_qbz5n2kfra8p0\\LocalCache\\local-packages\\Python310\\site-packages\\pandapower\\pf\\runpp_3ph.py:478: RuntimeWarning: invalid value encountered in divide\n",
      "  i_abc_it_wye = (np.divide(s_abc_pu, v_abc_it)).conjugate()\n",
      "C:\\Users\\vitor\\AppData\\Local\\Packages\\PythonSoftwareFoundation.Python.3.10_qbz5n2kfra8p0\\LocalCache\\local-packages\\Python310\\site-packages\\pandapower\\pf\\runpp_3ph.py:479: RuntimeWarning: invalid value encountered in divide\n",
      "  i_abc_it_delta = np.matmul(i_del_xfmn, (np.divide(s_abc_delta_pu, np.matmul\n",
      "C:\\Users\\vitor\\AppData\\Local\\Packages\\PythonSoftwareFoundation.Python.3.10_qbz5n2kfra8p0\\LocalCache\\local-packages\\Python310\\site-packages\\pandapower\\pf\\create_jacobian.py:28: RuntimeWarning: invalid value encountered in divide\n",
      "  dVm_x, dVa_x = dSbus_dV_numba_sparse(Ybus.data, Ybus.indptr, Ybus.indices, V, V / abs(V), Ibus)\n",
      "C:\\Users\\vitor\\AppData\\Local\\Packages\\PythonSoftwareFoundation.Python.3.10_qbz5n2kfra8p0\\LocalCache\\local-packages\\Python310\\site-packages\\pandapower\\results_bus.py:62: RuntimeWarning: invalid value encountered in divide\n",
      "  net[\"res_bus_3ph\"][\"unbalance_percent\"] = np.abs(V012_pu[2, :]/V012_pu[1, :])*100\n",
      "C:\\Users\\vitor\\AppData\\Local\\Packages\\PythonSoftwareFoundation.Python.3.10_qbz5n2kfra8p0\\LocalCache\\local-packages\\Python310\\site-packages\\pandapower\\auxiliary.py:1256: RuntimeWarning: invalid value encountered in divide\n",
      "  return np.conjugate(np.divide(S, V, out=np.zeros_like(S), where=V != 0))  # Return zero if div by zero\n",
      "C:\\Users\\vitor\\AppData\\Local\\Packages\\PythonSoftwareFoundation.Python.3.10_qbz5n2kfra8p0\\LocalCache\\local-packages\\Python310\\site-packages\\pandapower\\auxiliary.py:1256: RuntimeWarning: invalid value encountered in divide\n",
      "  return np.conjugate(np.divide(S, V, out=np.zeros_like(S), where=V != 0))  # Return zero if div by zero\n",
      "C:\\Users\\vitor\\AppData\\Local\\Packages\\PythonSoftwareFoundation.Python.3.10_qbz5n2kfra8p0\\LocalCache\\local-packages\\Python310\\site-packages\\pandapower\\pypower\\newtonpf.py:337: MatrixRankWarning: Matrix is exactly singular\n",
      "  dx = -1 * spsolve(J, F, permc_spec=permc_spec, use_umfpack=use_umfpack)\n",
      "C:\\Users\\vitor\\AppData\\Local\\Packages\\PythonSoftwareFoundation.Python.3.10_qbz5n2kfra8p0\\LocalCache\\local-packages\\Python310\\site-packages\\pandapower\\pf\\create_jacobian.py:28: RuntimeWarning: invalid value encountered in divide\n",
      "  dVm_x, dVa_x = dSbus_dV_numba_sparse(Ybus.data, Ybus.indptr, Ybus.indices, V, V / abs(V), Ibus)\n",
      "C:\\Users\\vitor\\AppData\\Local\\Packages\\PythonSoftwareFoundation.Python.3.10_qbz5n2kfra8p0\\LocalCache\\local-packages\\Python310\\site-packages\\pandapower\\pf\\runpp_3ph.py:478: RuntimeWarning: invalid value encountered in divide\n",
      "  i_abc_it_wye = (np.divide(s_abc_pu, v_abc_it)).conjugate()\n",
      "C:\\Users\\vitor\\AppData\\Local\\Packages\\PythonSoftwareFoundation.Python.3.10_qbz5n2kfra8p0\\LocalCache\\local-packages\\Python310\\site-packages\\pandapower\\pf\\runpp_3ph.py:479: RuntimeWarning: invalid value encountered in divide\n",
      "  i_abc_it_delta = np.matmul(i_del_xfmn, (np.divide(s_abc_delta_pu, np.matmul\n",
      "C:\\Users\\vitor\\AppData\\Local\\Packages\\PythonSoftwareFoundation.Python.3.10_qbz5n2kfra8p0\\LocalCache\\local-packages\\Python310\\site-packages\\pandapower\\results_bus.py:62: RuntimeWarning: invalid value encountered in divide\n",
      "  net[\"res_bus_3ph\"][\"unbalance_percent\"] = np.abs(V012_pu[2, :]/V012_pu[1, :])*100\n",
      "C:\\Users\\vitor\\AppData\\Local\\Packages\\PythonSoftwareFoundation.Python.3.10_qbz5n2kfra8p0\\LocalCache\\local-packages\\Python310\\site-packages\\pandapower\\auxiliary.py:1256: RuntimeWarning: invalid value encountered in divide\n",
      "  return np.conjugate(np.divide(S, V, out=np.zeros_like(S), where=V != 0))  # Return zero if div by zero\n",
      "C:\\Users\\vitor\\AppData\\Local\\Packages\\PythonSoftwareFoundation.Python.3.10_qbz5n2kfra8p0\\LocalCache\\local-packages\\Python310\\site-packages\\pandapower\\auxiliary.py:1256: RuntimeWarning: invalid value encountered in divide\n",
      "  return np.conjugate(np.divide(S, V, out=np.zeros_like(S), where=V != 0))  # Return zero if div by zero\n"
     ]
    },
    {
     "ename": "KeyboardInterrupt",
     "evalue": "",
     "output_type": "error",
     "traceback": [
      "\u001b[1;31m---------------------------------------------------------------------------\u001b[0m",
      "\u001b[1;31mKeyboardInterrupt\u001b[0m                         Traceback (most recent call last)",
      "Cell \u001b[1;32mIn[22], line 34\u001b[0m\n\u001b[0;32m     25\u001b[0m             qc \u001b[38;5;241m=\u001b[39m row[\u001b[38;5;124m'\u001b[39m\u001b[38;5;124mkW\u001b[39m\u001b[38;5;124m'\u001b[39m] \u001b[38;5;241m*\u001b[39m np\u001b[38;5;241m.\u001b[39mtan(np\u001b[38;5;241m.\u001b[39marccos(row[\u001b[38;5;124m'\u001b[39m\u001b[38;5;124mPF\u001b[39m\u001b[38;5;124m'\u001b[39m]))\n\u001b[0;32m     26\u001b[0m         load \u001b[38;5;241m=\u001b[39m pp\u001b[38;5;241m.\u001b[39mcreate_asymmetric_load(\n\u001b[0;32m     27\u001b[0m             net, bus\u001b[38;5;241m=\u001b[39mbus_map[bus_id],\n\u001b[0;32m     28\u001b[0m             p_a_mw\u001b[38;5;241m=\u001b[39mpa, q_a_mvar\u001b[38;5;241m=\u001b[39mqa,\n\u001b[1;32m   (...)\u001b[0m\n\u001b[0;32m     31\u001b[0m             name\u001b[38;5;241m=\u001b[39mrow[\u001b[38;5;124m'\u001b[39m\u001b[38;5;124mName\u001b[39m\u001b[38;5;124m'\u001b[39m]\n\u001b[0;32m     32\u001b[0m         )\n\u001b[1;32m---> 34\u001b[0m \u001b[38;5;28;01mif\u001b[39;00m \u001b[43mdebug_result\u001b[49m\u001b[43m(\u001b[49m\u001b[43mnet\u001b[49m\u001b[43m,\u001b[49m\u001b[43m \u001b[49m\u001b[43minit\u001b[49m\u001b[38;5;241;43m=\u001b[39;49m\u001b[38;5;124;43m'\u001b[39;49m\u001b[38;5;124;43mflat\u001b[39;49m\u001b[38;5;124;43m'\u001b[39;49m\u001b[43m)\u001b[49m:\n\u001b[0;32m     35\u001b[0m     \u001b[38;5;66;03m# batch_loads[b] = list(net.asymmetric_load['name'])\u001b[39;00m\n\u001b[0;32m     36\u001b[0m     \u001b[38;5;66;03m# batch_bus[b] = list(net.asymmetric_load['bus'])\u001b[39;00m\n\u001b[0;32m     37\u001b[0m     max_batch \u001b[38;5;241m=\u001b[39m b\n\u001b[0;32m     38\u001b[0m     \u001b[38;5;28;01mbreak\u001b[39;00m\n",
      "Cell \u001b[1;32mIn[15], line 34\u001b[0m, in \u001b[0;36mdebug_result\u001b[1;34m(net, init, max_iteration, tolerance_mva)\u001b[0m\n\u001b[0;32m     32\u001b[0m \u001b[38;5;28;01mdef\u001b[39;00m \u001b[38;5;21mdebug_result\u001b[39m(net, init\u001b[38;5;241m=\u001b[39m\u001b[38;5;124m'\u001b[39m\u001b[38;5;124mauto\u001b[39m\u001b[38;5;124m'\u001b[39m, max_iteration\u001b[38;5;241m=\u001b[39m\u001b[38;5;241m100\u001b[39m, tolerance_mva\u001b[38;5;241m=\u001b[39m\u001b[38;5;241m1e-8\u001b[39m):\n\u001b[0;32m     33\u001b[0m     \u001b[38;5;28;01mtry\u001b[39;00m:\n\u001b[1;32m---> 34\u001b[0m         \u001b[43mpp\u001b[49m\u001b[38;5;241;43m.\u001b[39;49m\u001b[43mrunpp_3ph\u001b[49m\u001b[43m(\u001b[49m\n\u001b[0;32m     35\u001b[0m \u001b[43m            \u001b[49m\u001b[43mnet\u001b[49m\u001b[43m,\u001b[49m\u001b[43m \u001b[49m\u001b[43minit\u001b[49m\u001b[38;5;241;43m=\u001b[39;49m\u001b[43minit\u001b[49m\u001b[43m,\u001b[49m\n\u001b[0;32m     36\u001b[0m \u001b[43m            \u001b[49m\u001b[43mmax_iteration\u001b[49m\u001b[38;5;241;43m=\u001b[39;49m\u001b[43mmax_iteration\u001b[49m\u001b[43m,\u001b[49m\n\u001b[0;32m     37\u001b[0m \u001b[43m            \u001b[49m\u001b[43mtolerance_mva\u001b[49m\u001b[38;5;241;43m=\u001b[39;49m\u001b[43mtolerance_mva\u001b[49m\u001b[43m,\u001b[49m\n\u001b[0;32m     38\u001b[0m \u001b[43m            \u001b[49m\u001b[43mcalc_voltage_angles\u001b[49m\u001b[38;5;241;43m=\u001b[39;49m\u001b[38;5;28;43;01mTrue\u001b[39;49;00m\u001b[43m,\u001b[49m\n\u001b[0;32m     39\u001b[0m \u001b[43m            \u001b[49m\u001b[43mv_debug\u001b[49m\u001b[38;5;241;43m=\u001b[39;49m\u001b[38;5;28;43;01mTrue\u001b[39;49;00m\n\u001b[0;32m     40\u001b[0m \u001b[43m        \u001b[49m\u001b[43m)\u001b[49m\n\u001b[0;32m     41\u001b[0m     \u001b[38;5;28;01mexcept\u001b[39;00m \u001b[38;5;167;01mException\u001b[39;00m \u001b[38;5;28;01mas\u001b[39;00m e:\n\u001b[0;32m     42\u001b[0m         \u001b[38;5;28;01mreturn\u001b[39;00m \u001b[38;5;28;01mFalse\u001b[39;00m\n",
      "File \u001b[1;32m~\\AppData\\Local\\Packages\\PythonSoftwareFoundation.Python.3.10_qbz5n2kfra8p0\\LocalCache\\local-packages\\Python310\\site-packages\\pandapower\\pf\\runpp_3ph.py:502\u001b[0m, in \u001b[0;36mrunpp_3ph\u001b[1;34m(net, calculate_voltage_angles, init, max_iteration, tolerance_mva, trafo_model, trafo_loading, enforce_q_lims, numba, recycle, check_connectivity, switch_rx_ratio, delta_q, v_debug, **kwargs)\u001b[0m\n\u001b[0;32m    498\u001b[0m ppci1[\u001b[38;5;124m\"\u001b[39m\u001b[38;5;124mbus\u001b[39m\u001b[38;5;124m\"\u001b[39m][pq_bus, QD] \u001b[38;5;241m=\u001b[39m np\u001b[38;5;241m.\u001b[39mimag(s1[pq_bus]) \u001b[38;5;241m*\u001b[39m ppci1[\u001b[38;5;124m\"\u001b[39m\u001b[38;5;124mbaseMVA\u001b[39m\u001b[38;5;124m\"\u001b[39m]\n\u001b[0;32m    499\u001b[0m \u001b[38;5;66;03m# =============================================================================\u001b[39;00m\n\u001b[0;32m    500\u001b[0m \u001b[38;5;66;03m# Conduct Positive sequence power flow\u001b[39;00m\n\u001b[0;32m    501\u001b[0m \u001b[38;5;66;03m# =============================================================================\u001b[39;00m\n\u001b[1;32m--> 502\u001b[0m \u001b[43m_run_newton_raphson_pf\u001b[49m\u001b[43m(\u001b[49m\u001b[43mppci1\u001b[49m\u001b[43m,\u001b[49m\u001b[43m \u001b[49m\u001b[43mnet\u001b[49m\u001b[38;5;241;43m.\u001b[39;49m\u001b[43m_options\u001b[49m\u001b[43m)\u001b[49m\n\u001b[0;32m    503\u001b[0m \u001b[38;5;66;03m# =============================================================================\u001b[39;00m\n\u001b[0;32m    504\u001b[0m \u001b[38;5;66;03m# Conduct Negative and Zero sequence power flow\u001b[39;00m\n\u001b[0;32m    505\u001b[0m \u001b[38;5;66;03m# =============================================================================\u001b[39;00m\n\u001b[0;32m    506\u001b[0m v0_pu_it \u001b[38;5;241m=\u001b[39m V_from_I(y_0_pu, i0_pu_it)\n",
      "File \u001b[1;32m~\\AppData\\Local\\Packages\\PythonSoftwareFoundation.Python.3.10_qbz5n2kfra8p0\\LocalCache\\local-packages\\Python310\\site-packages\\pandapower\\pf\\run_newton_raphson_pf.py:61\u001b[0m, in \u001b[0;36m_run_newton_raphson_pf\u001b[1;34m(ppci, options)\u001b[0m\n\u001b[0;32m     59\u001b[0m     ppci, success, iterations, bus, gen, branch \u001b[38;5;241m=\u001b[39m _run_ac_pf_with_qlims_enforced(ppci, options)\n\u001b[0;32m     60\u001b[0m \u001b[38;5;28;01melse\u001b[39;00m:\n\u001b[1;32m---> 61\u001b[0m     ppci, success, iterations \u001b[38;5;241m=\u001b[39m \u001b[43m_run_ac_pf_without_qlims_enforced\u001b[49m\u001b[43m(\u001b[49m\u001b[43mppci\u001b[49m\u001b[43m,\u001b[49m\u001b[43m \u001b[49m\u001b[43moptions\u001b[49m\u001b[43m)\u001b[49m\n\u001b[0;32m     62\u001b[0m     \u001b[38;5;66;03m# update data matrices with solution store in ppci\u001b[39;00m\n\u001b[0;32m     63\u001b[0m     bus, gen, branch \u001b[38;5;241m=\u001b[39m ppci_to_pfsoln(ppci, options)\n",
      "File \u001b[1;32m~\\AppData\\Local\\Packages\\PythonSoftwareFoundation.Python.3.10_qbz5n2kfra8p0\\LocalCache\\local-packages\\Python310\\site-packages\\pandapower\\pf\\run_newton_raphson_pf.py:171\u001b[0m, in \u001b[0;36m_run_ac_pf_without_qlims_enforced\u001b[1;34m(ppci, options)\u001b[0m\n\u001b[0;32m    169\u001b[0m     r_theta_kelvin_per_mw \u001b[38;5;241m=\u001b[39m \u001b[38;5;28;01mNone\u001b[39;00m\n\u001b[0;32m    170\u001b[0m \u001b[38;5;28;01melse\u001b[39;00m:\n\u001b[1;32m--> 171\u001b[0m     V, success, iterations, J, Vm_it, Va_it, r_theta_kelvin_per_mw, T \u001b[38;5;241m=\u001b[39m \u001b[43mnewtonpf\u001b[49m\u001b[43m(\u001b[49m\u001b[43mYbus\u001b[49m\u001b[43m,\u001b[49m\u001b[43m \u001b[49m\u001b[43mSbus\u001b[49m\u001b[43m,\u001b[49m\u001b[43m \u001b[49m\u001b[43mV0\u001b[49m\u001b[43m,\u001b[49m\u001b[43m \u001b[49m\u001b[43mref\u001b[49m\u001b[43m,\u001b[49m\u001b[43m \u001b[49m\u001b[43mpv\u001b[49m\u001b[43m,\u001b[49m\u001b[43m \u001b[49m\u001b[43mpq\u001b[49m\u001b[43m,\u001b[49m\u001b[43m \u001b[49m\u001b[43mppci\u001b[49m\u001b[43m,\u001b[49m\u001b[43m \u001b[49m\u001b[43moptions\u001b[49m\u001b[43m,\u001b[49m\u001b[43m \u001b[49m\u001b[43mmakeYbus\u001b[49m\u001b[43m)\u001b[49m\n\u001b[0;32m    172\u001b[0m     \u001b[38;5;66;03m# due to TPDF, SVC, TCSC, the Ybus matrices can be updated in the newtonpf and stored in ppci[\"internal\"],\u001b[39;00m\n\u001b[0;32m    173\u001b[0m     \u001b[38;5;66;03m# so we extract them here for later use:\u001b[39;00m\n\u001b[0;32m    174\u001b[0m     Ybus, Ybus_svc, Ybus_tcsc, Ybus_ssc \u001b[38;5;241m=\u001b[39m (ppci[\u001b[38;5;124m\"\u001b[39m\u001b[38;5;124minternal\u001b[39m\u001b[38;5;124m\"\u001b[39m]\u001b[38;5;241m.\u001b[39mget(key) \u001b[38;5;28;01mfor\u001b[39;00m key \u001b[38;5;129;01min\u001b[39;00m (\u001b[38;5;124m\"\u001b[39m\u001b[38;5;124mYbus\u001b[39m\u001b[38;5;124m\"\u001b[39m, \u001b[38;5;124m\"\u001b[39m\u001b[38;5;124mYbus_svc\u001b[39m\u001b[38;5;124m\"\u001b[39m, \u001b[38;5;124m\"\u001b[39m\u001b[38;5;124mYbus_tcsc\u001b[39m\u001b[38;5;124m\"\u001b[39m, \u001b[38;5;124m\"\u001b[39m\u001b[38;5;124mYbus_ssc\u001b[39m\u001b[38;5;124m\"\u001b[39m))\n",
      "File \u001b[1;32m~\\AppData\\Local\\Packages\\PythonSoftwareFoundation.Python.3.10_qbz5n2kfra8p0\\LocalCache\\local-packages\\Python310\\site-packages\\pandapower\\pypower\\newtonpf.py:308\u001b[0m, in \u001b[0;36mnewtonpf\u001b[1;34m(Ybus, Sbus, V0, ref, pv, pq, ppci, options, makeYbus)\u001b[0m\n\u001b[0;32m    305\u001b[0m     g, b \u001b[38;5;241m=\u001b[39m calc_g_b(r, x)\n\u001b[0;32m    307\u001b[0m \u001b[38;5;66;03m# todo: adjust the SSC J function to take care about the Ybus_ssc_not_controllable instead\u001b[39;00m\n\u001b[1;32m--> 308\u001b[0m J \u001b[38;5;241m=\u001b[39m \u001b[43mcreate_jacobian_matrix\u001b[49m\u001b[43m(\u001b[49m\u001b[43mYbus\u001b[49m\u001b[38;5;241;43m+\u001b[39;49m\u001b[43mYbus_ssc_not_controllable\u001b[49m\u001b[43m,\u001b[49m\u001b[43m \u001b[49m\u001b[43mV\u001b[49m\u001b[43m,\u001b[49m\u001b[43m \u001b[49m\u001b[43mref\u001b[49m\u001b[43m,\u001b[49m\u001b[43m \u001b[49m\u001b[43mrefpvpq\u001b[49m\u001b[43m,\u001b[49m\u001b[43m \u001b[49m\u001b[43mpvpq\u001b[49m\u001b[43m,\u001b[49m\u001b[43m \u001b[49m\u001b[43mpq\u001b[49m\u001b[43m,\u001b[49m\u001b[43m \u001b[49m\u001b[43mcreateJ\u001b[49m\u001b[43m,\u001b[49m\u001b[43m \u001b[49m\u001b[43mpvpq_lookup\u001b[49m\u001b[43m,\u001b[49m\u001b[43m \u001b[49m\u001b[43mnref\u001b[49m\u001b[43m,\u001b[49m\u001b[43m \u001b[49m\u001b[43mnpv\u001b[49m\u001b[43m,\u001b[49m\u001b[43m \u001b[49m\u001b[43mnpq\u001b[49m\u001b[43m,\u001b[49m\u001b[43m \u001b[49m\u001b[43mnumba\u001b[49m\u001b[43m,\u001b[49m\u001b[43m \u001b[49m\u001b[43mslack_weights\u001b[49m\u001b[43m,\u001b[49m\u001b[43m \u001b[49m\u001b[43mdist_slack\u001b[49m\u001b[43m)\u001b[49m\n\u001b[0;32m    310\u001b[0m \u001b[38;5;28;01mif\u001b[39;00m tdpf:\n\u001b[0;32m    311\u001b[0m     \u001b[38;5;66;03m# p.u. values for T, a1, a2, I, S\u001b[39;00m\n\u001b[0;32m    312\u001b[0m     \u001b[38;5;66;03m# todo: distributed_slack works fine if sn_mva is rather high (e.g. 1000), otherwise no convergence. Why?\u001b[39;00m\n\u001b[0;32m    313\u001b[0m     J \u001b[38;5;241m=\u001b[39m create_J_tdpf(branch, tdpf_lines, alpha_pu, r_ref_pu, refpvpq \u001b[38;5;28;01mif\u001b[39;00m dist_slack \u001b[38;5;28;01melse\u001b[39;00m pvpq, pq, pvpq_lookup,\n\u001b[0;32m    314\u001b[0m                       pq_lookup, tau, tdpf_delay_s, Vm, Va, r_theta_pu, J, r, x, g)\n",
      "File \u001b[1;32m~\\AppData\\Local\\Packages\\PythonSoftwareFoundation.Python.3.10_qbz5n2kfra8p0\\LocalCache\\local-packages\\Python310\\site-packages\\pandapower\\pf\\create_jacobian.py:97\u001b[0m, in \u001b[0;36mcreate_jacobian_matrix\u001b[1;34m(Ybus, V, ref, refpvpq, pvpq, pq, createJ, pvpq_lookup, nref, npv, npq, numba, slack_weights, dist_slack)\u001b[0m\n\u001b[0;32m     95\u001b[0m \u001b[38;5;28;01mdef\u001b[39;00m \u001b[38;5;21mcreate_jacobian_matrix\u001b[39m(Ybus, V, ref, refpvpq, pvpq, pq, createJ, pvpq_lookup, nref, npv, npq, numba, slack_weights, dist_slack):\n\u001b[0;32m     96\u001b[0m     \u001b[38;5;28;01mif\u001b[39;00m numba:\n\u001b[1;32m---> 97\u001b[0m         J \u001b[38;5;241m=\u001b[39m \u001b[43m_create_J_with_numba\u001b[49m\u001b[43m(\u001b[49m\u001b[43mYbus\u001b[49m\u001b[43m,\u001b[49m\u001b[43m \u001b[49m\u001b[43mV\u001b[49m\u001b[43m,\u001b[49m\u001b[43m \u001b[49m\u001b[43mrefpvpq\u001b[49m\u001b[43m,\u001b[49m\u001b[43m \u001b[49m\u001b[43mpvpq\u001b[49m\u001b[43m,\u001b[49m\u001b[43m \u001b[49m\u001b[43mpq\u001b[49m\u001b[43m,\u001b[49m\u001b[43m \u001b[49m\u001b[43mcreateJ\u001b[49m\u001b[43m,\u001b[49m\u001b[43m \u001b[49m\u001b[43mpvpq_lookup\u001b[49m\u001b[43m,\u001b[49m\u001b[43m \u001b[49m\u001b[43mnref\u001b[49m\u001b[43m,\u001b[49m\u001b[43m \u001b[49m\u001b[43mnpv\u001b[49m\u001b[43m,\u001b[49m\u001b[43m \u001b[49m\u001b[43mnpq\u001b[49m\u001b[43m,\u001b[49m\u001b[43m \u001b[49m\u001b[43mslack_weights\u001b[49m\u001b[43m,\u001b[49m\u001b[43m \u001b[49m\u001b[43mdist_slack\u001b[49m\u001b[43m)\u001b[49m\n\u001b[0;32m     98\u001b[0m     \u001b[38;5;28;01melse\u001b[39;00m:\n\u001b[0;32m     99\u001b[0m         J \u001b[38;5;241m=\u001b[39m _create_J_without_numba(Ybus, V, ref, pvpq, pq, slack_weights, dist_slack)\n",
      "File \u001b[1;32m~\\AppData\\Local\\Packages\\PythonSoftwareFoundation.Python.3.10_qbz5n2kfra8p0\\LocalCache\\local-packages\\Python310\\site-packages\\pandapower\\pf\\create_jacobian.py:52\u001b[0m, in \u001b[0;36m_create_J_with_numba\u001b[1;34m(Ybus, V, refpvpq, pvpq, pq, createJ, pvpq_lookup, nref, npv, npq, slack_weights, dist_slack)\u001b[0m\n\u001b[0;32m     50\u001b[0m \u001b[38;5;28;01melse\u001b[39;00m:\n\u001b[0;32m     51\u001b[0m     dimJ \u001b[38;5;241m=\u001b[39m npv \u001b[38;5;241m+\u001b[39m npq \u001b[38;5;241m+\u001b[39m npq\n\u001b[1;32m---> 52\u001b[0m J \u001b[38;5;241m=\u001b[39m \u001b[43msparse\u001b[49m\u001b[43m(\u001b[49m\u001b[43m(\u001b[49m\u001b[43mJx\u001b[49m\u001b[43m,\u001b[49m\u001b[43m \u001b[49m\u001b[43mJj\u001b[49m\u001b[43m,\u001b[49m\u001b[43m \u001b[49m\u001b[43mJp\u001b[49m\u001b[43m)\u001b[49m\u001b[43m,\u001b[49m\u001b[43m \u001b[49m\u001b[43mshape\u001b[49m\u001b[38;5;241;43m=\u001b[39;49m\u001b[43m(\u001b[49m\u001b[43mdimJ\u001b[49m\u001b[43m,\u001b[49m\u001b[43m \u001b[49m\u001b[43mdimJ\u001b[49m\u001b[43m)\u001b[49m\u001b[43m)\u001b[49m\n\u001b[0;32m     54\u001b[0m \u001b[38;5;28;01mreturn\u001b[39;00m J\n",
      "File \u001b[1;32m~\\AppData\\Local\\Packages\\PythonSoftwareFoundation.Python.3.10_qbz5n2kfra8p0\\LocalCache\\local-packages\\Python310\\site-packages\\scipy\\sparse\\_compressed.py:68\u001b[0m, in \u001b[0;36m_cs_matrix.__init__\u001b[1;34m(self, arg1, shape, dtype, copy)\u001b[0m\n\u001b[0;32m     66\u001b[0m \u001b[38;5;28;01mif\u001b[39;00m shape \u001b[38;5;129;01mis\u001b[39;00m \u001b[38;5;129;01mnot\u001b[39;00m \u001b[38;5;28;01mNone\u001b[39;00m:\n\u001b[0;32m     67\u001b[0m     maxval \u001b[38;5;241m=\u001b[39m \u001b[38;5;28mmax\u001b[39m(shape)\n\u001b[1;32m---> 68\u001b[0m idx_dtype \u001b[38;5;241m=\u001b[39m \u001b[38;5;28;43mself\u001b[39;49m\u001b[38;5;241;43m.\u001b[39;49m\u001b[43m_get_index_dtype\u001b[49m\u001b[43m(\u001b[49m\u001b[43m(\u001b[49m\u001b[43mindices\u001b[49m\u001b[43m,\u001b[49m\u001b[43m \u001b[49m\u001b[43mindptr\u001b[49m\u001b[43m)\u001b[49m\u001b[43m,\u001b[49m\n\u001b[0;32m     69\u001b[0m \u001b[43m                            \u001b[49m\u001b[43mmaxval\u001b[49m\u001b[38;5;241;43m=\u001b[39;49m\u001b[43mmaxval\u001b[49m\u001b[43m,\u001b[49m\n\u001b[0;32m     70\u001b[0m \u001b[43m                            \u001b[49m\u001b[43mcheck_contents\u001b[49m\u001b[38;5;241;43m=\u001b[39;49m\u001b[38;5;28;43;01mTrue\u001b[39;49;00m\u001b[43m)\u001b[49m\n\u001b[0;32m     72\u001b[0m \u001b[38;5;28;01mif\u001b[39;00m \u001b[38;5;129;01mnot\u001b[39;00m copy:\n\u001b[0;32m     73\u001b[0m     copy \u001b[38;5;241m=\u001b[39m copy_if_needed\n",
      "File \u001b[1;32m~\\AppData\\Local\\Packages\\PythonSoftwareFoundation.Python.3.10_qbz5n2kfra8p0\\LocalCache\\local-packages\\Python310\\site-packages\\scipy\\sparse\\_base.py:1349\u001b[0m, in \u001b[0;36m_spbase._get_index_dtype\u001b[1;34m(self, arrays, maxval, check_contents)\u001b[0m\n\u001b[0;32m   1346\u001b[0m \u001b[38;5;28;01mfrom\u001b[39;00m \u001b[38;5;21;01m.\u001b[39;00m\u001b[38;5;21;01m_sputils\u001b[39;00m \u001b[38;5;28;01mimport\u001b[39;00m get_index_dtype\n\u001b[0;32m   1348\u001b[0m \u001b[38;5;66;03m# Don't check contents for array API\u001b[39;00m\n\u001b[1;32m-> 1349\u001b[0m \u001b[38;5;28;01mreturn\u001b[39;00m \u001b[43mget_index_dtype\u001b[49m\u001b[43m(\u001b[49m\u001b[43marrays\u001b[49m\u001b[43m,\u001b[49m\n\u001b[0;32m   1350\u001b[0m \u001b[43m                       \u001b[49m\u001b[43mmaxval\u001b[49m\u001b[43m,\u001b[49m\n\u001b[0;32m   1351\u001b[0m \u001b[43m                       \u001b[49m\u001b[43m(\u001b[49m\u001b[43mcheck_contents\u001b[49m\u001b[43m \u001b[49m\u001b[38;5;129;43;01mand\u001b[39;49;00m\u001b[43m \u001b[49m\u001b[38;5;129;43;01mnot\u001b[39;49;00m\u001b[43m \u001b[49m\u001b[38;5;28;43misinstance\u001b[39;49m\u001b[43m(\u001b[49m\u001b[38;5;28;43mself\u001b[39;49m\u001b[43m,\u001b[49m\u001b[43m \u001b[49m\u001b[43msparray\u001b[49m\u001b[43m)\u001b[49m\u001b[43m)\u001b[49m\u001b[43m)\u001b[49m\n",
      "File \u001b[1;32m~\\AppData\\Local\\Packages\\PythonSoftwareFoundation.Python.3.10_qbz5n2kfra8p0\\LocalCache\\local-packages\\Python310\\site-packages\\scipy\\sparse\\_sputils.py:193\u001b[0m, in \u001b[0;36mget_index_dtype\u001b[1;34m(arrays, maxval, check_contents)\u001b[0m\n\u001b[0;32m    191\u001b[0m \u001b[38;5;28;01melif\u001b[39;00m np\u001b[38;5;241m.\u001b[39missubdtype(arr\u001b[38;5;241m.\u001b[39mdtype, np\u001b[38;5;241m.\u001b[39minteger):\n\u001b[0;32m    192\u001b[0m     maxval \u001b[38;5;241m=\u001b[39m arr\u001b[38;5;241m.\u001b[39mmax()\n\u001b[1;32m--> 193\u001b[0m     minval \u001b[38;5;241m=\u001b[39m \u001b[43marr\u001b[49m\u001b[38;5;241;43m.\u001b[39;49m\u001b[43mmin\u001b[49m\u001b[43m(\u001b[49m\u001b[43m)\u001b[49m\n\u001b[0;32m    194\u001b[0m     \u001b[38;5;28;01mif\u001b[39;00m minval \u001b[38;5;241m>\u001b[39m\u001b[38;5;241m=\u001b[39m int32min \u001b[38;5;129;01mand\u001b[39;00m maxval \u001b[38;5;241m<\u001b[39m\u001b[38;5;241m=\u001b[39m int32max:\n\u001b[0;32m    195\u001b[0m         \u001b[38;5;66;03m# a bigger type not needed\u001b[39;00m\n\u001b[0;32m    196\u001b[0m         \u001b[38;5;28;01mcontinue\u001b[39;00m\n",
      "File \u001b[1;32m~\\AppData\\Local\\Packages\\PythonSoftwareFoundation.Python.3.10_qbz5n2kfra8p0\\LocalCache\\local-packages\\Python310\\site-packages\\numpy\\core\\_methods.py:45\u001b[0m, in \u001b[0;36m_amin\u001b[1;34m(a, axis, out, keepdims, initial, where)\u001b[0m\n\u001b[0;32m     43\u001b[0m \u001b[38;5;28;01mdef\u001b[39;00m \u001b[38;5;21m_amin\u001b[39m(a, axis\u001b[38;5;241m=\u001b[39m\u001b[38;5;28;01mNone\u001b[39;00m, out\u001b[38;5;241m=\u001b[39m\u001b[38;5;28;01mNone\u001b[39;00m, keepdims\u001b[38;5;241m=\u001b[39m\u001b[38;5;28;01mFalse\u001b[39;00m,\n\u001b[0;32m     44\u001b[0m           initial\u001b[38;5;241m=\u001b[39m_NoValue, where\u001b[38;5;241m=\u001b[39m\u001b[38;5;28;01mTrue\u001b[39;00m):\n\u001b[1;32m---> 45\u001b[0m     \u001b[38;5;28;01mreturn\u001b[39;00m \u001b[43mumr_minimum\u001b[49m\u001b[43m(\u001b[49m\u001b[43ma\u001b[49m\u001b[43m,\u001b[49m\u001b[43m \u001b[49m\u001b[43maxis\u001b[49m\u001b[43m,\u001b[49m\u001b[43m \u001b[49m\u001b[38;5;28;43;01mNone\u001b[39;49;00m\u001b[43m,\u001b[49m\u001b[43m \u001b[49m\u001b[43mout\u001b[49m\u001b[43m,\u001b[49m\u001b[43m \u001b[49m\u001b[43mkeepdims\u001b[49m\u001b[43m,\u001b[49m\u001b[43m \u001b[49m\u001b[43minitial\u001b[49m\u001b[43m,\u001b[49m\u001b[43m \u001b[49m\u001b[43mwhere\u001b[49m\u001b[43m)\u001b[49m\n",
      "\u001b[1;31mKeyboardInterrupt\u001b[0m: "
     ]
    }
   ],
   "source": [
    "N = 1000\n",
    "batch = range(45, len(loads_df)+1)\n",
    "\n",
    "# batch_loads = {}\n",
    "# batch_bus = {}\n",
    "max_batch = 0\n",
    "for b in batch:\n",
    "    for i in range(N):\n",
    "        sample_loads = loads_df.sample(b)\n",
    "\n",
    "        net.asymmetric_load.drop(net.asymmetric_load.index, inplace=True)\n",
    "        for _, row in sample_loads.iterrows():\n",
    "            # print(_, '->', row)\n",
    "            bus_id = math.floor(row['Bus'])\n",
    "            pa = qa = pb = qb = pc = qc = 0\n",
    "            if (bus_id in bus_map) & (row['phases'] in {'A', 'B', 'C'}):\n",
    "                if row['phases']=='A':\n",
    "                    pa = row['kW']\n",
    "                    qa = row['kW'] * np.tan(np.arccos(row['PF']))\n",
    "                elif row['phases']=='B':\n",
    "                    pb = row['kW']\n",
    "                    qb = row['kW'] * np.tan(np.arccos(row['PF']))\n",
    "                else: # row['phases']=='C'\n",
    "                    pc = row['kW']\n",
    "                    qc = row['kW'] * np.tan(np.arccos(row['PF']))\n",
    "                load = pp.create_asymmetric_load(\n",
    "                    net, bus=bus_map[bus_id],\n",
    "                    p_a_mw=pa, q_a_mvar=qa,\n",
    "                    p_b_mw=pb, q_b_mvar=qb,\n",
    "                    p_c_mw=pc, q_c_mvar=qc,\n",
    "                    name=row['Name']\n",
    "                )\n",
    "\n",
    "        if debug_result(net, init='flat'):\n",
    "            # batch_loads[b] = list(net.asymmetric_load['name'])\n",
    "            # batch_bus[b] = list(net.asymmetric_load['bus'])\n",
    "            max_batch = b\n",
    "            break\n",
    "\n",
    "from pandapower.file_io import to_json\n",
    "\n",
    "# to_json(net, os.path.join(data_dir, \"{max_batch}_loads_network.json\"))"
   ]
  },
  {
   "cell_type": "code",
   "execution_count": null,
   "id": "68691904",
   "metadata": {},
   "outputs": [],
   "source": [
    "import pandapower.networks as pn\n",
    "import pandapower as pp\n",
    "offpeak_net = pn.ieee_european_lv_asymmetric('on_peak_566')\n",
    "\n",
    "pp.runpp_3ph(\n",
    "    offpeak_net, init='auto',\n",
    "    max_iteration=100,\n",
    "    tolerance_mva=1e-8,\n",
    "    calc_voltage_angles=True,\n",
    "    v_debug=True\n",
    ")"
   ]
  },
  {
   "cell_type": "code",
   "execution_count": null,
   "id": "570fb676",
   "metadata": {},
   "outputs": [
    {
     "data": {
      "text/plain": [
       "False"
      ]
     },
     "execution_count": 5,
     "metadata": {},
     "output_type": "execute_result"
    }
   ],
   "source": [
    "hc_violation(offpeak_net, mod='sto')"
   ]
  },
  {
   "cell_type": "code",
   "execution_count": null,
   "id": "6655ee7c",
   "metadata": {},
   "outputs": [
    {
     "name": "stdout",
     "output_type": "stream",
     "text": [
      "0    0.001\n",
      "Name: p_a_mw, dtype: float64\n"
     ]
    },
    {
     "name": "stderr",
     "output_type": "stream",
     "text": [
      "C:\\Users\\vitor\\AppData\\Local\\Temp\\ipykernel_17036\\202462447.py:14: FutureWarning: The behavior of DataFrame concatenation with empty or all-NA entries is deprecated. In a future version, this will no longer exclude empty or all-NA columns when determining the result dtypes. To retain the old behavior, exclude the relevant entries before the concat operation.\n",
      "  vm_pu = pd.concat([vm_pu, new_row], ignore_index=True)\n"
     ]
    }
   ],
   "source": [
    "farthest_load_net = from_json(os.path.join(data_dir, \"farthest_load_network.json\"))\n",
    "print(farthest_load_net.asymmetric_load.p_a_mw)\n",
    "\n",
    "inc = 5e-5\n",
    "success = True\n",
    "vm_pu = pd.DataFrame(columns=['p_a_mw', 'vm_a_pu', 'vm_b_pu', 'vm_c_pu'])\n",
    "while success:\n",
    "    # print(farthest_load_net.asymmetric_load.p_a_mw)\n",
    "    if debug_result(farthest_load_net, init='flat'):\n",
    "        new_row = pd.concat([\n",
    "            farthest_load_net.asymmetric_load.p_a_mw,\n",
    "            farthest_load_net.res_bus_3ph.loc[farthest_load_net.asymmetric_load.bus, ['vm_a_pu', 'vm_b_pu', 'vm_c_pu']].reset_index(drop=True)\n",
    "        ], axis=1)\n",
    "        vm_pu = pd.concat([vm_pu, new_row], ignore_index=True)\n",
    "\n",
    "        farthest_load_net.asymmetric_load.p_a_mw += inc\n",
    "    else:\n",
    "        success = False"
   ]
  },
  {
   "cell_type": "code",
   "execution_count": null,
   "id": "61f4b92a",
   "metadata": {},
   "outputs": [
    {
     "data": {
      "image/png": "[encoded data removed]",
      "text/plain": [
       "<Figure size 1000x600 with 1 Axes>"
      ]
     },
     "metadata": {},
     "output_type": "display_data"
    }
   ],
   "source": [
    "import matplotlib.pyplot as plt\n",
    "plt.figure(figsize=(10, 6))\n",
    "\n",
    "plt.fill_between(vm_pu['p_a_mw']*1000,\n",
    "                 y1=vm_pu['vm_a_pu'].max(), y2=0.95,\n",
    "                #  where=vm_pu['vm_a_pu'] < 0.95, \n",
    "                 interpolate=True, color='green', alpha=0.1)\n",
    "plt.fill_between(vm_pu['p_a_mw']*1000,\n",
    "                 y1=0.95, y2=0.9,\n",
    "                #  where=vm_pu['vm_a_pu'] < 0.95, \n",
    "                 interpolate=True, color='red', alpha=0.1)\n",
    "plt.fill_between(vm_pu['p_a_mw']*1000,\n",
    "                 y1=0.9, y2=vm_pu['vm_a_pu'].min(),\n",
    "                #  where=vm_pu['vm_a_pu'] < 0.95, \n",
    "                 interpolate=True, color='darkred', alpha=0.2)\n",
    "plt.hlines(y=0.95, xmin=vm_pu['p_a_mw'].min()*1000,\n",
    "           xmax=vm_pu['p_a_mw'].max()*1000, color='red', linestyle='--', label='Limit 0.95 pu')\n",
    "plt.hlines(y=0.9, xmin=vm_pu['p_a_mw'].min()*1000,\n",
    "           xmax=vm_pu['p_a_mw'].max()*1000, color='darkred', linestyle='--', label='Limit 0.90 pu')\n",
    "\n",
    "plt.plot(vm_pu['p_a_mw']*1000, vm_pu['vm_a_pu'], label='Va (pu)', marker='o')\n",
    "plt.title('Voltage Deviation with Increasing Load from Farthest Bus')\n",
    "plt.xlabel('Load (kW)')\n",
    "plt.ylabel('Voltage Magnitude (pu)')\n",
    "plt.legend()\n",
    "\n",
    "plt.savefig(os.path.join('images', 'farthest_load_X_voltage.png'))"
   ]
  },
  {
   "cell_type": "code",
   "execution_count": null,
   "id": "bee8a8af",
   "metadata": {},
   "outputs": [
    {
     "data": {
      "text/plain": [
       "This pandapower network includes the following parameter tables:\n",
       "   - bus (117 elements)\n",
       "   - asymmetric_load (54 elements)\n",
       "   - shunt (1 element)\n",
       "   - ext_grid (1 element)\n",
       "   - line (115 elements)\n",
       "   - trafo (1 element)\n",
       " and the following results tables:\n",
       "   - res_bus_3ph (117 elements)\n",
       "   - res_line_3ph (115 elements)\n",
       "   - res_trafo_3ph (1 element)\n",
       "   - res_ext_grid_3ph (1 element)\n",
       "   - res_shunt_3ph (1 element)"
      ]
     },
     "execution_count": 53,
     "metadata": {},
     "output_type": "execute_result"
    }
   ],
   "source": [
    "net54 = from_json(os.path.join(data_dir, '54_loads_network.json'))\n",
    "\n",
    "pd.DataFrame(net54.asymmetric_load).sort_values(by='bus')\n",
    "net54"
   ]
  }
 ],
 "metadata": {
  "kernelspec": {
   "display_name": "Python 3",
   "language": "python",
   "name": "python3"
  },
  "language_info": {
   "codemirror_mode": {
    "name": "ipython",
    "version": 3
   },
   "file_extension": ".py",
   "mimetype": "text/x-python",
   "name": "python",
   "nbconvert_exporter": "python",
   "pygments_lexer": "ipython3",
   "version": "3.12.8"
  }
 },
 "nbformat": 4,
 "nbformat_minor": 5
}
